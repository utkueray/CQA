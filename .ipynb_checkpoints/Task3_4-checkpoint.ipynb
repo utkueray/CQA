{
 "cells": [
  {
   "cell_type": "code",
   "execution_count": 1,
   "metadata": {},
   "outputs": [],
   "source": [
    "import numpy as np\n",
    "import heapq\n",
    "from operator import itemgetter\n",
    "import numpy.linalg as LA\n",
    "import xml.etree.ElementTree as et, pandas as pd, re\n",
    "from bs4 import BeautifulSoup\n",
    "import gensim\n",
    "from markdown import markdown\n",
    "import matplotlib.pyplot as plt\n",
    "%matplotlib inline"
   ]
  },
  {
   "cell_type": "code",
   "execution_count": 2,
   "metadata": {},
   "outputs": [],
   "source": [
    "xtree = et.parse('Posts.xml')\n",
    "\n",
    "xroot = xtree.getroot()\n",
    "\n",
    "dfCols = [\"Closed Date\", \"Favorite Count\", \"Comment Count\", \"Answer Count\", \"Tags\", \"Title\",\n",
    "          \"Last Activity Date\", \"Owner User ID\", \"Body\", \"View Count\", \"Score\", \"Creation Date\", \"Post Type ID\", \n",
    "          \"ID\", \"Parent ID\", \"Last Edit Date\", \"Last Editor User ID\", \"Accepted Answer ID\"]\n",
    "dfRows = []"
   ]
  },
  {
   "cell_type": "code",
   "execution_count": 3,
   "metadata": {},
   "outputs": [],
   "source": [
    "for node in xroot:\n",
    "    closedDate = node.attrib.get(\"ClosedDate\")\n",
    "    favCount = node.attrib.get(\"FavoriteCount\")\n",
    "    commentCount = node.attrib.get(\"CommentCount\")\n",
    "    ansCount = node.attrib.get(\"AnswerCount\")\n",
    "    tags = node.attrib.get(\"Tags\")\n",
    "    title = node.attrib.get(\"Title\")\n",
    "    lastActDate = node.attrib.get(\"LastActivityDate\")\n",
    "    ownerUserID = node.attrib.get(\"OwnerUserId\")\n",
    "    body = node.attrib.get(\"Body\")\n",
    "    viewCount = node.attrib.get(\"ViewCount\") \n",
    "    score = node.attrib.get(\"Score\") \n",
    "    creationDate = node.attrib.get(\"CreationDate\") \n",
    "    postTypeID = node.attrib.get(\"PostTypeId\") \n",
    "    ID = node.attrib.get(\"Id\") \n",
    "    parentID = node.attrib.get(\"ParentId\") \n",
    "    lastEditDate = node.attrib.get(\"LastEditDate\") \n",
    "    lastEditorUserID = node.attrib.get(\"LastEditorUserId\") \n",
    "    acceptedAnswerID = node.attrib.get(\"AcceptedAnswerID\")\n",
    "    \n",
    "    dfRows.append({\"Closed Date\": closedDate, \"Favorite Count\": favCount, \"Comment Count\": commentCount,\n",
    "                     \"Answer Count\": ansCount, \"Tags\": tags, \"Title\": title, \"Last Activity Date\": lastActDate,\n",
    "                     \"Owner User ID\": ownerUserID, \"Body\": body, \"View Count\": viewCount, \"Score\": score, \n",
    "                    \"Creation Date\": creationDate, \"Post Type ID\": postTypeID, \"ID\": ID, \"Parent ID\": parentID,\n",
    "                    \"Last Edit Date\": lastEditDate, \"Last Editor User ID\": lastEditorUserID, \"Accepted Answer ID\": acceptedAnswerID})"
   ]
  },
  {
   "cell_type": "code",
   "execution_count": 4,
   "metadata": {
    "scrolled": true
   },
   "outputs": [
    {
     "data": {
      "text/plain": [
       "<bound method NDFrame.head of           ID Creation Date                                               Tags  \\\n",
       "0          1    2016/08/02  <neural-networks><backpropagation><terminology...   \n",
       "1          2    2016/08/02  <neural-networks><machine-learning><statistica...   \n",
       "3          4    2016/08/02                    <deep-network><search><neurons>   \n",
       "4          5    2016/08/02                               <python><mindstorms>   \n",
       "5          6    2016/08/02       <philosophy><definitions><intelligent-agent>   \n",
       "6          7    2016/08/02                                <intelligent-agent>   \n",
       "9         10    2016/08/02           <deep-network><terminology><fuzzy-logic>   \n",
       "12        13    2016/08/02               <neural-networks><image-recognition>   \n",
       "14        15    2016/08/02  <turing-test><strong-ai><intelligent-agent><we...   \n",
       "15        16    2016/08/02  <deep-learning><definitions><overfitting><regu...   \n",
       "16        17    2016/08/02  <philosophy><definitions><agi><superintelligen...   \n",
       "20        21    2016/08/02          <deep-network><overfitting><optimization>   \n",
       "25        26    2016/08/02              <turing-test><emotional-intelligence>   \n",
       "27        28    2016/08/02      <philosophy><genetic-algorithms><terminology>   \n",
       "33        35    2016/08/02        <machine-learning><terminology><comparison>   \n",
       "34        36    2016/08/02                                <quantum-computing>   \n",
       "35        37    2016/08/02    <genetic-algorithms><markov-chain><probability>   \n",
       "38        40    2016/08/02           <deep-network><overfitting><performance>   \n",
       "39        41    2016/08/02                             <intelligence-testing>   \n",
       "40        42    2016/08/02                                    <hidden-layers>   \n",
       "44        46    2016/08/02                                          <history>   \n",
       "48        50    2016/08/02                     <deep-network><generalization>   \n",
       "50        52    2016/08/02  <neural-networks><reinforcement-learning><deep...   \n",
       "52        54    2016/08/02                                      <game-theory>   \n",
       "56        58    2016/08/02                             <terminology><history>   \n",
       "57        60    2016/08/02                                 <machine-learning>   \n",
       "60        63    2016/08/02                      <deep-network><hidden-layers>   \n",
       "61        64    2016/08/02                                          <history>   \n",
       "64        67    2016/08/02                          <models><problem-solving>   \n",
       "65        68    2016/08/02                               <genetic-algorithms>   \n",
       "...      ...           ...                                                ...   \n",
       "13760  18273    2020/02/27  <computer-vision><yolo><darknet><ml-model><con...   \n",
       "13763  18276    2020/02/27  <machine-learning><backpropagation><papers><re...   \n",
       "13764  18277    2020/02/27  <machine-learning><deep-learning><keras><machi...   \n",
       "13765  18278    2020/02/27  <reinforcement-learning><math><proofs><converg...   \n",
       "13769  18282    2020/02/27  <reinforcement-learning><proofs><convergence><...   \n",
       "13770  18283    2020/02/27  <reinforcement-learning><q-learning><convergence>   \n",
       "13773  18286    2020/02/27  <machine-learning><deep-learning><convolutiona...   \n",
       "13775  18288    2020/02/27    <reinforcement-learning><q-learning><math><dqn>   \n",
       "13776  18289    2020/02/28  <reinforcement-learning><ai-design><q-learning...   \n",
       "13777  18290    2020/02/28  <philosophy><intelligent-agent><intelligence><...   \n",
       "13778  18291    2020/02/28  <reinforcement-learning><ai-design><tensorflow...   \n",
       "13780  18293    2020/02/28  <deep-learning><convolutional-neural-networks>...   \n",
       "13782  18296    2020/02/28                                           <python>   \n",
       "13783  18297    2020/02/28  <neural-networks><machine-learning><game-ai><g...   \n",
       "13784  18298    2020/02/28  <training><computer-vision><object-detection><...   \n",
       "13785  18299    2020/02/28  <deep-learning><geometric-deep-learning><graph...   \n",
       "13789  18303    2020/02/28                              <social><computation>   \n",
       "13792  18306    2020/02/28  <deep-learning><time-series><sequence-modellin...   \n",
       "13795  18310    2020/02/28  <search><proofs><heuristics><admissible-heuris...   \n",
       "13798  18313    2020/02/28                 <python><speech-synthesis><speech>   \n",
       "13801  18317    2020/02/28                    <convolutional-neural-networks>   \n",
       "13803  18319    2020/02/28  <machine-learning><generative-adversarial-netw...   \n",
       "13804  18320    2020/02/29  <reinforcement-learning><applications><real-time>   \n",
       "13806  18323    2020/02/29             <machine-learning><recommender-system>   \n",
       "13807  18324    2020/02/29                 <classification><cross-validation>   \n",
       "13808  18325    2020/02/29                                    <deep-learning>   \n",
       "13809  18326    2020/02/29  <machine-learning><datasets><machine-translation>   \n",
       "13815  18332    2020/02/29  <machine-learning><reinforcement-learning><mar...   \n",
       "13817  18334    2020/02/29  <convolutional-neural-networks><object-detection>   \n",
       "13818  18336    2020/03/01                      <machine-learning><math><svm>   \n",
       "\n",
       "                                                   Title  \\\n",
       "0                                    What is \"backprop\"?   \n",
       "1                  How does noise affect generalization?   \n",
       "3      How to find the optimal number of neurons per ...   \n",
       "4                        How to program AI in Mindstorms   \n",
       "5      Are humans intelligent according to the defini...   \n",
       "6      Why does Stephen Hawking say \"Artificial Intel...   \n",
       "9                                   What is fuzzy logic?   \n",
       "12     Can a single neural network handle recognizing...   \n",
       "14     Is the Turing Test, or any of its variants, a ...   \n",
       "15         What is \"early stopping\" in machine learning?   \n",
       "16     What is the concept of the technological singu...   \n",
       "20     What are the methods of optimizing overfitted ...   \n",
       "25      How could emotional intelligence be implemented?   \n",
       "27     Is a genetic algorithm an example of artificia...   \n",
       "33     What is the difference between artificial inte...   \n",
       "34     To what extent can quantum computers help to d...   \n",
       "35     What is a Markov chain and how can it be used ...   \n",
       "38                      What is the \"dropout\" technique?   \n",
       "39              Can the IQ of an AI program be measured?   \n",
       "40             What is the purpose of the hidden layers?   \n",
       "44     When did Artificial Intelligence research firs...   \n",
       "48            How can generalization error be estimated?   \n",
       "50     Is it possible to implement reinforcement lear...   \n",
       "52     Does the recent advent of a Go playing compute...   \n",
       "56     Who first coined the term Artificial Intellige...   \n",
       "57     What are the main problems hindering current A...   \n",
       "60     What kind of problems require more than 2 hidd...   \n",
       "61     What were the first areas of research and what...   \n",
       "64         What are the real world uses for SAT solvers?   \n",
       "65     What genetic algorithm designs are there that ...   \n",
       "...                                                  ...   \n",
       "13760  YOLOv3 Model Structure: Why is filters = (clas...   \n",
       "13763  How is the gradient with respect to weights de...   \n",
       "13764  How can I deploy a Keras machine translation m...   \n",
       "13765  What are the conditions for the convergence of...   \n",
       "13769  Does SARSA(0) converge to the optimal policy i...   \n",
       "13770  Is there an advantage in decaying $\\epsilon$ d...   \n",
       "13773   Why my network overfits on the CIFAR-10 dataset?   \n",
       "13775  How is the expected value in the loss function...   \n",
       "13776  How should I define the state space for this l...   \n",
       "13777  How do we define intention if there is no free...   \n",
       "13778                      AI Logistic center simulation   \n",
       "13780  Is it legal to construct a public image databa...   \n",
       "13782  How to create Create and set virtual environme...   \n",
       "13783       Using ML for Enemy Generation in Video Games   \n",
       "13784    What are the reasons behind slow YOLO training?   \n",
       "13785  Suitable deep learning algorithms for spatial ...   \n",
       "13789  Is a dystopian surveillance state computationa...   \n",
       "13792  What's the best method to predict/generate sig...   \n",
       "13795  Is the summation of consistent heuristic funct...   \n",
       "13798  Can an AI use your polyphonic natural sounds t...   \n",
       "13801  How do 3 channels affect a network when detect...   \n",
       "13803  GANs: Should Generator update weights when Dis...   \n",
       "13804  Is reinforcement learning suited for real-time...   \n",
       "13806  How to model personalized threshold problem wi...   \n",
       "13807  Different results obtained for OneVsOneClassif...   \n",
       "13808       Why gradients are so small in deep learning?   \n",
       "13809  How to do machine translation with no labeled ...   \n",
       "13815  In the Markov chain, how are the directions to...   \n",
       "13817  How to adapt MTCNN to large images with relati...   \n",
       "13818  What are the variables used in a Gaussian radi...   \n",
       "\n",
       "                                                    Body  \\\n",
       "0      <p>What does \"backprop\" mean? Is the \"backprop...   \n",
       "1      <p>Does increasing the noise in data help to i...   \n",
       "3      <p>When you're writing your algorithm, how do ...   \n",
       "4      <p>I have a LEGO Mindstorms EV3 and I'm wonder...   \n",
       "5      <p>Given the following definition of an intell...   \n",
       "6      <p>This quote by Stephen Hawking has been in h...   \n",
       "9      <p>I'm new to A.I. and I'd like to know in sim...   \n",
       "12     <p>In particular, an embedded computer (with l...   \n",
       "14     <p>The <a href=\"https://en.wikipedia.org/wiki/...   \n",
       "15     <p>What is <a href=\"https://en.wikipedia.org/w...   \n",
       "16     <p>I've heard the idea of the technological si...   \n",
       "20     <p>I'm worrying that my network has become too...   \n",
       "25     <p>I've seen emotional intelligence defined as...   \n",
       "27     <p>Since human intelligence presumably is a fu...   \n",
       "33     <p>These two terms seem to be related, especia...   \n",
       "34     <p>What aspects of quantum computers, if any, ...   \n",
       "35     <p>I believe a Markov chain is a sequence of e...   \n",
       "38     <p>What purpose does the \"dropout\" method serv...   \n",
       "39     <p>Can an AI program have an IQ?</p>\\n\\n<p>In ...   \n",
       "40     <p>Why would anybody want to use \"hidden layer...   \n",
       "44     <p>When did research into Artificial Intellige...   \n",
       "48     <p>How would you estimate the generalisation e...   \n",
       "50     <p>I've implemented <a href=\"https://en.wikipe...   \n",
       "52     <p>I read that in the spring of 2016 a compute...   \n",
       "56     <p>Who first coined the term Artificial Intell...   \n",
       "57     <p>I have a background in Computer Engineering...   \n",
       "60     <p>I've read that the most of the problems can...   \n",
       "61     <p>What were the first areas of research into ...   \n",
       "64     <p>Why somebody would use SAT solvers (<a href...   \n",
       "65     <p>What designs for genetic algorithms are the...   \n",
       "...                                                  ...   \n",
       "13760  <p>Here's a tutorial about doing custom traini...   \n",
       "13763  <p>This is a <a href=\"https://stats.stackexcha...   \n",
       "13764  <p>I want to deploy a machine translation syst...   \n",
       "13765  <p>Is it correct that for SARSA to converge to...   \n",
       "13769  <p>The conditions of convergence of SARSA(0) t...   \n",
       "13770  <p>If the agent is following an <span class=\"m...   \n",
       "13773  <p>I built the following network architecture:...   \n",
       "13775  <p>In <a href=\"https://www.cs.toronto.edu/~vmn...   \n",
       "13776  <p>I would like to ask for a piece of advice w...   \n",
       "13777  <p>There is an idea that intentionality may be...   \n",
       "13778  <p><img src=\"https://i.stack.imgur.com/k2fyw.j...   \n",
       "13780  <p>I am trying to put together a public agricu...   \n",
       "13782  <p>I am new in python and pycharm. how i can c...   \n",
       "13783  <p>I am attempting to make a 2-D platformer ga...   \n",
       "13784  <p>I'm testing out YOLOv3 using the 'darknet' ...   \n",
       "13785  <p>I have a task of classifying spatial data f...   \n",
       "13789  <p>This isn't really a conspiracy theory quest...   \n",
       "13792  <p>I was wondering what is the best method out...   \n",
       "13795  <p>Imagine that we have a set of heuristic fun...   \n",
       "13798  <p>I've found this <a href=\"https://github.com...   \n",
       "13801  <p>Yeah I know, best title ever. Anyway,</p>\\n...   \n",
       "13803  <p>My GANs is like this:</p>\\n\\n<ul>\\n<li>Trai...   \n",
       "13804  <p>From what I have seen, any results involvin...   \n",
       "13806  <p>Assume that I have a candidate selection sy...   \n",
       "13807  <p>When I fitted a OneVsOneClassifier (or OneV...   \n",
       "13808  <p>The learning rate in my model is <code>0.00...   \n",
       "13809  <p>Can it be possible to train a neural networ...   \n",
       "13815  <p>I'm watching the David Silver series on YT ...   \n",
       "13817  <p>This question could be generalised to how t...   \n",
       "13818  <p>If I have the Gaussian kernel</p>\\n\\n<p><sp...   \n",
       "\n",
       "                                                   Words  \n",
       "0      What is \"backprop\"? <p>What does \"backprop\" me...  \n",
       "1      How does noise affect generalization? <p>Does ...  \n",
       "3      How to find the optimal number of neurons per ...  \n",
       "4      How to program AI in Mindstorms <p>I have a LE...  \n",
       "5      Are humans intelligent according to the defini...  \n",
       "6      Why does Stephen Hawking say \"Artificial Intel...  \n",
       "9      What is fuzzy logic? <p>I'm new to A.I. and I'...  \n",
       "12     Can a single neural network handle recognizing...  \n",
       "14     Is the Turing Test, or any of its variants, a ...  \n",
       "15     What is \"early stopping\" in machine learning? ...  \n",
       "16     What is the concept of the technological singu...  \n",
       "20     What are the methods of optimizing overfitted ...  \n",
       "25     How could emotional intelligence be implemente...  \n",
       "27     Is a genetic algorithm an example of artificia...  \n",
       "33     What is the difference between artificial inte...  \n",
       "34     To what extent can quantum computers help to d...  \n",
       "35     What is a Markov chain and how can it be used ...  \n",
       "38     What is the \"dropout\" technique? <p>What purpo...  \n",
       "39     Can the IQ of an AI program be measured? <p>Ca...  \n",
       "40     What is the purpose of the hidden layers? <p>W...  \n",
       "44     When did Artificial Intelligence research firs...  \n",
       "48     How can generalization error be estimated? <p>...  \n",
       "50     Is it possible to implement reinforcement lear...  \n",
       "52     Does the recent advent of a Go playing compute...  \n",
       "56     Who first coined the term Artificial Intellige...  \n",
       "57     What are the main problems hindering current A...  \n",
       "60     What kind of problems require more than 2 hidd...  \n",
       "61     What were the first areas of research and what...  \n",
       "64     What are the real world uses for SAT solvers? ...  \n",
       "65     What genetic algorithm designs are there that ...  \n",
       "...                                                  ...  \n",
       "13760  YOLOv3 Model Structure: Why is filters = (clas...  \n",
       "13763  How is the gradient with respect to weights de...  \n",
       "13764  How can I deploy a Keras machine translation m...  \n",
       "13765  What are the conditions for the convergence of...  \n",
       "13769  Does SARSA(0) converge to the optimal policy i...  \n",
       "13770  Is there an advantage in decaying $\\epsilon$ d...  \n",
       "13773  Why my network overfits on the CIFAR-10 datase...  \n",
       "13775  How is the expected value in the loss function...  \n",
       "13776  How should I define the state space for this l...  \n",
       "13777  How do we define intention if there is no free...  \n",
       "13778  AI Logistic center simulation <p><img src=\"htt...  \n",
       "13780  Is it legal to construct a public image databa...  \n",
       "13782  How to create Create and set virtual environme...  \n",
       "13783  Using ML for Enemy Generation in Video Games <...  \n",
       "13784  What are the reasons behind slow YOLO training...  \n",
       "13785  Suitable deep learning algorithms for spatial ...  \n",
       "13789  Is a dystopian surveillance state computationa...  \n",
       "13792  What's the best method to predict/generate sig...  \n",
       "13795  Is the summation of consistent heuristic funct...  \n",
       "13798  Can an AI use your polyphonic natural sounds t...  \n",
       "13801  How do 3 channels affect a network when detect...  \n",
       "13803  GANs: Should Generator update weights when Dis...  \n",
       "13804  Is reinforcement learning suited for real-time...  \n",
       "13806  How to model personalized threshold problem wi...  \n",
       "13807  Different results obtained for OneVsOneClassif...  \n",
       "13808  Why gradients are so small in deep learning? <...  \n",
       "13809  How to do machine translation with no labeled ...  \n",
       "13815  In the Markov chain, how are the directions to...  \n",
       "13817  How to adapt MTCNN to large images with relati...  \n",
       "13818  What are the variables used in a Gaussian radi...  \n",
       "\n",
       "[5805 rows x 6 columns]>"
      ]
     },
     "execution_count": 4,
     "metadata": {},
     "output_type": "execute_result"
    }
   ],
   "source": [
    "out = pd.DataFrame(dfRows, columns=dfCols)\n",
    "\n",
    "out = out.fillna(0)\n",
    "\n",
    "out['Creation Date'] = pd.to_datetime(out['Creation Date'])\n",
    "out['Creation Date'] = out['Creation Date'].dt.strftime('%Y/%m/%d')\n",
    "out['Comment Count'] = out['Comment Count'].astype(int)\n",
    "out['Owner User ID'] = out['Owner User ID'].astype(int)\n",
    "out['Post Type ID'] = out['Post Type ID'].astype(int)\n",
    "out['Score'] = out['Score'].astype(int)\n",
    "out['Favorite Count'] = out['Favorite Count'].astype(int)\n",
    "out['Answer Count'] = out['Answer Count'].astype(int)\n",
    "out['View Count'] = out['View Count'].astype(int)\n",
    "\n",
    "answers = out[(out['Post Type ID'] == 1)]\n",
    "\n",
    "answers = answers[['ID','Creation Date','Tags','Title','Body']]\n",
    "\n",
    "#words kolonu title ile bodynin birleşmiş hali, \n",
    "answers['Words'] = answers[['Title', 'Body', 'Tags']].apply(lambda x: ' '.join(x), axis=1)\n",
    "\n",
    "answers['Words'].apply(lambda x: ''.join(BeautifulSoup(markdown(x)).findAll(text=True)))\n",
    "answers.head"
   ]
  },
  {
   "cell_type": "code",
   "execution_count": 5,
   "metadata": {},
   "outputs": [],
   "source": [
    "size = len(answers.ID.to_list())"
   ]
  },
  {
   "cell_type": "code",
   "execution_count": 6,
   "metadata": {},
   "outputs": [],
   "source": [
    "id_set = answers.ID.to_list() #Documents"
   ]
  },
  {
   "cell_type": "code",
   "execution_count": 7,
   "metadata": {},
   "outputs": [],
   "source": [
    "def read_corpus(fname, tokens_only=False):\n",
    "    for i, line in enumerate(fname):\n",
    "        tokens = gensim.utils.simple_preprocess(line)\n",
    "        if tokens_only:\n",
    "            yield tokens\n",
    "        else:\n",
    "            # For training data, add tags\n",
    "            yield gensim.models.doc2vec.TaggedDocument(tokens, [int(id_set[i])])"
   ]
  },
  {
   "cell_type": "code",
   "execution_count": 8,
   "metadata": {},
   "outputs": [],
   "source": [
    "trainData =answers['Words'].tolist()#[:4068]\n",
    "testData =answers['Words'].tolist()[4068:]\n",
    "tags = dict(zip(answers.ID.astype(int), answers.Tags))"
   ]
  },
  {
   "cell_type": "code",
   "execution_count": 9,
   "metadata": {},
   "outputs": [],
   "source": [
    "train_corpus = list(read_corpus(trainData))\n",
    "test_corpus = list(read_corpus(testData, tokens_only=True))"
   ]
  },
  {
   "cell_type": "code",
   "execution_count": 10,
   "metadata": {},
   "outputs": [],
   "source": [
    "idTextDict = dict(zip(answers.ID, answers.Words))"
   ]
  },
  {
   "cell_type": "code",
   "execution_count": null,
   "metadata": {},
   "outputs": [],
   "source": [
    "#model = gensim.models.doc2vec.Doc2Vec(vector_size=100, min_count=1, epochs=200)\n",
    "model = gensim.models.doc2vec.Doc2Vec(min_count=1,window=5,vector_size=300,workers=5,alpha=0.025,min_alpha=0.00025,dm=1, epochs = 50)\n",
    "#model = gensim.models.doc2vec.Doc2Vec(min_count=2,window=15,vector_size=300,workers=5,alpha=0.025,min_alpha=0.00025,dm=0, epochs=100)\n",
    "model.build_vocab(train_corpus)\n",
    "model.train(train_corpus, total_examples=model.corpus_count, epochs=model.epochs)"
   ]
  },
  {
   "cell_type": "code",
   "execution_count": null,
   "metadata": {
    "scrolled": true
   },
   "outputs": [],
   "source": [
    "doc_id = id_set.index(\"14119\")\n",
    "print(doc_id)\n",
    "inferred_vector = model.infer_vector(test_corpus[doc_id-4068])\n",
    "sims = model.docvecs.most_similar([inferred_vector], topn=100)\n",
    "print(id_set[id_set.index(\"14119\")])"
   ]
  },
  {
   "cell_type": "code",
   "execution_count": null,
   "metadata": {
    "scrolled": true
   },
   "outputs": [],
   "source": [
    "print(id_set.index(\"13425\"))\n",
    "id_set[id_set.index(\"13425\")]"
   ]
  },
  {
   "cell_type": "code",
   "execution_count": null,
   "metadata": {
    "scrolled": true
   },
   "outputs": [],
   "source": [
    "for (item,val) in sims:\n",
    "    print(item, val)"
   ]
  },
  {
   "cell_type": "code",
   "execution_count": null,
   "metadata": {},
   "outputs": [],
   "source": [
    "cosineResultDict = {}\n",
    "for i in range(0, len(test_corpus)):\n",
    "    inferred_vector = model.infer_vector(test_corpus[i])\n",
    "    sims = model.docvecs.most_similar([inferred_vector], topn=100)\n",
    "    cosineResultDict[int(id_set[4068+i])] = sims "
   ]
  },
  {
   "cell_type": "code",
   "execution_count": null,
   "metadata": {
    "scrolled": true
   },
   "outputs": [],
   "source": [
    "cosineResultDict[13425]"
   ]
  },
  {
   "cell_type": "code",
   "execution_count": null,
   "metadata": {},
   "outputs": [],
   "source": [
    "relatedId = {}\n",
    "with open(\"relatedFrom13425_test.txt\") as f:\n",
    "    for line in f:\n",
    "        (key, val) = line.split(\",\")\n",
    "        relatedId[int(key)] = [int(i) for i in val.strip().split()]\n",
    "relatedId"
   ]
  },
  {
   "cell_type": "code",
   "execution_count": null,
   "metadata": {},
   "outputs": [],
   "source": [
    "crossCheckDict = {}\n",
    "bothRelatedAndSim = {}\n",
    "for key in cosineResultDict.keys():\n",
    "    counter = 0\n",
    "    if key in relatedId.keys():\n",
    "        for rel in relatedId[key]:\n",
    "            for (simId,sim) in cosineResultDict[key]:\n",
    "                if rel == simId:\n",
    "                    if key in bothRelatedAndSim.keys():\n",
    "                        bothRelatedAndSim[key].append((simId,sim))\n",
    "                    else:\n",
    "                        bothRelatedAndSim[key] = [(simId,sim)]\n",
    "\n",
    "                    counter += 1\n",
    "    crossCheckDict[key] = counter\n"
   ]
  },
  {
   "cell_type": "code",
   "execution_count": null,
   "metadata": {},
   "outputs": [],
   "source": [
    "crossCheckDict"
   ]
  },
  {
   "cell_type": "markdown",
   "metadata": {},
   "source": [
    "Sıfır related matchleyen caselere örnek:\n",
    "14173 - relatedla sorunun alakası yok denecek kadar az - bizim bulduklarımız similarity degerine göre daha mantıklı\n",
    "14204 - hiç related yok - bizim bulduklarımız some what similar\n",
    "13849 - soru ve relatedları arasında 1-2 kelime matchliyor, anlam acısından bag yok - bizim bulduklarımızın context olarak benzerliği daha fazla"
   ]
  },
  {
   "cell_type": "code",
   "execution_count": null,
   "metadata": {},
   "outputs": [],
   "source": [
    "plt.bar(range(len(crossCheckDict)), list(crossCheckDict.values()), align='center')\n",
    "plt.xticks(range(len(crossCheckDict)), list(crossCheckDict.keys()))\n",
    "plt.show()"
   ]
  },
  {
   "cell_type": "code",
   "execution_count": null,
   "metadata": {},
   "outputs": [],
   "source": [
    "listOfVals = crossCheckDict.values()"
   ]
  },
  {
   "cell_type": "code",
   "execution_count": null,
   "metadata": {},
   "outputs": [],
   "source": [
    "len(listOfVals)"
   ]
  },
  {
   "cell_type": "code",
   "execution_count": null,
   "metadata": {},
   "outputs": [],
   "source": [
    "sum(listOfVals)/len(listOfVals)"
   ]
  },
  {
   "cell_type": "code",
   "execution_count": null,
   "metadata": {},
   "outputs": [],
   "source": [
    "sum(listOfVals)"
   ]
  },
  {
   "cell_type": "code",
   "execution_count": null,
   "metadata": {},
   "outputs": [],
   "source": [
    "for key in bothRelatedAndSim.keys():\n",
    "    print(\"https://ai.stackexchange.com/questions/\" + str(key))\n",
    "    print([i for i,j in bothRelatedAndSim[key]])"
   ]
  },
  {
   "cell_type": "code",
   "execution_count": null,
   "metadata": {},
   "outputs": [],
   "source": [
    "f = open(\"DOC2VEC_RELATEDDICT.txt\", \"a\")\n",
    "for key in bothRelatedAndSim:  \n",
    "    f.write(str(key)+\"\\t\"+str([i for i,j in bothRelatedAndSim[key]])+\"\\n\")\n",
    "f.close()"
   ]
  },
  {
   "cell_type": "code",
   "execution_count": null,
   "metadata": {},
   "outputs": [],
   "source": [
    "for key in crossCheckDict.keys():\n",
    "    if crossCheckDict[key] == 0:\n",
    "        print(\"https://ai.stackexchange.com/questions/\" + str(key))\n"
   ]
  },
  {
   "cell_type": "code",
   "execution_count": null,
   "metadata": {},
   "outputs": [],
   "source": [
    "x = relatedId.keys()\n",
    "bins = []\n",
    "\n",
    "for key in x:\n",
    "    bins.append(len(relatedId[key]))\n",
    "\n",
    "width = bins[1] - bins[0]\n",
    "plt.bar(x, bins, align='center', width=width)\n",
    "plt.show()\n"
   ]
  },
  {
   "cell_type": "code",
   "execution_count": null,
   "metadata": {},
   "outputs": [],
   "source": [
    "tags[1]"
   ]
  },
  {
   "cell_type": "code",
   "execution_count": null,
   "metadata": {},
   "outputs": [],
   "source": [
    "for key in tags.keys():\n",
    "    s = tags[key].replace(\"<\", \"\", len(tags[key]))\n",
    "    s = s.replace(\">\", \" \", len(tags[key]))\n",
    "    tags[key] = s.strip().split(\" \")\n"
   ]
  },
  {
   "cell_type": "code",
   "execution_count": null,
   "metadata": {
    "scrolled": true
   },
   "outputs": [],
   "source": [
    "key = 13544\n",
    "print(key, relatedId[key])\n",
    "print(tags[key])\n",
    "for item in relatedId[key]:\n",
    "    if item in tags.keys():\n",
    "        print(item, tags[item])"
   ]
  },
  {
   "cell_type": "markdown",
   "metadata": {},
   "source": [
    "import requests\n",
    "APIKEY = \"unCQQDAhgl)qZ4GZRXVVGQ((\";\n",
    "\n",
    "query = \"https://api.stackexchange.com/2.2/questions/\" + str(54)+\"?order=desc&sort=activity&site=ai&key=\"+APIKEY;\n",
    "response = requests.get(query)\n"
   ]
  },
  {
   "cell_type": "markdown",
   "metadata": {},
   "source": [
    "print(response.json()[\"items\"][0][\"tags\"])"
   ]
  },
  {
   "cell_type": "markdown",
   "metadata": {},
   "source": [
    "Api ile websitesi eşleşiyor ama post.xml dosyasındakiler ile eşleşmiyor"
   ]
  },
  {
   "cell_type": "markdown",
   "metadata": {},
   "source": [
    "import time"
   ]
  },
  {
   "cell_type": "markdown",
   "metadata": {},
   "source": [
    "betterTags = {}"
   ]
  },
  {
   "cell_type": "markdown",
   "metadata": {},
   "source": [
    "for id in id_set:\n",
    "    if id not in betterTags.keys():\n",
    "        query = \"https://api.stackexchange.com/2.2/questions/\" + str(id)+\"?order=desc&sort=activity&site=ai&key=\"+APIKEY;\n",
    "        response = requests.get(query)\n",
    "        print(response.status_code)\n",
    "        betterTags[id] = response.json()[\"items\"][0][\"tags\"]\n",
    "        print(id, betterTags[id])\n",
    "        time.sleep(1)"
   ]
  },
  {
   "cell_type": "markdown",
   "metadata": {},
   "source": [
    "betterTags"
   ]
  },
  {
   "cell_type": "code",
   "execution_count": null,
   "metadata": {
    "scrolled": true
   },
   "outputs": [],
   "source": [
    "tagVsQuestion = {}\n",
    "for key in relatedId.keys():\n",
    "    #print(key, relatedId[key])\n",
    "    #print(tags[key])\n",
    "    true = 0\n",
    "    false = 0\n",
    "    for item in relatedId[key]:\n",
    "        if item in tags.keys():\n",
    "            #print(item, tags[item])\n",
    "            #print(np.in1d(tags[key],tags[item]).any())\n",
    "            if np.in1d(tags[key],tags[item]).any():\n",
    "                true += 1\n",
    "            else:\n",
    "                false += 0\n",
    "            if true+false == 0:\n",
    "                tagVsQuestion[key] = 0\n",
    "            else:\n",
    "                print(true,false)\n",
    "                tagVsQuestion[key] = float(true /(true+false))\n",
    "        else:\n",
    "            tagVsQuestion[key] = 0\n"
   ]
  },
  {
   "cell_type": "code",
   "execution_count": null,
   "metadata": {},
   "outputs": [],
   "source": [
    "tagVsQuestion[13425]"
   ]
  },
  {
   "cell_type": "raw",
   "metadata": {},
   "source": [
    "related ile sorunun tagleri eşleşmeyen sayısı"
   ]
  },
  {
   "cell_type": "code",
   "execution_count": null,
   "metadata": {},
   "outputs": [],
   "source": [
    "print([x for x in tagVsQuestion.keys() if tagVsQuestion[x] == 0])"
   ]
  },
  {
   "cell_type": "markdown",
   "metadata": {},
   "source": [
    "sadec 5 tane eşleşmiyor o datalarda elimizde mevcut değil normalde çalışıyorlar"
   ]
  },
  {
   "cell_type": "code",
   "execution_count": null,
   "metadata": {},
   "outputs": [],
   "source": [
    "model.save(\"CQA_FRONTEND/static/data/doc2vecmodel\")"
   ]
  },
  {
   "cell_type": "code",
   "execution_count": null,
   "metadata": {},
   "outputs": [],
   "source": [
    "model2 = gensim.models.doc2vec.Doc2Vec.load(\"doc2vecmodel\")"
   ]
  },
  {
   "cell_type": "code",
   "execution_count": null,
   "metadata": {},
   "outputs": [],
   "source": [
    "inferred_vector = model.infer_vector([\"asda\"])\n",
    "sims = model.docvecs.most_similar([inferred_vector], topn=100)"
   ]
  },
  {
   "cell_type": "code",
   "execution_count": null,
   "metadata": {},
   "outputs": [],
   "source": [
    "sims"
   ]
  },
  {
   "cell_type": "code",
   "execution_count": null,
   "metadata": {},
   "outputs": [],
   "source": []
  }
 ],
 "metadata": {
  "kernelspec": {
   "display_name": "Python 3",
   "language": "python",
   "name": "python3"
  },
  "language_info": {
   "codemirror_mode": {
    "name": "ipython",
    "version": 3
   },
   "file_extension": ".py",
   "mimetype": "text/x-python",
   "name": "python",
   "nbconvert_exporter": "python",
   "pygments_lexer": "ipython3",
   "version": "3.7.3"
  }
 },
 "nbformat": 4,
 "nbformat_minor": 2
}
