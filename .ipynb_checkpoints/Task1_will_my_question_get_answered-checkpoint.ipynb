{
 "cells": [
  {
   "cell_type": "markdown",
   "metadata": {
    "colab_type": "text",
    "id": "_Q4ZIKmIsesZ"
   },
   "source": [
    "ENS 491-492- GRADUATION PROJECT TASK 1\n",
    "\n",
    "Will my question get answered? \n",
    "\n",
    "Classification task will be applied on stackexchange AI data"
   ]
  },
  {
   "cell_type": "markdown",
   "metadata": {
    "colab_type": "text",
    "id": "N0Z4hneAszFV"
   },
   "source": [
    "Importing libraries"
   ]
  },
  {
   "cell_type": "code",
   "execution_count": 0,
   "metadata": {
    "colab": {
     "base_uri": "https://localhost:8080/",
     "height": 204
    },
    "colab_type": "code",
    "id": "YV5KEmimpD-Y",
    "outputId": "ccbcbcd3-5e77-4c1f-dd53-1dc78486fd73"
   },
   "outputs": [
    {
     "name": "stdout",
     "output_type": "stream",
     "text": [
      "Requirement already satisfied: category_encoders in /usr/local/lib/python3.6/dist-packages (2.2.2)\n",
      "Requirement already satisfied: scikit-learn>=0.20.0 in /usr/local/lib/python3.6/dist-packages (from category_encoders) (0.22.2.post1)\n",
      "Requirement already satisfied: patsy>=0.5.1 in /usr/local/lib/python3.6/dist-packages (from category_encoders) (0.5.1)\n",
      "Requirement already satisfied: pandas>=0.21.1 in /usr/local/lib/python3.6/dist-packages (from category_encoders) (1.0.3)\n",
      "Requirement already satisfied: statsmodels>=0.9.0 in /usr/local/lib/python3.6/dist-packages (from category_encoders) (0.10.2)\n",
      "Requirement already satisfied: scipy>=1.0.0 in /usr/local/lib/python3.6/dist-packages (from category_encoders) (1.4.1)\n",
      "Requirement already satisfied: numpy>=1.14.0 in /usr/local/lib/python3.6/dist-packages (from category_encoders) (1.18.4)\n",
      "Requirement already satisfied: joblib>=0.11 in /usr/local/lib/python3.6/dist-packages (from scikit-learn>=0.20.0->category_encoders) (0.15.1)\n",
      "Requirement already satisfied: six in /usr/local/lib/python3.6/dist-packages (from patsy>=0.5.1->category_encoders) (1.12.0)\n",
      "Requirement already satisfied: python-dateutil>=2.6.1 in /usr/local/lib/python3.6/dist-packages (from pandas>=0.21.1->category_encoders) (2.8.1)\n",
      "Requirement already satisfied: pytz>=2017.2 in /usr/local/lib/python3.6/dist-packages (from pandas>=0.21.1->category_encoders) (2018.9)\n"
     ]
    }
   ],
   "source": [
    "import gensim\n",
    "import pandas as pd\n",
    "import warnings\n",
    "from bs4 import BeautifulSoup\n",
    "import numpy as np\n",
    "from sklearn.ensemble import RandomForestClassifier\n",
    "from sklearn.model_selection import train_test_split\n",
    "!pip install category_encoders\n",
    "from sklearn.metrics import mean_squared_error \n",
    "from sklearn import preprocessing\n",
    "import xml.etree.ElementTree as et\n",
    "import re\n",
    "import warnings\n",
    "warnings.filterwarnings(\"ignore\")\n",
    "from itertools import product\n",
    "from os.path import join\n",
    "from sklearn.metrics import accuracy_score\n",
    "from sklearn.preprocessing import OneHotEncoder\n",
    "from sklearn import preprocessing\n"
   ]
  },
  {
   "cell_type": "markdown",
   "metadata": {
    "colab_type": "text",
    "id": "OnwVKAeOs3ve"
   },
   "source": [
    "İmporting nltk library for text data cleaning process"
   ]
  },
  {
   "cell_type": "code",
   "execution_count": 0,
   "metadata": {
    "colab": {
     "base_uri": "https://localhost:8080/",
     "height": 187
    },
    "colab_type": "code",
    "id": "4wg5EhuPsPqN",
    "outputId": "679c87bb-3166-4316-9bad-42b6329cac98"
   },
   "outputs": [
    {
     "name": "stdout",
     "output_type": "stream",
     "text": [
      "[nltk_data] Downloading package stopwords to /root/nltk_data...\n",
      "[nltk_data]   Package stopwords is already up-to-date!\n",
      "[nltk_data] Downloading package wordnet to /root/nltk_data...\n",
      "[nltk_data]   Package wordnet is already up-to-date!\n",
      "[nltk_data] Downloading package punkt to /root/nltk_data...\n",
      "[nltk_data]   Package punkt is already up-to-date!\n",
      "[nltk_data] Downloading package averaged_perceptron_tagger to\n",
      "[nltk_data]     /root/nltk_data...\n",
      "[nltk_data]   Package averaged_perceptron_tagger is already up-to-\n",
      "[nltk_data]       date!\n"
     ]
    }
   ],
   "source": [
    "# Setup\n",
    "!pip install -q wordcloud\n",
    "import wordcloud\n",
    "\n",
    "import nltk\n",
    "nltk.download('stopwords')\n",
    "nltk.download('wordnet')\n",
    "nltk.download('punkt')\n",
    "nltk.download('averaged_perceptron_tagger') \n",
    "\n",
    "\n",
    "import matplotlib.pyplot as plt\n",
    "import io\n",
    "import unicodedata\n",
    "import string\n"
   ]
  },
  {
   "cell_type": "code",
   "execution_count": 0,
   "metadata": {
    "colab": {
     "base_uri": "https://localhost:8080/",
     "height": 34
    },
    "colab_type": "code",
    "id": "VPw9-9mJspRa",
    "outputId": "c7ba7424-2081-4ca2-da46-97f9d3e8ee2d"
   },
   "outputs": [
    {
     "name": "stdout",
     "output_type": "stream",
     "text": [
      "Drive already mounted at /content/drive; to attempt to forcibly remount, call drive.mount(\"/content/drive\", force_remount=True).\n"
     ]
    }
   ],
   "source": [
    "from google.colab import drive\n",
    "drive.mount('/content/drive')"
   ]
  },
  {
   "cell_type": "markdown",
   "metadata": {
    "colab_type": "text",
    "id": "nqo5Dml-tKyP"
   },
   "source": [
    " \n",
    "Data Gathering and Implementation of Data Frame\n",
    "\n"
   ]
  },
  {
   "cell_type": "code",
   "execution_count": 0,
   "metadata": {
    "colab": {},
    "colab_type": "code",
    "id": "ZNGbKwIzt9Ny"
   },
   "outputs": [],
   "source": [
    "xtree = et.parse('/content/drive/My Drive/CQA/ai.stackexchange.com/Posts.xml')"
   ]
  },
  {
   "cell_type": "code",
   "execution_count": 0,
   "metadata": {
    "colab": {},
    "colab_type": "code",
    "id": "fqVEUoMyt_By"
   },
   "outputs": [],
   "source": [
    "xroot = xtree.getroot()"
   ]
  },
  {
   "cell_type": "code",
   "execution_count": 0,
   "metadata": {
    "colab": {},
    "colab_type": "code",
    "id": "GEL0xWcKumjz"
   },
   "outputs": [],
   "source": [
    "dfCols = [\"Closed Date\", \"Favorite Count\", \"Comment Count\", \"Answer Count\", \"Tags\", \"Title\",\n",
    "          \"Last Activity Date\", \"Owner User ID\", \"Body\", \"View Count\", \"Score\", \"Creation Date\", \"Post Type ID\", \n",
    "          \"ID\", \"Parent ID\", \"Last Edit Date\", \"Last Editor User ID\", \"Accepted Answer ID\"]\n",
    "dfRows = []"
   ]
  },
  {
   "cell_type": "code",
   "execution_count": 0,
   "metadata": {
    "colab": {},
    "colab_type": "code",
    "id": "8Oy4I-63upXz"
   },
   "outputs": [],
   "source": [
    "for node in xroot:\n",
    "    closedDate = node.attrib.get(\"ClosedDate\")\n",
    "    favCount = node.attrib.get(\"FavoriteCount\")\n",
    "    commentCount = node.attrib.get(\"CommentCount\")\n",
    "    ansCount = node.attrib.get(\"AnswerCount\")\n",
    "    tags = node.attrib.get(\"Tags\")\n",
    "    title = node.attrib.get(\"Title\")\n",
    "    lastActDate = node.attrib.get(\"LastActivityDate\")\n",
    "    ownerUserID = node.attrib.get(\"OwnerUserId\")\n",
    "    body = node.attrib.get(\"Body\")\n",
    "    viewCount = node.attrib.get(\"ViewCount\") \n",
    "    score = node.attrib.get(\"Score\") \n",
    "    creationDate = node.attrib.get(\"CreationDate\") \n",
    "    postTypeID = node.attrib.get(\"PostTypeId\") \n",
    "    ID = node.attrib.get(\"Id\") \n",
    "    parentID = node.attrib.get(\"ParentId\") \n",
    "    lastEditDate = node.attrib.get(\"LastEditDate\") \n",
    "    lastEditorUserID = node.attrib.get(\"LastEditorUserId\") \n",
    "    acceptedAnswerID = node.attrib.get(\"AcceptedAnswerID\")\n",
    "    \n",
    "    dfRows.append({\"Closed Date\": closedDate, \"Favorite Count\": favCount, \"Comment Count\": commentCount,\n",
    "                     \"Answer Count\": ansCount, \"Tags\": tags, \"Title\": title, \"Last Activity Date\": lastActDate,\n",
    "                     \"Owner User ID\": ownerUserID, \"Body\": body, \"View Count\": viewCount, \"Score\": score, \n",
    "                    \"Creation Date\": creationDate, \"Post Type ID\": postTypeID, \"ID\": ID, \"Parent ID\": parentID,\n",
    "                    \"Last Edit Date\": lastEditDate, \"Last Editor User ID\": lastEditorUserID, \"Accepted Answer ID\": acceptedAnswerID})"
   ]
  },
  {
   "cell_type": "code",
   "execution_count": 0,
   "metadata": {
    "colab": {},
    "colab_type": "code",
    "id": "edNRGz8HurqT"
   },
   "outputs": [],
   "source": [
    "out = pd.DataFrame(dfRows, columns=dfCols)\n"
   ]
  },
  {
   "cell_type": "code",
   "execution_count": 0,
   "metadata": {
    "colab": {},
    "colab_type": "code",
    "id": "bOIxhhiivNCr"
   },
   "outputs": [],
   "source": [
    "out = out.fillna(0)"
   ]
  },
  {
   "cell_type": "markdown",
   "metadata": {
    "colab_type": "text",
    "id": "11P5KPvEto8i"
   },
   "source": [
    "Changing the data types of the parameters"
   ]
  },
  {
   "cell_type": "code",
   "execution_count": 0,
   "metadata": {
    "colab": {},
    "colab_type": "code",
    "id": "Zjb5IPinvPz7"
   },
   "outputs": [],
   "source": [
    "out['Creation Date'] = pd.to_datetime(out['Creation Date'])\n",
    "out['Last Activity Date'] = pd.to_datetime(out['Last Activity Date'])\n",
    "out['Last Edit Date'] = pd.to_datetime(out['Last Edit Date'])\n",
    "out['Comment Count'] = out['Comment Count'].astype(int)\n",
    "out['Owner User ID'] = out['Owner User ID'].astype(int)\n",
    "out['Post Type ID'] = out['Post Type ID'].astype(int)\n",
    "out['Score'] = out['Score'].astype(int)\n",
    "out['Favorite Count'] = out['Favorite Count'].astype(int)\n",
    "out['Answer Count'] = out['Answer Count'].astype(int)\n",
    "out['View Count'] = out['View Count'].astype(int)\n"
   ]
  },
  {
   "cell_type": "code",
   "execution_count": 0,
   "metadata": {
    "colab": {
     "base_uri": "https://localhost:8080/",
     "height": 340
    },
    "colab_type": "code",
    "id": "HRnomnsHdAes",
    "outputId": "f319d612-c33f-4c84-9975-71712db7a0d1"
   },
   "outputs": [
    {
     "data": {
      "text/plain": [
       "Closed Date                    object\n",
       "Favorite Count                  int64\n",
       "Comment Count                   int64\n",
       "Answer Count                    int64\n",
       "Tags                           object\n",
       "Title                          object\n",
       "Last Activity Date     datetime64[ns]\n",
       "Owner User ID                   int64\n",
       "Body                           object\n",
       "View Count                      int64\n",
       "Score                           int64\n",
       "Creation Date          datetime64[ns]\n",
       "Post Type ID                    int64\n",
       "ID                             object\n",
       "Parent ID                      object\n",
       "Last Edit Date         datetime64[ns]\n",
       "Last Editor User ID            object\n",
       "Accepted Answer ID              int64\n",
       "dtype: object"
      ]
     },
     "execution_count": 129,
     "metadata": {
      "tags": []
     },
     "output_type": "execute_result"
    }
   ],
   "source": [
    "out.dtypes\n"
   ]
  },
  {
   "cell_type": "markdown",
   "metadata": {
    "colab_type": "text",
    "id": "b3e5SABR2Osa"
   },
   "source": [
    "Categorizing Time Data into Morning/Midday/Evening/Night\n",
    "\n",
    "**According to UTC**\n",
    "\n",
    "05:00-10:00 Morning   -->1     24:00 - 05:00 NY Night\n",
    "\n",
    "11:00 16:00 Midday    -->2     06:00 - 11:00 NY Morning\n",
    "\n",
    "17:00 22:00 Afternoon -->3     12:00 - 17:00 NY Midday\n",
    "\n",
    "23:00 04:00 Night     -->4     18:00 - 23:00 NY Evening"
   ]
  },
  {
   "cell_type": "code",
   "execution_count": 0,
   "metadata": {
    "colab": {
     "base_uri": "https://localhost:8080/",
     "height": 340
    },
    "colab_type": "code",
    "id": "ZIiKrJ6XqhQu",
    "outputId": "1f767ee6-fdfe-43e7-8ec2-aaa219a3138a"
   },
   "outputs": [
    {
     "data": {
      "text/html": [
       "<div>\n",
       "<style scoped>\n",
       "    .dataframe tbody tr th:only-of-type {\n",
       "        vertical-align: middle;\n",
       "    }\n",
       "\n",
       "    .dataframe tbody tr th {\n",
       "        vertical-align: top;\n",
       "    }\n",
       "\n",
       "    .dataframe thead th {\n",
       "        text-align: right;\n",
       "    }\n",
       "</style>\n",
       "<table border=\"1\" class=\"dataframe\">\n",
       "  <thead>\n",
       "    <tr style=\"text-align: right;\">\n",
       "      <th></th>\n",
       "      <th>Closed Date</th>\n",
       "      <th>Favorite Count</th>\n",
       "      <th>Comment Count</th>\n",
       "      <th>Answer Count</th>\n",
       "      <th>Tags</th>\n",
       "      <th>Title</th>\n",
       "      <th>Last Activity Date</th>\n",
       "      <th>Owner User ID</th>\n",
       "      <th>Body</th>\n",
       "      <th>View Count</th>\n",
       "      <th>Score</th>\n",
       "      <th>Creation Date</th>\n",
       "      <th>Post Type ID</th>\n",
       "      <th>ID</th>\n",
       "      <th>Parent ID</th>\n",
       "      <th>Last Edit Date</th>\n",
       "      <th>Last Editor User ID</th>\n",
       "      <th>Accepted Answer ID</th>\n",
       "    </tr>\n",
       "  </thead>\n",
       "  <tbody>\n",
       "    <tr>\n",
       "      <th>0</th>\n",
       "      <td>0</td>\n",
       "      <td>1</td>\n",
       "      <td>0</td>\n",
       "      <td>3</td>\n",
       "      <td>&lt;neural-networks&gt;&lt;backpropagation&gt;&lt;terminology...</td>\n",
       "      <td>What is \"backprop\"?</td>\n",
       "      <td>2019-11-16 17:56:22.093</td>\n",
       "      <td>8</td>\n",
       "      <td>&lt;p&gt;What does \"backprop\" mean? Is the \"backprop...</td>\n",
       "      <td>424</td>\n",
       "      <td>8</td>\n",
       "      <td>2</td>\n",
       "      <td>1</td>\n",
       "      <td>1</td>\n",
       "      <td>0</td>\n",
       "      <td>2019-11-16 17:56:22.093</td>\n",
       "      <td>2444</td>\n",
       "      <td>0</td>\n",
       "    </tr>\n",
       "    <tr>\n",
       "      <th>1</th>\n",
       "      <td>0</td>\n",
       "      <td>1</td>\n",
       "      <td>0</td>\n",
       "      <td>3</td>\n",
       "      <td>&lt;neural-networks&gt;&lt;machine-learning&gt;&lt;statistica...</td>\n",
       "      <td>How does noise affect generalization?</td>\n",
       "      <td>2019-02-23 22:36:37.133</td>\n",
       "      <td>8</td>\n",
       "      <td>&lt;p&gt;Does increasing the noise in data help to i...</td>\n",
       "      <td>502</td>\n",
       "      <td>10</td>\n",
       "      <td>2</td>\n",
       "      <td>1</td>\n",
       "      <td>2</td>\n",
       "      <td>0</td>\n",
       "      <td>2019-02-23 22:36:19.090</td>\n",
       "      <td>2444</td>\n",
       "      <td>0</td>\n",
       "    </tr>\n",
       "    <tr>\n",
       "      <th>2</th>\n",
       "      <td>0</td>\n",
       "      <td>0</td>\n",
       "      <td>0</td>\n",
       "      <td>0</td>\n",
       "      <td>0</td>\n",
       "      <td>0</td>\n",
       "      <td>2016-08-02 15:40:24.820</td>\n",
       "      <td>4</td>\n",
       "      <td>&lt;p&gt;\"Backprop\" is the same as \"backpropagation\"...</td>\n",
       "      <td>0</td>\n",
       "      <td>12</td>\n",
       "      <td>2</td>\n",
       "      <td>2</td>\n",
       "      <td>3</td>\n",
       "      <td>1</td>\n",
       "      <td>1970-01-01 00:00:00.000</td>\n",
       "      <td>0</td>\n",
       "      <td>0</td>\n",
       "    </tr>\n",
       "    <tr>\n",
       "      <th>3</th>\n",
       "      <td>0</td>\n",
       "      <td>10</td>\n",
       "      <td>0</td>\n",
       "      <td>4</td>\n",
       "      <td>&lt;deep-network&gt;&lt;search&gt;&lt;neurons&gt;</td>\n",
       "      <td>How to find the optimal number of neurons per ...</td>\n",
       "      <td>2018-10-18 10:45:15.213</td>\n",
       "      <td>8</td>\n",
       "      <td>&lt;p&gt;When you're writing your algorithm, how do ...</td>\n",
       "      <td>898</td>\n",
       "      <td>28</td>\n",
       "      <td>2</td>\n",
       "      <td>1</td>\n",
       "      <td>4</td>\n",
       "      <td>0</td>\n",
       "      <td>2018-10-18 10:45:15.213</td>\n",
       "      <td>10135</td>\n",
       "      <td>0</td>\n",
       "    </tr>\n",
       "    <tr>\n",
       "      <th>4</th>\n",
       "      <td>2016-08-02T16:27:32.070</td>\n",
       "      <td>0</td>\n",
       "      <td>4</td>\n",
       "      <td>2</td>\n",
       "      <td>&lt;python&gt;&lt;mindstorms&gt;</td>\n",
       "      <td>How to program AI in Mindstorms</td>\n",
       "      <td>2018-10-18 10:44:51.623</td>\n",
       "      <td>5</td>\n",
       "      <td>&lt;p&gt;I have a LEGO Mindstorms EV3 and I'm wonder...</td>\n",
       "      <td>2457</td>\n",
       "      <td>-3</td>\n",
       "      <td>2</td>\n",
       "      <td>1</td>\n",
       "      <td>5</td>\n",
       "      <td>0</td>\n",
       "      <td>2018-10-18 10:44:51.623</td>\n",
       "      <td>10135</td>\n",
       "      <td>0</td>\n",
       "    </tr>\n",
       "  </tbody>\n",
       "</table>\n",
       "</div>"
      ],
      "text/plain": [
       "               Closed Date  ...  Accepted Answer ID\n",
       "0                        0  ...                   0\n",
       "1                        0  ...                   0\n",
       "2                        0  ...                   0\n",
       "3                        0  ...                   0\n",
       "4  2016-08-02T16:27:32.070  ...                   0\n",
       "\n",
       "[5 rows x 18 columns]"
      ]
     },
     "execution_count": 130,
     "metadata": {
      "tags": []
     },
     "output_type": "execute_result"
    }
   ],
   "source": [
    "def get_part_of_day(x):\n",
    "    return (\n",
    "        \"1\" if 5 <= int(x.strftime('%H')) <= 10\n",
    "        else\n",
    "        \"2\" if 11<=  int(x.strftime('%H'))<= 16\n",
    "        else\n",
    "        \"3\" if 17 <= int(x.strftime('%H'))  <= 22\n",
    "        else\n",
    "        \"4\"\n",
    "    )\n",
    "    \n",
    "out[\"Creation Date\"] = out[\"Creation Date\"].apply(get_part_of_day)\n",
    "out.head(5)"
   ]
  },
  {
   "cell_type": "markdown",
   "metadata": {
    "colab_type": "text",
    "id": "E1-ffLojmob_"
   },
   "source": [
    "One Hot Encoding implemented on the date data that had been encoded with label encoding\n"
   ]
  },
  {
   "cell_type": "code",
   "execution_count": 0,
   "metadata": {
    "colab": {},
    "colab_type": "code",
    "id": "a0l-1B1vfm37"
   },
   "outputs": [],
   "source": [
    "from sklearn.preprocessing import OneHotEncoder\n",
    "\n",
    "ohe = OneHotEncoder(categories = \"auto\",sparse = False, drop = \"first\")\n",
    "# One-Hot-Encode Class column of df\n",
    "temp = ohe.fit_transform(out[[\"Creation Date\"]])\n",
    "\n",
    "\n",
    "# Converting into dataframe\n",
    "ohe_column = pd.DataFrame(temp, columns = [\"CreationDate_1\",\"CreationDate_2\",\"CreationDate_3\"])\n",
    "#containating ohe column\n",
    "out= pd.concat([out,ohe_column],axis = 1)\n"
   ]
  },
  {
   "cell_type": "markdown",
   "metadata": {
    "colab_type": "text",
    "id": "D2Gdi1dSqenH"
   },
   "source": [
    "Demonstration of dataframe after one hot encoding applied"
   ]
  },
  {
   "cell_type": "code",
   "execution_count": 0,
   "metadata": {
    "colab": {
     "base_uri": "https://localhost:8080/",
     "height": 278
    },
    "colab_type": "code",
    "id": "vVkGeI_aqSm-",
    "outputId": "0abfc2d9-af9e-4150-9798-3e4ca876b977"
   },
   "outputs": [
    {
     "data": {
      "text/html": [
       "<div>\n",
       "<style scoped>\n",
       "    .dataframe tbody tr th:only-of-type {\n",
       "        vertical-align: middle;\n",
       "    }\n",
       "\n",
       "    .dataframe tbody tr th {\n",
       "        vertical-align: top;\n",
       "    }\n",
       "\n",
       "    .dataframe thead th {\n",
       "        text-align: right;\n",
       "    }\n",
       "</style>\n",
       "<table border=\"1\" class=\"dataframe\">\n",
       "  <thead>\n",
       "    <tr style=\"text-align: right;\">\n",
       "      <th></th>\n",
       "      <th>Closed Date</th>\n",
       "      <th>Favorite Count</th>\n",
       "      <th>Comment Count</th>\n",
       "      <th>Answer Count</th>\n",
       "      <th>Tags</th>\n",
       "      <th>Title</th>\n",
       "      <th>Last Activity Date</th>\n",
       "      <th>Owner User ID</th>\n",
       "      <th>Body</th>\n",
       "      <th>View Count</th>\n",
       "      <th>Score</th>\n",
       "      <th>Creation Date</th>\n",
       "      <th>Post Type ID</th>\n",
       "      <th>ID</th>\n",
       "      <th>Parent ID</th>\n",
       "      <th>Last Edit Date</th>\n",
       "      <th>Last Editor User ID</th>\n",
       "      <th>Accepted Answer ID</th>\n",
       "      <th>CreationDate_1</th>\n",
       "      <th>CreationDate_2</th>\n",
       "      <th>CreationDate_3</th>\n",
       "    </tr>\n",
       "  </thead>\n",
       "  <tbody>\n",
       "    <tr>\n",
       "      <th>12543</th>\n",
       "      <td>0</td>\n",
       "      <td>0</td>\n",
       "      <td>0</td>\n",
       "      <td>0</td>\n",
       "      <td>0</td>\n",
       "      <td>0</td>\n",
       "      <td>2019-11-30 23:36:46.443</td>\n",
       "      <td>27665</td>\n",
       "      <td>&lt;p&gt;Unlikely! &lt;/p&gt;\\n\\n&lt;p&gt;Chess has been \"solved...</td>\n",
       "      <td>0</td>\n",
       "      <td>2</td>\n",
       "      <td>4</td>\n",
       "      <td>2</td>\n",
       "      <td>16870</td>\n",
       "      <td>16857</td>\n",
       "      <td>1970-01-01</td>\n",
       "      <td>0</td>\n",
       "      <td>0</td>\n",
       "      <td>0.0</td>\n",
       "      <td>0.0</td>\n",
       "      <td>1.0</td>\n",
       "    </tr>\n",
       "    <tr>\n",
       "      <th>12544</th>\n",
       "      <td>0</td>\n",
       "      <td>0</td>\n",
       "      <td>0</td>\n",
       "      <td>0</td>\n",
       "      <td>&lt;tensorflow&gt;&lt;keras&gt;</td>\n",
       "      <td>How to use keras.utils.Sequence with multiple ...</td>\n",
       "      <td>2019-12-01 00:33:33.637</td>\n",
       "      <td>18358</td>\n",
       "      <td>&lt;p&gt;I am looking at the documentation and this ...</td>\n",
       "      <td>7</td>\n",
       "      <td>0</td>\n",
       "      <td>4</td>\n",
       "      <td>1</td>\n",
       "      <td>16871</td>\n",
       "      <td>0</td>\n",
       "      <td>1970-01-01</td>\n",
       "      <td>0</td>\n",
       "      <td>0</td>\n",
       "      <td>0.0</td>\n",
       "      <td>0.0</td>\n",
       "      <td>1.0</td>\n",
       "    </tr>\n",
       "    <tr>\n",
       "      <th>12545</th>\n",
       "      <td>0</td>\n",
       "      <td>0</td>\n",
       "      <td>0</td>\n",
       "      <td>0</td>\n",
       "      <td>0</td>\n",
       "      <td>0</td>\n",
       "      <td>2019-12-01 00:57:42.820</td>\n",
       "      <td>31765</td>\n",
       "      <td>&lt;p&gt;This can be calculated quite easily in the ...</td>\n",
       "      <td>0</td>\n",
       "      <td>0</td>\n",
       "      <td>4</td>\n",
       "      <td>2</td>\n",
       "      <td>16872</td>\n",
       "      <td>9106</td>\n",
       "      <td>1970-01-01</td>\n",
       "      <td>0</td>\n",
       "      <td>0</td>\n",
       "      <td>0.0</td>\n",
       "      <td>0.0</td>\n",
       "      <td>1.0</td>\n",
       "    </tr>\n",
       "  </tbody>\n",
       "</table>\n",
       "</div>"
      ],
      "text/plain": [
       "      Closed Date  Favorite Count  ...  CreationDate_2  CreationDate_3\n",
       "12543           0               0  ...             0.0             1.0\n",
       "12544           0               0  ...             0.0             1.0\n",
       "12545           0               0  ...             0.0             1.0\n",
       "\n",
       "[3 rows x 21 columns]"
      ]
     },
     "execution_count": 132,
     "metadata": {
      "tags": []
     },
     "output_type": "execute_result"
    }
   ],
   "source": [
    "out.tail(3)"
   ]
  },
  {
   "cell_type": "markdown",
   "metadata": {
    "colab_type": "text",
    "id": "QcBya_l1tuch"
   },
   "source": [
    "Those who has Post Type Id= 1 are questions in this task only questions data will be used"
   ]
  },
  {
   "cell_type": "code",
   "execution_count": 0,
   "metadata": {
    "colab": {},
    "colab_type": "code",
    "id": "yROOAmyTvc8d"
   },
   "outputs": [],
   "source": [
    "out = out[(out['Post Type ID'] == 1)]"
   ]
  },
  {
   "cell_type": "code",
   "execution_count": 0,
   "metadata": {
    "colab": {},
    "colab_type": "code",
    "id": "j6eYobU8LUXs"
   },
   "outputs": [],
   "source": [
    "out=out.drop(axis=1,columns=[\"Post Type ID\"])"
   ]
  },
  {
   "cell_type": "markdown",
   "metadata": {
    "colab_type": "text",
    "id": "qBoT5BPYufat"
   },
   "source": [
    "Since our question is to classify whether the question will get answered , we have labeled data according to it is answered or not by checking answer counts of the questions "
   ]
  },
  {
   "cell_type": "code",
   "execution_count": 0,
   "metadata": {
    "colab": {},
    "colab_type": "code",
    "id": "EfPvReeFpCRI"
   },
   "outputs": [],
   "source": [
    "out['IsAnswered'] = np.where(out['Answer Count']>0, '1', '0')"
   ]
  },
  {
   "cell_type": "markdown",
   "metadata": {
    "colab_type": "text",
    "id": "l6kI-ADCu0nI"
   },
   "source": [
    "Tag count is calculated and used as a parameter in dataframe \n"
   ]
  },
  {
   "cell_type": "code",
   "execution_count": 0,
   "metadata": {
    "colab": {},
    "colab_type": "code",
    "id": "RZR4TQ-luxgO"
   },
   "outputs": [],
   "source": [
    "out['Tag Count'] = out['Tags'].str.count('<')"
   ]
  },
  {
   "cell_type": "markdown",
   "metadata": {
    "colab_type": "text",
    "id": "_USppyEAh2NH"
   },
   "source": [
    "q (questions abbreviation) data frame consist of the parameters that will be used from Posts.xml data\n"
   ]
  },
  {
   "cell_type": "code",
   "execution_count": 0,
   "metadata": {
    "colab": {},
    "colab_type": "code",
    "id": "Ejf049slrw_s"
   },
   "outputs": [],
   "source": [
    "q = out[[\"CreationDate_1\",\"CreationDate_2\",\"CreationDate_3\",'Owner User ID','Title','Body','ID','Tags','Tag Count','IsAnswered']]\n"
   ]
  },
  {
   "cell_type": "markdown",
   "metadata": {
    "colab_type": "text",
    "id": "3Oqffe0ciPRD"
   },
   "source": [
    "10 parameters will be used from Posts.xml data and ID (question id) will be removed later .It was kept in this stage to identify questions ."
   ]
  },
  {
   "cell_type": "code",
   "execution_count": 0,
   "metadata": {
    "colab": {
     "base_uri": "https://localhost:8080/",
     "height": 34
    },
    "colab_type": "code",
    "id": "uzUfU-vlyi66",
    "outputId": "22cb2d45-1179-4981-f47c-61092b8afc5a"
   },
   "outputs": [
    {
     "name": "stdout",
     "output_type": "stream",
     "text": [
      "(5086, 10)\n"
     ]
    }
   ],
   "source": [
    "print(q.shape)"
   ]
  },
  {
   "cell_type": "code",
   "execution_count": 0,
   "metadata": {
    "colab": {
     "base_uri": "https://localhost:8080/",
     "height": 419
    },
    "colab_type": "code",
    "id": "5C0RfRuW5wfT",
    "outputId": "0542b536-8240-4506-f49b-2ea6484c40e9"
   },
   "outputs": [
    {
     "data": {
      "text/html": [
       "<div>\n",
       "<style scoped>\n",
       "    .dataframe tbody tr th:only-of-type {\n",
       "        vertical-align: middle;\n",
       "    }\n",
       "\n",
       "    .dataframe tbody tr th {\n",
       "        vertical-align: top;\n",
       "    }\n",
       "\n",
       "    .dataframe thead th {\n",
       "        text-align: right;\n",
       "    }\n",
       "</style>\n",
       "<table border=\"1\" class=\"dataframe\">\n",
       "  <thead>\n",
       "    <tr style=\"text-align: right;\">\n",
       "      <th></th>\n",
       "      <th>CreationDate_1</th>\n",
       "      <th>CreationDate_2</th>\n",
       "      <th>CreationDate_3</th>\n",
       "      <th>Owner User ID</th>\n",
       "      <th>Title</th>\n",
       "      <th>Body</th>\n",
       "      <th>ID</th>\n",
       "      <th>Tags</th>\n",
       "      <th>Tag Count</th>\n",
       "      <th>IsAnswered</th>\n",
       "    </tr>\n",
       "  </thead>\n",
       "  <tbody>\n",
       "    <tr>\n",
       "      <th>0</th>\n",
       "      <td>1.0</td>\n",
       "      <td>0.0</td>\n",
       "      <td>0.0</td>\n",
       "      <td>8</td>\n",
       "      <td>What is \"backprop\"?</td>\n",
       "      <td>&lt;p&gt;What does \"backprop\" mean? Is the \"backprop...</td>\n",
       "      <td>1</td>\n",
       "      <td>&lt;neural-networks&gt;&lt;backpropagation&gt;&lt;terminology...</td>\n",
       "      <td>4</td>\n",
       "      <td>1</td>\n",
       "    </tr>\n",
       "    <tr>\n",
       "      <th>1</th>\n",
       "      <td>1.0</td>\n",
       "      <td>0.0</td>\n",
       "      <td>0.0</td>\n",
       "      <td>8</td>\n",
       "      <td>How does noise affect generalization?</td>\n",
       "      <td>&lt;p&gt;Does increasing the noise in data help to i...</td>\n",
       "      <td>2</td>\n",
       "      <td>&lt;neural-networks&gt;&lt;machine-learning&gt;&lt;statistica...</td>\n",
       "      <td>4</td>\n",
       "      <td>1</td>\n",
       "    </tr>\n",
       "    <tr>\n",
       "      <th>3</th>\n",
       "      <td>1.0</td>\n",
       "      <td>0.0</td>\n",
       "      <td>0.0</td>\n",
       "      <td>8</td>\n",
       "      <td>How to find the optimal number of neurons per ...</td>\n",
       "      <td>&lt;p&gt;When you're writing your algorithm, how do ...</td>\n",
       "      <td>4</td>\n",
       "      <td>&lt;deep-network&gt;&lt;search&gt;&lt;neurons&gt;</td>\n",
       "      <td>3</td>\n",
       "      <td>1</td>\n",
       "    </tr>\n",
       "    <tr>\n",
       "      <th>4</th>\n",
       "      <td>1.0</td>\n",
       "      <td>0.0</td>\n",
       "      <td>0.0</td>\n",
       "      <td>5</td>\n",
       "      <td>How to program AI in Mindstorms</td>\n",
       "      <td>&lt;p&gt;I have a LEGO Mindstorms EV3 and I'm wonder...</td>\n",
       "      <td>5</td>\n",
       "      <td>&lt;python&gt;&lt;mindstorms&gt;</td>\n",
       "      <td>2</td>\n",
       "      <td>1</td>\n",
       "    </tr>\n",
       "    <tr>\n",
       "      <th>5</th>\n",
       "      <td>1.0</td>\n",
       "      <td>0.0</td>\n",
       "      <td>0.0</td>\n",
       "      <td>29</td>\n",
       "      <td>Are humans intelligent according to the defini...</td>\n",
       "      <td>&lt;p&gt;Given the following definition of an intell...</td>\n",
       "      <td>6</td>\n",
       "      <td>&lt;philosophy&gt;&lt;definitions&gt;&lt;intelligent-agent&gt;</td>\n",
       "      <td>3</td>\n",
       "      <td>1</td>\n",
       "    </tr>\n",
       "    <tr>\n",
       "      <th>...</th>\n",
       "      <td>...</td>\n",
       "      <td>...</td>\n",
       "      <td>...</td>\n",
       "      <td>...</td>\n",
       "      <td>...</td>\n",
       "      <td>...</td>\n",
       "      <td>...</td>\n",
       "      <td>...</td>\n",
       "      <td>...</td>\n",
       "      <td>...</td>\n",
       "    </tr>\n",
       "    <tr>\n",
       "      <th>12538</th>\n",
       "      <td>1.0</td>\n",
       "      <td>0.0</td>\n",
       "      <td>0.0</td>\n",
       "      <td>31752</td>\n",
       "      <td>Interpretability of feature weights from Gauss...</td>\n",
       "      <td>&lt;p&gt;Suppose I trained a Gaussian process classi...</td>\n",
       "      <td>16865</td>\n",
       "      <td>&lt;machine-learning&gt;&lt;feature-selection&gt;&lt;weights&gt;...</td>\n",
       "      <td>4</td>\n",
       "      <td>0</td>\n",
       "    </tr>\n",
       "    <tr>\n",
       "      <th>12540</th>\n",
       "      <td>0.0</td>\n",
       "      <td>1.0</td>\n",
       "      <td>0.0</td>\n",
       "      <td>31754</td>\n",
       "      <td>What are good heuristic functions for the boar...</td>\n",
       "      <td>&lt;p&gt;Has anyone (here) already built an AI for t...</td>\n",
       "      <td>16867</td>\n",
       "      <td>&lt;heuristics&gt;&lt;minimax&gt;</td>\n",
       "      <td>2</td>\n",
       "      <td>0</td>\n",
       "    </tr>\n",
       "    <tr>\n",
       "      <th>12541</th>\n",
       "      <td>0.0</td>\n",
       "      <td>1.0</td>\n",
       "      <td>0.0</td>\n",
       "      <td>31757</td>\n",
       "      <td>Given an input $x \\in R^{1\\times d}$ and a net...</td>\n",
       "      <td>&lt;p&gt;I have a neural network that takes as an in...</td>\n",
       "      <td>16868</td>\n",
       "      <td>&lt;neural-networks&gt;&lt;feedforward-neural-network&gt;&lt;...</td>\n",
       "      <td>4</td>\n",
       "      <td>0</td>\n",
       "    </tr>\n",
       "    <tr>\n",
       "      <th>12542</th>\n",
       "      <td>0.0</td>\n",
       "      <td>1.0</td>\n",
       "      <td>0.0</td>\n",
       "      <td>31760</td>\n",
       "      <td>How can I train YOLO with the COCO dataset?</td>\n",
       "      <td>&lt;p&gt;I am trying to implement the original YOLO ...</td>\n",
       "      <td>16869</td>\n",
       "      <td>&lt;neural-networks&gt;&lt;convolutional-neural-network...</td>\n",
       "      <td>5</td>\n",
       "      <td>0</td>\n",
       "    </tr>\n",
       "    <tr>\n",
       "      <th>12544</th>\n",
       "      <td>0.0</td>\n",
       "      <td>0.0</td>\n",
       "      <td>1.0</td>\n",
       "      <td>18358</td>\n",
       "      <td>How to use keras.utils.Sequence with multiple ...</td>\n",
       "      <td>&lt;p&gt;I am looking at the documentation and this ...</td>\n",
       "      <td>16871</td>\n",
       "      <td>&lt;tensorflow&gt;&lt;keras&gt;</td>\n",
       "      <td>2</td>\n",
       "      <td>0</td>\n",
       "    </tr>\n",
       "  </tbody>\n",
       "</table>\n",
       "<p>5086 rows × 10 columns</p>\n",
       "</div>"
      ],
      "text/plain": [
       "       CreationDate_1  CreationDate_2  ...  Tag Count  IsAnswered\n",
       "0                 1.0             0.0  ...          4           1\n",
       "1                 1.0             0.0  ...          4           1\n",
       "3                 1.0             0.0  ...          3           1\n",
       "4                 1.0             0.0  ...          2           1\n",
       "5                 1.0             0.0  ...          3           1\n",
       "...               ...             ...  ...        ...         ...\n",
       "12538             1.0             0.0  ...          4           0\n",
       "12540             0.0             1.0  ...          2           0\n",
       "12541             0.0             1.0  ...          4           0\n",
       "12542             0.0             1.0  ...          5           0\n",
       "12544             0.0             0.0  ...          2           0\n",
       "\n",
       "[5086 rows x 10 columns]"
      ]
     },
     "execution_count": 139,
     "metadata": {
      "tags": []
     },
     "output_type": "execute_result"
    }
   ],
   "source": [
    "q"
   ]
  },
  {
   "cell_type": "markdown",
   "metadata": {
    "colab_type": "text",
    "id": "xv72fBPxi7c_"
   },
   "source": [
    "xml to dict library was used to convert data to data frame, since some failure accured using xml e-tree library "
   ]
  },
  {
   "cell_type": "code",
   "execution_count": 0,
   "metadata": {
    "colab": {
     "base_uri": "https://localhost:8080/",
     "height": 34
    },
    "colab_type": "code",
    "id": "9e7wbgqIpXw2",
    "outputId": "26083939-7c64-4cc2-dc61-7942a526c58d"
   },
   "outputs": [
    {
     "name": "stdout",
     "output_type": "stream",
     "text": [
      "Requirement already satisfied: xmltodict in /usr/local/lib/python3.6/dist-packages (0.12.0)\n"
     ]
    }
   ],
   "source": [
    "!pip install xmltodict\n",
    "import xmltodict\n",
    "path = '/content/drive/My Drive/CQA/ai.stackexchange.com/Users.xml'\n",
    "xmlDict = xmltodict.parse(et.tostring(et.parse(path).getroot()))"
   ]
  },
  {
   "cell_type": "code",
   "execution_count": 0,
   "metadata": {
    "colab": {},
    "colab_type": "code",
    "id": "D4aRwNPzplTy"
   },
   "outputs": [],
   "source": [
    "a = (list(xmlDict.items())[0])[1]\n",
    "b= (list(a.items())[0])[1]"
   ]
  },
  {
   "cell_type": "markdown",
   "metadata": {
    "colab_type": "text",
    "id": "mynvf5s4jWGk"
   },
   "source": [
    "This is the initial version of the dataframe"
   ]
  },
  {
   "cell_type": "code",
   "execution_count": 0,
   "metadata": {
    "colab": {
     "base_uri": "https://localhost:8080/",
     "height": 289
    },
    "colab_type": "code",
    "id": "eg6CJUSvpr_U",
    "outputId": "f9a1e9ba-15e4-4c87-d328-49bc7dfcf476"
   },
   "outputs": [
    {
     "data": {
      "text/html": [
       "<div>\n",
       "<style scoped>\n",
       "    .dataframe tbody tr th:only-of-type {\n",
       "        vertical-align: middle;\n",
       "    }\n",
       "\n",
       "    .dataframe tbody tr th {\n",
       "        vertical-align: top;\n",
       "    }\n",
       "\n",
       "    .dataframe thead th {\n",
       "        text-align: right;\n",
       "    }\n",
       "</style>\n",
       "<table border=\"1\" class=\"dataframe\">\n",
       "  <thead>\n",
       "    <tr style=\"text-align: right;\">\n",
       "      <th></th>\n",
       "      <th>AboutMe</th>\n",
       "      <th>AccountId</th>\n",
       "      <th>CreationDate</th>\n",
       "      <th>DisplayName</th>\n",
       "      <th>DownVotes</th>\n",
       "      <th>Id</th>\n",
       "      <th>LastAccessDate</th>\n",
       "      <th>Location</th>\n",
       "      <th>Reputation</th>\n",
       "      <th>UpVotes</th>\n",
       "      <th>Views</th>\n",
       "      <th>ProfileImageUrl</th>\n",
       "      <th>WebsiteUrl</th>\n",
       "    </tr>\n",
       "  </thead>\n",
       "  <tbody>\n",
       "    <tr>\n",
       "      <th>0</th>\n",
       "      <td>&lt;p&gt;Hi, I'm not really a person.&lt;/p&gt;\\n&lt;p&gt;I'm a ...</td>\n",
       "      <td>-1</td>\n",
       "      <td>2016-08-02T00:14:10.580</td>\n",
       "      <td>Community</td>\n",
       "      <td>850</td>\n",
       "      <td>-1</td>\n",
       "      <td>2016-08-02T00:14:10.580</td>\n",
       "      <td>on the server farm</td>\n",
       "      <td>1</td>\n",
       "      <td>3</td>\n",
       "      <td>0</td>\n",
       "      <td>NaN</td>\n",
       "      <td>NaN</td>\n",
       "    </tr>\n",
       "    <tr>\n",
       "      <th>1</th>\n",
       "      <td>\\n\\n&lt;p&gt;Developer at Stack Overflow focusing on...</td>\n",
       "      <td>37099</td>\n",
       "      <td>2016-08-02T15:36:45.333</td>\n",
       "      <td>Adam Lear</td>\n",
       "      <td>0</td>\n",
       "      <td>1</td>\n",
       "      <td>2019-11-05T22:06:40.680</td>\n",
       "      <td>New York, NY</td>\n",
       "      <td>101</td>\n",
       "      <td>0</td>\n",
       "      <td>132</td>\n",
       "      <td>https://i.stack.imgur.com/SMEGn.jpg?s=128&amp;g=1</td>\n",
       "      <td>NaN</td>\n",
       "    </tr>\n",
       "    <tr>\n",
       "      <th>2</th>\n",
       "      <td>&lt;p&gt;I am the Architecture Lead for Stack Overfl...</td>\n",
       "      <td>7598</td>\n",
       "      <td>2016-08-02T15:36:48.397</td>\n",
       "      <td>Nick Craver</td>\n",
       "      <td>0</td>\n",
       "      <td>2</td>\n",
       "      <td>2016-11-30T22:09:22.300</td>\n",
       "      <td>Winston-Salem, NC</td>\n",
       "      <td>101</td>\n",
       "      <td>0</td>\n",
       "      <td>11</td>\n",
       "      <td>https://i.stack.imgur.com/nGCYr.jpg?s=128&amp;g=1</td>\n",
       "      <td>https://nickcraver.com/blog/</td>\n",
       "    </tr>\n",
       "    <tr>\n",
       "      <th>3</th>\n",
       "      <td>&lt;p&gt;Developer on the Stack Overflow team.  Find...</td>\n",
       "      <td>2</td>\n",
       "      <td>2016-08-02T15:38:01.633</td>\n",
       "      <td>Geoff Dalgas</td>\n",
       "      <td>0</td>\n",
       "      <td>3</td>\n",
       "      <td>2018-01-09T03:22:26.573</td>\n",
       "      <td>Corvallis, OR, United States</td>\n",
       "      <td>101</td>\n",
       "      <td>0</td>\n",
       "      <td>12</td>\n",
       "      <td>https://i.stack.imgur.com/nDllk.png</td>\n",
       "      <td>http://stackoverflow.com</td>\n",
       "    </tr>\n",
       "    <tr>\n",
       "      <th>4</th>\n",
       "      <td>&lt;p&gt;&lt;a href=\"https://stackexchange.com/users/16...</td>\n",
       "      <td>169656</td>\n",
       "      <td>2016-08-02T15:38:21.100</td>\n",
       "      <td>Franck Dernoncourt</td>\n",
       "      <td>2</td>\n",
       "      <td>4</td>\n",
       "      <td>2019-12-01T02:17:32.797</td>\n",
       "      <td>Adobe Research, San Jose, CA, USA</td>\n",
       "      <td>1686</td>\n",
       "      <td>15</td>\n",
       "      <td>106</td>\n",
       "      <td>https://i.stack.imgur.com/Z99mk.jpg?s=128&amp;g=1</td>\n",
       "      <td>http://www.francky.me</td>\n",
       "    </tr>\n",
       "  </tbody>\n",
       "</table>\n",
       "</div>"
      ],
      "text/plain": [
       "                                             AboutMe  ...                    WebsiteUrl\n",
       "0  <p>Hi, I'm not really a person.</p>\\n<p>I'm a ...  ...                           NaN\n",
       "1  \\n\\n<p>Developer at Stack Overflow focusing on...  ...                           NaN\n",
       "2  <p>I am the Architecture Lead for Stack Overfl...  ...  https://nickcraver.com/blog/\n",
       "3  <p>Developer on the Stack Overflow team.  Find...  ...      http://stackoverflow.com\n",
       "4  <p><a href=\"https://stackexchange.com/users/16...  ...         http://www.francky.me\n",
       "\n",
       "[5 rows x 13 columns]"
      ]
     },
     "execution_count": 142,
     "metadata": {
      "tags": []
     },
     "output_type": "execute_result"
    }
   ],
   "source": [
    "users= pd.DataFrame.from_dict(b)\n",
    "users.columns = users.columns.str[1:]\n",
    "users.head(5)"
   ]
  },
  {
   "cell_type": "markdown",
   "metadata": {
    "colab_type": "text",
    "id": "ZERL9MZ9sLT0"
   },
   "source": [
    "Nan Values are filled with \"0\" before any preprocessing"
   ]
  },
  {
   "cell_type": "code",
   "execution_count": 0,
   "metadata": {
    "colab": {
     "base_uri": "https://localhost:8080/",
     "height": 606
    },
    "colab_type": "code",
    "id": "LVJfXZV4p2pk",
    "outputId": "7daff78d-cc97-42a4-c59c-c52a74464d1e"
   },
   "outputs": [
    {
     "data": {
      "text/html": [
       "<div>\n",
       "<style scoped>\n",
       "    .dataframe tbody tr th:only-of-type {\n",
       "        vertical-align: middle;\n",
       "    }\n",
       "\n",
       "    .dataframe tbody tr th {\n",
       "        vertical-align: top;\n",
       "    }\n",
       "\n",
       "    .dataframe thead th {\n",
       "        text-align: right;\n",
       "    }\n",
       "</style>\n",
       "<table border=\"1\" class=\"dataframe\">\n",
       "  <thead>\n",
       "    <tr style=\"text-align: right;\">\n",
       "      <th></th>\n",
       "      <th>AboutMe</th>\n",
       "      <th>AccountId</th>\n",
       "      <th>CreationDate</th>\n",
       "      <th>DisplayName</th>\n",
       "      <th>DownVotes</th>\n",
       "      <th>Id</th>\n",
       "      <th>LastAccessDate</th>\n",
       "      <th>Location</th>\n",
       "      <th>Reputation</th>\n",
       "      <th>UpVotes</th>\n",
       "      <th>Views</th>\n",
       "      <th>ProfileImageUrl</th>\n",
       "      <th>WebsiteUrl</th>\n",
       "    </tr>\n",
       "  </thead>\n",
       "  <tbody>\n",
       "    <tr>\n",
       "      <th>0</th>\n",
       "      <td>&lt;p&gt;Hi, I'm not really a person.&lt;/p&gt;\\n&lt;p&gt;I'm a ...</td>\n",
       "      <td>-1</td>\n",
       "      <td>2016-08-02T00:14:10.580</td>\n",
       "      <td>Community</td>\n",
       "      <td>850</td>\n",
       "      <td>-1</td>\n",
       "      <td>2016-08-02T00:14:10.580</td>\n",
       "      <td>on the server farm</td>\n",
       "      <td>1</td>\n",
       "      <td>3</td>\n",
       "      <td>0</td>\n",
       "      <td>0</td>\n",
       "      <td>0</td>\n",
       "    </tr>\n",
       "    <tr>\n",
       "      <th>1</th>\n",
       "      <td>\\n\\n&lt;p&gt;Developer at Stack Overflow focusing on...</td>\n",
       "      <td>37099</td>\n",
       "      <td>2016-08-02T15:36:45.333</td>\n",
       "      <td>Adam Lear</td>\n",
       "      <td>0</td>\n",
       "      <td>1</td>\n",
       "      <td>2019-11-05T22:06:40.680</td>\n",
       "      <td>New York, NY</td>\n",
       "      <td>101</td>\n",
       "      <td>0</td>\n",
       "      <td>132</td>\n",
       "      <td>https://i.stack.imgur.com/SMEGn.jpg?s=128&amp;g=1</td>\n",
       "      <td>0</td>\n",
       "    </tr>\n",
       "    <tr>\n",
       "      <th>2</th>\n",
       "      <td>&lt;p&gt;I am the Architecture Lead for Stack Overfl...</td>\n",
       "      <td>7598</td>\n",
       "      <td>2016-08-02T15:36:48.397</td>\n",
       "      <td>Nick Craver</td>\n",
       "      <td>0</td>\n",
       "      <td>2</td>\n",
       "      <td>2016-11-30T22:09:22.300</td>\n",
       "      <td>Winston-Salem, NC</td>\n",
       "      <td>101</td>\n",
       "      <td>0</td>\n",
       "      <td>11</td>\n",
       "      <td>https://i.stack.imgur.com/nGCYr.jpg?s=128&amp;g=1</td>\n",
       "      <td>https://nickcraver.com/blog/</td>\n",
       "    </tr>\n",
       "    <tr>\n",
       "      <th>3</th>\n",
       "      <td>&lt;p&gt;Developer on the Stack Overflow team.  Find...</td>\n",
       "      <td>2</td>\n",
       "      <td>2016-08-02T15:38:01.633</td>\n",
       "      <td>Geoff Dalgas</td>\n",
       "      <td>0</td>\n",
       "      <td>3</td>\n",
       "      <td>2018-01-09T03:22:26.573</td>\n",
       "      <td>Corvallis, OR, United States</td>\n",
       "      <td>101</td>\n",
       "      <td>0</td>\n",
       "      <td>12</td>\n",
       "      <td>https://i.stack.imgur.com/nDllk.png</td>\n",
       "      <td>http://stackoverflow.com</td>\n",
       "    </tr>\n",
       "    <tr>\n",
       "      <th>4</th>\n",
       "      <td>&lt;p&gt;&lt;a href=\"https://stackexchange.com/users/16...</td>\n",
       "      <td>169656</td>\n",
       "      <td>2016-08-02T15:38:21.100</td>\n",
       "      <td>Franck Dernoncourt</td>\n",
       "      <td>2</td>\n",
       "      <td>4</td>\n",
       "      <td>2019-12-01T02:17:32.797</td>\n",
       "      <td>Adobe Research, San Jose, CA, USA</td>\n",
       "      <td>1686</td>\n",
       "      <td>15</td>\n",
       "      <td>106</td>\n",
       "      <td>https://i.stack.imgur.com/Z99mk.jpg?s=128&amp;g=1</td>\n",
       "      <td>http://www.francky.me</td>\n",
       "    </tr>\n",
       "    <tr>\n",
       "      <th>...</th>\n",
       "      <td>...</td>\n",
       "      <td>...</td>\n",
       "      <td>...</td>\n",
       "      <td>...</td>\n",
       "      <td>...</td>\n",
       "      <td>...</td>\n",
       "      <td>...</td>\n",
       "      <td>...</td>\n",
       "      <td>...</td>\n",
       "      <td>...</td>\n",
       "      <td>...</td>\n",
       "      <td>...</td>\n",
       "      <td>...</td>\n",
       "    </tr>\n",
       "    <tr>\n",
       "      <th>27249</th>\n",
       "      <td>0</td>\n",
       "      <td>17213204</td>\n",
       "      <td>2019-11-30T22:00:54.253</td>\n",
       "      <td>John Smith</td>\n",
       "      <td>0</td>\n",
       "      <td>31761</td>\n",
       "      <td>2019-11-30T22:26:42.627</td>\n",
       "      <td>0</td>\n",
       "      <td>1</td>\n",
       "      <td>0</td>\n",
       "      <td>0</td>\n",
       "      <td>https://lh5.googleusercontent.com/-5ilZeSRmGLE...</td>\n",
       "      <td>0</td>\n",
       "    </tr>\n",
       "    <tr>\n",
       "      <th>27250</th>\n",
       "      <td>0</td>\n",
       "      <td>7045920</td>\n",
       "      <td>2019-11-30T22:36:38.137</td>\n",
       "      <td>Shreesha N</td>\n",
       "      <td>0</td>\n",
       "      <td>31762</td>\n",
       "      <td>2019-11-30T22:36:38.137</td>\n",
       "      <td>Bengaluru, Karnataka, India</td>\n",
       "      <td>101</td>\n",
       "      <td>0</td>\n",
       "      <td>0</td>\n",
       "      <td>https://lh5.googleusercontent.com/-B9TrXYcb1LI...</td>\n",
       "      <td>0</td>\n",
       "    </tr>\n",
       "    <tr>\n",
       "      <th>27251</th>\n",
       "      <td>0</td>\n",
       "      <td>12300113</td>\n",
       "      <td>2019-11-30T23:06:22.727</td>\n",
       "      <td>Lucia del Pilar Botiquin Ortiz</td>\n",
       "      <td>0</td>\n",
       "      <td>31763</td>\n",
       "      <td>2019-11-30T23:06:22.727</td>\n",
       "      <td>0</td>\n",
       "      <td>1</td>\n",
       "      <td>0</td>\n",
       "      <td>0</td>\n",
       "      <td>https://lh4.googleusercontent.com/-7i7vN_ACZ1E...</td>\n",
       "      <td>0</td>\n",
       "    </tr>\n",
       "    <tr>\n",
       "      <th>27252</th>\n",
       "      <td>0</td>\n",
       "      <td>46273</td>\n",
       "      <td>2019-12-01T00:06:05.430</td>\n",
       "      <td>gaefan</td>\n",
       "      <td>0</td>\n",
       "      <td>31764</td>\n",
       "      <td>2019-12-01T00:37:07.643</td>\n",
       "      <td>02143</td>\n",
       "      <td>101</td>\n",
       "      <td>0</td>\n",
       "      <td>0</td>\n",
       "      <td>https://www.gravatar.com/avatar/55c76f58f63ba7...</td>\n",
       "      <td>0</td>\n",
       "    </tr>\n",
       "    <tr>\n",
       "      <th>27253</th>\n",
       "      <td>&lt;p&gt;Interested in CUDA programming for GPUs.&lt;/p&gt;\\n</td>\n",
       "      <td>1145486</td>\n",
       "      <td>2019-12-01T00:19:30.240</td>\n",
       "      <td>MuneshSingh</td>\n",
       "      <td>0</td>\n",
       "      <td>31765</td>\n",
       "      <td>2019-12-01T01:15:45.660</td>\n",
       "      <td>Oman</td>\n",
       "      <td>1</td>\n",
       "      <td>0</td>\n",
       "      <td>0</td>\n",
       "      <td>https://i.stack.imgur.com/orCpR.jpg?s=128&amp;g=1</td>\n",
       "      <td>http://ibri.cas.edu.om</td>\n",
       "    </tr>\n",
       "  </tbody>\n",
       "</table>\n",
       "<p>27254 rows × 13 columns</p>\n",
       "</div>"
      ],
      "text/plain": [
       "                                                 AboutMe  ...                    WebsiteUrl\n",
       "0      <p>Hi, I'm not really a person.</p>\\n<p>I'm a ...  ...                             0\n",
       "1      \\n\\n<p>Developer at Stack Overflow focusing on...  ...                             0\n",
       "2      <p>I am the Architecture Lead for Stack Overfl...  ...  https://nickcraver.com/blog/\n",
       "3      <p>Developer on the Stack Overflow team.  Find...  ...      http://stackoverflow.com\n",
       "4      <p><a href=\"https://stackexchange.com/users/16...  ...         http://www.francky.me\n",
       "...                                                  ...  ...                           ...\n",
       "27249                                                  0  ...                             0\n",
       "27250                                                  0  ...                             0\n",
       "27251                                                  0  ...                             0\n",
       "27252                                                  0  ...                             0\n",
       "27253  <p>Interested in CUDA programming for GPUs.</p>\\n  ...        http://ibri.cas.edu.om\n",
       "\n",
       "[27254 rows x 13 columns]"
      ]
     },
     "execution_count": 143,
     "metadata": {
      "tags": []
     },
     "output_type": "execute_result"
    }
   ],
   "source": [
    "users.fillna(0)"
   ]
  },
  {
   "cell_type": "markdown",
   "metadata": {
    "colab_type": "text",
    "id": "ujZrprzBjoF0"
   },
   "source": [
    "Users.xml dataset will be merged with Posts.xml data set \n",
    "\n",
    "*   They are merged from their joint parameter user id \n",
    "*   user id is \"Id\" parameter in User.xml data \"Owner User ID\" in Posts.xml data\n",
    "*   Both parameters first converted into int type \n",
    "*   There were 3909 unique ids which indicated there are 3909 different users who have asked questions in this data sets \n",
    "*   So the data frames were merged according to them\n",
    "\n",
    "\n"
   ]
  },
  {
   "cell_type": "code",
   "execution_count": 0,
   "metadata": {
    "colab": {},
    "colab_type": "code",
    "id": "c4j20COFqAd_"
   },
   "outputs": [],
   "source": [
    "users['Id'] = users['Id'].astype(int)"
   ]
  },
  {
   "cell_type": "code",
   "execution_count": 0,
   "metadata": {
    "colab": {},
    "colab_type": "code",
    "id": "Q8hwxGXuHIEO"
   },
   "outputs": [],
   "source": [
    "posts=q"
   ]
  },
  {
   "cell_type": "code",
   "execution_count": 0,
   "metadata": {
    "colab": {},
    "colab_type": "code",
    "id": "J8a4uchqqAl8"
   },
   "outputs": [],
   "source": [
    "posts['Owner User ID']=posts ['Owner User ID'].astype(int)"
   ]
  },
  {
   "cell_type": "code",
   "execution_count": 0,
   "metadata": {
    "colab": {
     "base_uri": "https://localhost:8080/",
     "height": 34
    },
    "colab_type": "code",
    "id": "uwVXO24jqApl",
    "outputId": "3c1c2e27-0a2c-4ed8-b459-571d9663060c"
   },
   "outputs": [
    {
     "data": {
      "text/plain": [
       "2906"
      ]
     },
     "execution_count": 147,
     "metadata": {
      "tags": []
     },
     "output_type": "execute_result"
    }
   ],
   "source": [
    "posts['Owner User ID'].nunique()"
   ]
  },
  {
   "cell_type": "code",
   "execution_count": 0,
   "metadata": {
    "colab": {
     "base_uri": "https://localhost:8080/",
     "height": 34
    },
    "colab_type": "code",
    "id": "6bmPxwoFtvkj",
    "outputId": "c27df55a-6455-43e0-a265-a9140309d630"
   },
   "outputs": [
    {
     "data": {
      "text/plain": [
       "27254"
      ]
     },
     "execution_count": 148,
     "metadata": {
      "tags": []
     },
     "output_type": "execute_result"
    }
   ],
   "source": [
    "users['Id'].nunique()"
   ]
  },
  {
   "cell_type": "code",
   "execution_count": 0,
   "metadata": {
    "colab": {},
    "colab_type": "code",
    "id": "STpTn0LgqAuF"
   },
   "outputs": [],
   "source": [
    "intersection=set(users['Id']).intersection(set(posts['Owner User ID']))"
   ]
  },
  {
   "cell_type": "code",
   "execution_count": 0,
   "metadata": {
    "colab": {
     "base_uri": "https://localhost:8080/",
     "height": 34
    },
    "colab_type": "code",
    "id": "OWQdD-55qA0o",
    "outputId": "b04be5f8-db63-49cf-c928-564188bddb9f"
   },
   "outputs": [
    {
     "data": {
      "text/plain": [
       "2905"
      ]
     },
     "execution_count": 150,
     "metadata": {
      "tags": []
     },
     "output_type": "execute_result"
    }
   ],
   "source": [
    "len(intersection)"
   ]
  },
  {
   "cell_type": "markdown",
   "metadata": {
    "colab_type": "text",
    "id": "57KoqlAzk_M5"
   },
   "source": [
    "New id was defined as \"Owner User ID\" from Posts.xml and \"Id\" User.xml\n"
   ]
  },
  {
   "cell_type": "code",
   "execution_count": 0,
   "metadata": {
    "colab": {},
    "colab_type": "code",
    "id": "n8qmCsjUqA5J"
   },
   "outputs": [],
   "source": [
    "posts['New Id']=posts['Owner User ID']"
   ]
  },
  {
   "cell_type": "code",
   "execution_count": 0,
   "metadata": {
    "colab": {},
    "colab_type": "code",
    "id": "IqkUruXTuvt3"
   },
   "outputs": [],
   "source": [
    "users['New Id']=users['Id']"
   ]
  },
  {
   "cell_type": "markdown",
   "metadata": {
    "colab_type": "text",
    "id": "AyvmBQfnlLby"
   },
   "source": [
    "To eliminate confusion on naming of parameters between user and posts data, parameter names have changed such as CreationDate to User Creation Date"
   ]
  },
  {
   "cell_type": "code",
   "execution_count": 0,
   "metadata": {
    "colab": {},
    "colab_type": "code",
    "id": "sOIxSe87u9U7"
   },
   "outputs": [],
   "source": [
    "users ['User Creation Date']=users ['CreationDate']\n",
    "users ['User Last Access Date']=users ['LastAccessDate']\n"
   ]
  },
  {
   "cell_type": "markdown",
   "metadata": {
    "colab_type": "text",
    "id": "STjZIuzcsgyE"
   },
   "source": [
    "2 data sets were merged from their joint parameter (user id)"
   ]
  },
  {
   "cell_type": "code",
   "execution_count": 0,
   "metadata": {
    "colab": {},
    "colab_type": "code",
    "id": "C1VXmocyu9kW"
   },
   "outputs": [],
   "source": [
    "new=posts.merge(users,on=\"New Id\")"
   ]
  },
  {
   "cell_type": "markdown",
   "metadata": {
    "colab_type": "text",
    "id": "cwomXk5znnM5"
   },
   "source": [
    "Also unnecessary Id parameters and Url parameters were eliminated.\n",
    "Creation Date and LastAccessDate were dropped since their updated with other parameters name above"
   ]
  },
  {
   "cell_type": "code",
   "execution_count": 0,
   "metadata": {
    "colab": {},
    "colab_type": "code",
    "id": "ld2jgfPmWO5h"
   },
   "outputs": [],
   "source": [
    "newposts=new.drop(axis=1,columns=[\"Owner User ID\",\"AccountId\",\"DisplayName\",\"CreationDate\",\"Id\",\"LastAccessDate\",\"Location\",\"ProfileImageUrl\",\"WebsiteUrl\",\"AboutMe\"])"
   ]
  },
  {
   "cell_type": "markdown",
   "metadata": {
    "colab_type": "text",
    "id": "9p3BmgEOpi1e"
   },
   "source": [
    "Since our task is to make a prediction at the time the question asked, we did not use posts down votes and upvotes .Thus user downvotes upvotes are the only ones. For ease of use We have changed the parameter names."
   ]
  },
  {
   "cell_type": "code",
   "execution_count": 0,
   "metadata": {
    "colab": {},
    "colab_type": "code",
    "id": "u-uu6PDgpg7U"
   },
   "outputs": [],
   "source": [
    "newposts['User DownVotes']=newposts['DownVotes']\n",
    "newposts['User UpVotes']=newposts['UpVotes']\n",
    "newposts['User Reputation']=newposts['Reputation']\n",
    "newposts['User Views']=newposts['Views']\n"
   ]
  },
  {
   "cell_type": "code",
   "execution_count": 0,
   "metadata": {
    "colab": {},
    "colab_type": "code",
    "id": "WiI08_AGprNb"
   },
   "outputs": [],
   "source": [
    "newposts=newposts.drop(axis=1,columns=[\"DownVotes\",\"UpVotes\",\"Reputation\",\"Views\"])"
   ]
  },
  {
   "cell_type": "code",
   "execution_count": 0,
   "metadata": {
    "colab": {
     "base_uri": "https://localhost:8080/",
     "height": 323
    },
    "colab_type": "code",
    "id": "6DHag0AqyamC",
    "outputId": "c6124fc6-13b0-4ca1-8e93-b7763d065431"
   },
   "outputs": [
    {
     "data": {
      "text/html": [
       "<div>\n",
       "<style scoped>\n",
       "    .dataframe tbody tr th:only-of-type {\n",
       "        vertical-align: middle;\n",
       "    }\n",
       "\n",
       "    .dataframe tbody tr th {\n",
       "        vertical-align: top;\n",
       "    }\n",
       "\n",
       "    .dataframe thead th {\n",
       "        text-align: right;\n",
       "    }\n",
       "</style>\n",
       "<table border=\"1\" class=\"dataframe\">\n",
       "  <thead>\n",
       "    <tr style=\"text-align: right;\">\n",
       "      <th></th>\n",
       "      <th>CreationDate_1</th>\n",
       "      <th>CreationDate_2</th>\n",
       "      <th>CreationDate_3</th>\n",
       "      <th>Title</th>\n",
       "      <th>Body</th>\n",
       "      <th>ID</th>\n",
       "      <th>Tags</th>\n",
       "      <th>Tag Count</th>\n",
       "      <th>IsAnswered</th>\n",
       "      <th>New Id</th>\n",
       "      <th>User Creation Date</th>\n",
       "      <th>User Last Access Date</th>\n",
       "      <th>User DownVotes</th>\n",
       "      <th>User UpVotes</th>\n",
       "      <th>User Reputation</th>\n",
       "      <th>User Views</th>\n",
       "    </tr>\n",
       "  </thead>\n",
       "  <tbody>\n",
       "    <tr>\n",
       "      <th>0</th>\n",
       "      <td>1.0</td>\n",
       "      <td>0.0</td>\n",
       "      <td>0.0</td>\n",
       "      <td>What is \"backprop\"?</td>\n",
       "      <td>&lt;p&gt;What does \"backprop\" mean? Is the \"backprop...</td>\n",
       "      <td>1</td>\n",
       "      <td>&lt;neural-networks&gt;&lt;backpropagation&gt;&lt;terminology...</td>\n",
       "      <td>4</td>\n",
       "      <td>1</td>\n",
       "      <td>8</td>\n",
       "      <td>2016-08-02T15:38:36.723</td>\n",
       "      <td>2019-11-30T19:21:45.687</td>\n",
       "      <td>3</td>\n",
       "      <td>580</td>\n",
       "      <td>8343</td>\n",
       "      <td>392</td>\n",
       "    </tr>\n",
       "    <tr>\n",
       "      <th>1</th>\n",
       "      <td>1.0</td>\n",
       "      <td>0.0</td>\n",
       "      <td>0.0</td>\n",
       "      <td>How does noise affect generalization?</td>\n",
       "      <td>&lt;p&gt;Does increasing the noise in data help to i...</td>\n",
       "      <td>2</td>\n",
       "      <td>&lt;neural-networks&gt;&lt;machine-learning&gt;&lt;statistica...</td>\n",
       "      <td>4</td>\n",
       "      <td>1</td>\n",
       "      <td>8</td>\n",
       "      <td>2016-08-02T15:38:36.723</td>\n",
       "      <td>2019-11-30T19:21:45.687</td>\n",
       "      <td>3</td>\n",
       "      <td>580</td>\n",
       "      <td>8343</td>\n",
       "      <td>392</td>\n",
       "    </tr>\n",
       "    <tr>\n",
       "      <th>2</th>\n",
       "      <td>1.0</td>\n",
       "      <td>0.0</td>\n",
       "      <td>0.0</td>\n",
       "      <td>How to find the optimal number of neurons per ...</td>\n",
       "      <td>&lt;p&gt;When you're writing your algorithm, how do ...</td>\n",
       "      <td>4</td>\n",
       "      <td>&lt;deep-network&gt;&lt;search&gt;&lt;neurons&gt;</td>\n",
       "      <td>3</td>\n",
       "      <td>1</td>\n",
       "      <td>8</td>\n",
       "      <td>2016-08-02T15:38:36.723</td>\n",
       "      <td>2019-11-30T19:21:45.687</td>\n",
       "      <td>3</td>\n",
       "      <td>580</td>\n",
       "      <td>8343</td>\n",
       "      <td>392</td>\n",
       "    </tr>\n",
       "    <tr>\n",
       "      <th>3</th>\n",
       "      <td>1.0</td>\n",
       "      <td>0.0</td>\n",
       "      <td>0.0</td>\n",
       "      <td>What is fuzzy logic?</td>\n",
       "      <td>&lt;p&gt;I'm new to A.I. and I'd like to know in sim...</td>\n",
       "      <td>10</td>\n",
       "      <td>&lt;deep-network&gt;&lt;terminology&gt;&lt;fuzzy-logic&gt;</td>\n",
       "      <td>3</td>\n",
       "      <td>1</td>\n",
       "      <td>8</td>\n",
       "      <td>2016-08-02T15:38:36.723</td>\n",
       "      <td>2019-11-30T19:21:45.687</td>\n",
       "      <td>3</td>\n",
       "      <td>580</td>\n",
       "      <td>8343</td>\n",
       "      <td>392</td>\n",
       "    </tr>\n",
       "    <tr>\n",
       "      <th>4</th>\n",
       "      <td>1.0</td>\n",
       "      <td>0.0</td>\n",
       "      <td>0.0</td>\n",
       "      <td>What is \"early stopping\" in machine learning?</td>\n",
       "      <td>&lt;p&gt;What is &lt;a href=\"https://en.wikipedia.org/w...</td>\n",
       "      <td>16</td>\n",
       "      <td>&lt;deep-learning&gt;&lt;definitions&gt;&lt;overfitting&gt;&lt;regu...</td>\n",
       "      <td>5</td>\n",
       "      <td>1</td>\n",
       "      <td>8</td>\n",
       "      <td>2016-08-02T15:38:36.723</td>\n",
       "      <td>2019-11-30T19:21:45.687</td>\n",
       "      <td>3</td>\n",
       "      <td>580</td>\n",
       "      <td>8343</td>\n",
       "      <td>392</td>\n",
       "    </tr>\n",
       "  </tbody>\n",
       "</table>\n",
       "</div>"
      ],
      "text/plain": [
       "   CreationDate_1  CreationDate_2  ...  User Reputation User Views\n",
       "0             1.0             0.0  ...             8343        392\n",
       "1             1.0             0.0  ...             8343        392\n",
       "2             1.0             0.0  ...             8343        392\n",
       "3             1.0             0.0  ...             8343        392\n",
       "4             1.0             0.0  ...             8343        392\n",
       "\n",
       "[5 rows x 16 columns]"
      ]
     },
     "execution_count": 158,
     "metadata": {
      "tags": []
     },
     "output_type": "execute_result"
    }
   ],
   "source": [
    "newposts.head()"
   ]
  },
  {
   "cell_type": "code",
   "execution_count": 0,
   "metadata": {
    "colab": {},
    "colab_type": "code",
    "id": "hzcx97q546nD"
   },
   "outputs": [],
   "source": [
    "newposts['User Creation Date'] = pd.to_datetime(newposts['User Creation Date'])\n",
    "newposts['User Last Access Date'] = pd.to_datetime(newposts['User Last Access Date'])\n",
    "newposts['New Id'] = newposts['New Id'].astype(int)\n",
    "newposts['User DownVotes'] = newposts['User DownVotes'].astype(int)\n",
    "newposts['User UpVotes'] = newposts['User UpVotes'].astype(int)\n",
    "newposts['User Reputation'] = newposts['User Reputation'].astype(int)\n",
    "newposts['User Views'] = newposts['User Views'].astype(int)\n",
    "newposts['ID'] = newposts['ID'].astype(int)\n",
    "newposts['IsAnswered']=newposts['IsAnswered'].astype(int)\n"
   ]
  },
  {
   "cell_type": "code",
   "execution_count": 0,
   "metadata": {
    "colab": {
     "base_uri": "https://localhost:8080/",
     "height": 306
    },
    "colab_type": "code",
    "id": "fHg-fimW473J",
    "outputId": "d441728a-82da-42d3-81fb-0e65107dd626"
   },
   "outputs": [
    {
     "data": {
      "text/plain": [
       "CreationDate_1                  float64\n",
       "CreationDate_2                  float64\n",
       "CreationDate_3                  float64\n",
       "Title                            object\n",
       "Body                             object\n",
       "ID                                int64\n",
       "Tags                             object\n",
       "Tag Count                         int64\n",
       "IsAnswered                        int64\n",
       "New Id                            int64\n",
       "User Creation Date       datetime64[ns]\n",
       "User Last Access Date    datetime64[ns]\n",
       "User DownVotes                    int64\n",
       "User UpVotes                      int64\n",
       "User Reputation                   int64\n",
       "User Views                        int64\n",
       "dtype: object"
      ]
     },
     "execution_count": 160,
     "metadata": {
      "tags": []
     },
     "output_type": "execute_result"
    }
   ],
   "source": [
    "newposts.dtypes\n"
   ]
  },
  {
   "cell_type": "markdown",
   "metadata": {
    "colab_type": "text",
    "id": "KR5pBSUPoiPA"
   },
   "source": [
    "Label encoding on dates implemented on User creation date and user last acces date also."
   ]
  },
  {
   "cell_type": "code",
   "execution_count": 0,
   "metadata": {
    "colab": {},
    "colab_type": "code",
    "id": "jGd1ZwHI4D0d"
   },
   "outputs": [],
   "source": [
    "def get_part_of_day(x):\n",
    "    return (\n",
    "        \"1\" if 5 <= int(x.strftime('%H')) <= 10\n",
    "        else\n",
    "        \"2\" if 11<=  int(x.strftime('%H'))<= 16\n",
    "        else\n",
    "        \"3\" if 17 <= int(x.strftime('%H'))  <= 22\n",
    "        else\n",
    "        \"4\"\n",
    "    )\n",
    "    \n",
    "newposts[\"User Creation Date\"] = newposts[\"User Creation Date\"].apply(get_part_of_day)\n",
    "newposts[\"User Last Access Date\"] = newposts[\"User Last Access Date\"].apply(get_part_of_day)\n"
   ]
  },
  {
   "cell_type": "markdown",
   "metadata": {
    "colab_type": "text",
    "id": "8Z-Ozuk2p3mw"
   },
   "source": [
    "one hot encoding implemented on user.xml date format data"
   ]
  },
  {
   "cell_type": "code",
   "execution_count": 0,
   "metadata": {
    "colab": {},
    "colab_type": "code",
    "id": "EM7sGNPIowG1"
   },
   "outputs": [],
   "source": [
    "from sklearn.preprocessing import OneHotEncoder\n",
    "\n",
    "ohe = OneHotEncoder(categories = \"auto\",sparse = False, drop = \"first\")\n",
    "# One-Hot-Encode Class column of df\n",
    "temp = ohe.fit_transform(newposts[[\"User Creation Date\"]])\n",
    "\n",
    "\n",
    "# Converting into dataframe\n",
    "ohe_column = pd.DataFrame(temp, columns = [\"UserCreationDate_1\",\"UserCreationDate_2\",\"UserCreationDate_3\"])\n",
    "#containating ohe column\n",
    "newposts= pd.concat([newposts,ohe_column],axis = 1)\n"
   ]
  },
  {
   "cell_type": "code",
   "execution_count": 0,
   "metadata": {
    "colab": {},
    "colab_type": "code",
    "id": "HSYtRsLYo1D7"
   },
   "outputs": [],
   "source": [
    "from sklearn.preprocessing import OneHotEncoder\n",
    "\n",
    "ohe = OneHotEncoder(categories = \"auto\",sparse = False, drop = \"first\")\n",
    "# One-Hot-Encode Class column of df\n",
    "temp = ohe.fit_transform(newposts[[\"User Last Access Date\"]])\n",
    "\n",
    "\n",
    "# Converting into dataframe\n",
    "ohe_column = pd.DataFrame(temp, columns = [\"UserLastAccessDate_1\",\"UserLastAccessDate_2\",\"UserLastAccessDate_3\"])\n",
    "#containating ohe column\n",
    "newposts= pd.concat([newposts,ohe_column],axis = 1)\n"
   ]
  },
  {
   "cell_type": "code",
   "execution_count": 0,
   "metadata": {
    "colab": {},
    "colab_type": "code",
    "id": "OQfIul7SvUHH"
   },
   "outputs": [],
   "source": [
    "newposts=newposts.drop(axis=1, columns=[\"User Creation Date\",\"User Last Access Date\"])\n"
   ]
  },
  {
   "cell_type": "markdown",
   "metadata": {
    "colab_type": "text",
    "id": "fwDdGp68p-0E"
   },
   "source": [
    " xml tags are eliminated from tags to be used and preprocessing applied on text before they are added to data frame"
   ]
  },
  {
   "cell_type": "code",
   "execution_count": 0,
   "metadata": {
    "colab": {},
    "colab_type": "code",
    "id": "IF6YpGUMZx6C"
   },
   "outputs": [],
   "source": [
    "newposts['Tags'] = newposts['Tags'].str.replace('<', '')\n",
    "newposts['Tags'] = newposts['Tags'].str.replace('>', ' ')\n",
    "newposts['Tags'] = newposts['Tags'].str.replace('-', ' ')\n",
    "newposts['Tags'] = newposts['Tags'].str.split(' ')"
   ]
  },
  {
   "cell_type": "code",
   "execution_count": 0,
   "metadata": {
    "colab": {
     "base_uri": "https://localhost:8080/",
     "height": 221
    },
    "colab_type": "code",
    "id": "qCjLVk3ObYAE",
    "outputId": "e68ab1a0-78fb-476e-ca99-27a144ffc085"
   },
   "outputs": [
    {
     "data": {
      "text/plain": [
       "0       [neural, networks, backpropagation, terminolog...\n",
       "1       [neural, networks, machine, learning, statisti...\n",
       "2                      [deep, network, search, neurons, ]\n",
       "3            [deep, network, terminology, fuzzy, logic, ]\n",
       "4       [deep, learning, definitions, overfitting, reg...\n",
       "                              ...                        \n",
       "5041                                            [logic, ]\n",
       "5042    [machine, learning, feature, selection, weight...\n",
       "5043                              [heuristics, minimax, ]\n",
       "5044    [neural, networks, feedforward, neural, networ...\n",
       "5045    [neural, networks, convolutional, neural, netw...\n",
       "Name: Tags, Length: 5046, dtype: object"
      ]
     },
     "execution_count": 166,
     "metadata": {
      "tags": []
     },
     "output_type": "execute_result"
    }
   ],
   "source": [
    "newposts['Tags']"
   ]
  },
  {
   "cell_type": "code",
   "execution_count": 0,
   "metadata": {
    "colab": {},
    "colab_type": "code",
    "id": "8R2-H5o2aJ3r"
   },
   "outputs": [],
   "source": [
    "newposts['Tags'] = newposts['Tags'].apply(lambda x: ' '.join(map(str, x)))"
   ]
  },
  {
   "cell_type": "code",
   "execution_count": 0,
   "metadata": {
    "colab": {},
    "colab_type": "code",
    "id": "nKY9xEDYr6ma"
   },
   "outputs": [],
   "source": [
    "newposts=newposts[newposts['Tags'].notna()]"
   ]
  },
  {
   "cell_type": "code",
   "execution_count": 0,
   "metadata": {
    "colab": {},
    "colab_type": "code",
    "id": "qyb1Z3rqsFDE"
   },
   "outputs": [],
   "source": [
    "newposts = newposts.reset_index()"
   ]
  },
  {
   "cell_type": "code",
   "execution_count": 0,
   "metadata": {
    "colab": {},
    "colab_type": "code",
    "id": "r0vlAZXjsJwK"
   },
   "outputs": [],
   "source": [
    "del newposts['index']"
   ]
  },
  {
   "cell_type": "markdown",
   "metadata": {
    "colab_type": "text",
    "id": "1ZAJyX_TsfWt"
   },
   "source": [
    "Count vectorizer method applied on tags data\n"
   ]
  },
  {
   "cell_type": "code",
   "execution_count": 0,
   "metadata": {
    "colab": {},
    "colab_type": "code",
    "id": "sqvu-Xl_c3_k"
   },
   "outputs": [],
   "source": [
    "def wm2df(wm, feat_names):\n",
    "    \n",
    "    # create an index for each row\n",
    "    doc_names = ['Doc{:d}'.format(idx) for idx, _ in enumerate(wm)]\n",
    "    df = pd.DataFrame(data=wm.toarray(), index=doc_names,\n",
    "                      columns=feat_names)\n",
    "    return(df)"
   ]
  },
  {
   "cell_type": "code",
   "execution_count": 0,
   "metadata": {
    "colab": {},
    "colab_type": "code",
    "id": "RrGFXRoPfslX"
   },
   "outputs": [],
   "source": [
    "from sklearn.feature_extraction.text import CountVectorizer\n",
    "cvec = CountVectorizer()\n",
    "corpus = newposts['Tags'].tolist()\n",
    "tags_vec = cvec.fit_transform(corpus)\n",
    "tokens = cvec.get_feature_names()\n",
    "wm2df(tags_vec, tokens)\n",
    "newposts.insert(4,'TagsVec', tags_vec) "
   ]
  },
  {
   "cell_type": "code",
   "execution_count": 0,
   "metadata": {
    "colab": {},
    "colab_type": "code",
    "id": "aU2uo04hs7DF"
   },
   "outputs": [],
   "source": [
    "word_df = pd.DataFrame(tags_vec.toarray(),columns=tokens)"
   ]
  },
  {
   "cell_type": "code",
   "execution_count": 0,
   "metadata": {
    "colab": {},
    "colab_type": "code",
    "id": "QttF1ozor6jB"
   },
   "outputs": [],
   "source": [
    "tags_added=pd.concat([newposts, word_df], axis=1)"
   ]
  },
  {
   "cell_type": "code",
   "execution_count": 0,
   "metadata": {
    "colab": {},
    "colab_type": "code",
    "id": "BPJHn6var-ar"
   },
   "outputs": [],
   "source": [
    "tags_added=tags_added.drop(axis=1,columns=[\"TagsVec\"])"
   ]
  },
  {
   "cell_type": "code",
   "execution_count": 0,
   "metadata": {
    "colab": {},
    "colab_type": "code",
    "id": "eAYMIIrMsCfI"
   },
   "outputs": [],
   "source": [
    "tags_added= tags_added.drop(axis = 1, columns = ['Tags'])"
   ]
  },
  {
   "cell_type": "code",
   "execution_count": 0,
   "metadata": {
    "colab": {},
    "colab_type": "code",
    "id": "bk9WhKUFsGrm"
   },
   "outputs": [],
   "source": [
    "tags_added= tags_added.drop(axis = 1, columns = ['New Id'])"
   ]
  },
  {
   "cell_type": "markdown",
   "metadata": {
    "colab_type": "text",
    "id": "fk3f8VH3ssIt"
   },
   "source": [
    "Demonstration of data frame after tags added"
   ]
  },
  {
   "cell_type": "code",
   "execution_count": 0,
   "metadata": {
    "colab": {
     "base_uri": "https://localhost:8080/",
     "height": 248
    },
    "colab_type": "code",
    "id": "8aqYWi8qvDIb",
    "outputId": "b800636c-2ae7-498b-c39c-9feb5760a5a0"
   },
   "outputs": [
    {
     "data": {
      "text/html": [
       "<div>\n",
       "<style scoped>\n",
       "    .dataframe tbody tr th:only-of-type {\n",
       "        vertical-align: middle;\n",
       "    }\n",
       "\n",
       "    .dataframe tbody tr th {\n",
       "        vertical-align: top;\n",
       "    }\n",
       "\n",
       "    .dataframe thead th {\n",
       "        text-align: right;\n",
       "    }\n",
       "</style>\n",
       "<table border=\"1\" class=\"dataframe\">\n",
       "  <thead>\n",
       "    <tr style=\"text-align: right;\">\n",
       "      <th></th>\n",
       "      <th>CreationDate_1</th>\n",
       "      <th>CreationDate_2</th>\n",
       "      <th>CreationDate_3</th>\n",
       "      <th>Title</th>\n",
       "      <th>Body</th>\n",
       "      <th>ID</th>\n",
       "      <th>Tag Count</th>\n",
       "      <th>IsAnswered</th>\n",
       "      <th>User DownVotes</th>\n",
       "      <th>User UpVotes</th>\n",
       "      <th>User Reputation</th>\n",
       "      <th>User Views</th>\n",
       "      <th>UserCreationDate_1</th>\n",
       "      <th>UserCreationDate_2</th>\n",
       "      <th>UserCreationDate_3</th>\n",
       "      <th>UserLastAccessDate_1</th>\n",
       "      <th>UserLastAccessDate_2</th>\n",
       "      <th>UserLastAccessDate_3</th>\n",
       "      <th>academia</th>\n",
       "      <th>accessibility</th>\n",
       "      <th>accuracy</th>\n",
       "      <th>acquisition</th>\n",
       "      <th>action</th>\n",
       "      <th>activation</th>\n",
       "      <th>active</th>\n",
       "      <th>actor</th>\n",
       "      <th>admissible</th>\n",
       "      <th>advantage</th>\n",
       "      <th>adversarial</th>\n",
       "      <th>aesthetics</th>\n",
       "      <th>affective</th>\n",
       "      <th>agent</th>\n",
       "      <th>agents</th>\n",
       "      <th>agi</th>\n",
       "      <th>ai</th>\n",
       "      <th>aixi</th>\n",
       "      <th>algebra</th>\n",
       "      <th>algorithm</th>\n",
       "      <th>algorithmic</th>\n",
       "      <th>algorithms</th>\n",
       "      <th>...</th>\n",
       "      <th>time</th>\n",
       "      <th>topology</th>\n",
       "      <th>traces</th>\n",
       "      <th>tradeoff</th>\n",
       "      <th>trading</th>\n",
       "      <th>training</th>\n",
       "      <th>transfer</th>\n",
       "      <th>transformer</th>\n",
       "      <th>translation</th>\n",
       "      <th>tree</th>\n",
       "      <th>trpo</th>\n",
       "      <th>turing</th>\n",
       "      <th>uct</th>\n",
       "      <th>underfitting</th>\n",
       "      <th>uniform</th>\n",
       "      <th>unit</th>\n",
       "      <th>universal</th>\n",
       "      <th>unsupervised</th>\n",
       "      <th>utility</th>\n",
       "      <th>validation</th>\n",
       "      <th>value</th>\n",
       "      <th>variable</th>\n",
       "      <th>variance</th>\n",
       "      <th>variational</th>\n",
       "      <th>vc</th>\n",
       "      <th>vectors</th>\n",
       "      <th>vehicles</th>\n",
       "      <th>vision</th>\n",
       "      <th>visualization</th>\n",
       "      <th>voice</th>\n",
       "      <th>wake</th>\n",
       "      <th>watson</th>\n",
       "      <th>weak</th>\n",
       "      <th>weights</th>\n",
       "      <th>wetware</th>\n",
       "      <th>winter</th>\n",
       "      <th>word</th>\n",
       "      <th>word2vec</th>\n",
       "      <th>world</th>\n",
       "      <th>zero</th>\n",
       "    </tr>\n",
       "  </thead>\n",
       "  <tbody>\n",
       "    <tr>\n",
       "      <th>5045</th>\n",
       "      <td>0.0</td>\n",
       "      <td>1.0</td>\n",
       "      <td>0.0</td>\n",
       "      <td>How can I train YOLO with the COCO dataset?</td>\n",
       "      <td>&lt;p&gt;I am trying to implement the original YOLO ...</td>\n",
       "      <td>16869</td>\n",
       "      <td>5</td>\n",
       "      <td>0</td>\n",
       "      <td>0</td>\n",
       "      <td>0</td>\n",
       "      <td>21</td>\n",
       "      <td>0</td>\n",
       "      <td>0.0</td>\n",
       "      <td>1.0</td>\n",
       "      <td>0.0</td>\n",
       "      <td>0.0</td>\n",
       "      <td>1.0</td>\n",
       "      <td>0.0</td>\n",
       "      <td>0</td>\n",
       "      <td>0</td>\n",
       "      <td>0</td>\n",
       "      <td>0</td>\n",
       "      <td>0</td>\n",
       "      <td>0</td>\n",
       "      <td>0</td>\n",
       "      <td>0</td>\n",
       "      <td>0</td>\n",
       "      <td>0</td>\n",
       "      <td>0</td>\n",
       "      <td>0</td>\n",
       "      <td>0</td>\n",
       "      <td>0</td>\n",
       "      <td>0</td>\n",
       "      <td>0</td>\n",
       "      <td>0</td>\n",
       "      <td>0</td>\n",
       "      <td>0</td>\n",
       "      <td>0</td>\n",
       "      <td>0</td>\n",
       "      <td>0</td>\n",
       "      <td>...</td>\n",
       "      <td>0</td>\n",
       "      <td>0</td>\n",
       "      <td>0</td>\n",
       "      <td>0</td>\n",
       "      <td>0</td>\n",
       "      <td>0</td>\n",
       "      <td>0</td>\n",
       "      <td>0</td>\n",
       "      <td>0</td>\n",
       "      <td>0</td>\n",
       "      <td>0</td>\n",
       "      <td>0</td>\n",
       "      <td>0</td>\n",
       "      <td>0</td>\n",
       "      <td>0</td>\n",
       "      <td>0</td>\n",
       "      <td>0</td>\n",
       "      <td>0</td>\n",
       "      <td>0</td>\n",
       "      <td>0</td>\n",
       "      <td>0</td>\n",
       "      <td>0</td>\n",
       "      <td>0</td>\n",
       "      <td>0</td>\n",
       "      <td>0</td>\n",
       "      <td>0</td>\n",
       "      <td>0</td>\n",
       "      <td>0</td>\n",
       "      <td>0</td>\n",
       "      <td>0</td>\n",
       "      <td>0</td>\n",
       "      <td>0</td>\n",
       "      <td>0</td>\n",
       "      <td>0</td>\n",
       "      <td>0</td>\n",
       "      <td>0</td>\n",
       "      <td>0</td>\n",
       "      <td>0</td>\n",
       "      <td>0</td>\n",
       "      <td>0</td>\n",
       "    </tr>\n",
       "  </tbody>\n",
       "</table>\n",
       "<p>1 rows × 602 columns</p>\n",
       "</div>"
      ],
      "text/plain": [
       "      CreationDate_1  CreationDate_2  CreationDate_3  ... word2vec world  zero\n",
       "5045             0.0             1.0             0.0  ...        0     0     0\n",
       "\n",
       "[1 rows x 602 columns]"
      ]
     },
     "execution_count": 178,
     "metadata": {
      "tags": []
     },
     "output_type": "execute_result"
    }
   ],
   "source": [
    "tags_added.tail(1)"
   ]
  },
  {
   "cell_type": "markdown",
   "metadata": {
    "colab_type": "text",
    "id": "l1J2IVu8pUyB"
   },
   "source": [
    "Body(body of question) data is cleaned from xml tags"
   ]
  },
  {
   "cell_type": "code",
   "execution_count": 0,
   "metadata": {
    "colab": {},
    "colab_type": "code",
    "id": "7Ougid2KyRoT"
   },
   "outputs": [],
   "source": [
    "content = []\n",
    "\n",
    "for data in tags_added['Body']:\n",
    "    cleantext = BeautifulSoup(data, \"lxml\").text\n",
    "    content.append(cleantext)\n",
    "tags_added.insert(5,\"Bodynew\", content)\n",
    "tags_added= tags_added.drop(axis = 1, columns = ['Body'])"
   ]
  },
  {
   "cell_type": "markdown",
   "metadata": {
    "colab_type": "text",
    "id": "GauoZ_SAxpaY"
   },
   "source": [
    "Content parameter = Title of question + Body of question "
   ]
  },
  {
   "cell_type": "code",
   "execution_count": 0,
   "metadata": {
    "colab": {},
    "colab_type": "code",
    "id": "RuLykK_dxkhY"
   },
   "outputs": [],
   "source": [
    "tags_added['Content'] = tags_added[['Title', 'Bodynew']].apply(lambda x: ' '.join(x), axis=1)"
   ]
  },
  {
   "cell_type": "code",
   "execution_count": 0,
   "metadata": {
    "colab": {},
    "colab_type": "code",
    "id": "ePBSMG0kdv2n"
   },
   "outputs": [],
   "source": [
    "tags_added['Content'] = tags_added['Content'].str.lower().str.split()"
   ]
  },
  {
   "cell_type": "code",
   "execution_count": 0,
   "metadata": {
    "colab": {
     "base_uri": "https://localhost:8080/",
     "height": 221
    },
    "colab_type": "code",
    "id": "oWBGdrPHeMg2",
    "outputId": "8156be05-2502-4acb-a781-c11e1fc05da0"
   },
   "outputs": [
    {
     "data": {
      "text/plain": [
       "0       [what, is, \"backprop\"?, what, does, \"backprop\"...\n",
       "1       [how, does, noise, affect, generalization?, do...\n",
       "2       [how, to, find, the, optimal, number, of, neur...\n",
       "3       [what, is, fuzzy, logic?, i'm, new, to, a.i., ...\n",
       "4       [what, is, \"early, stopping\", in, machine, lea...\n",
       "                              ...                        \n",
       "5041    [does, the, substituted, variable/constant, ha...\n",
       "5042    [interpretability, of, feature, weights, from,...\n",
       "5043    [what, are, good, heuristic, functions, for, t...\n",
       "5044    [given, an, input, $x, \\in, r^{1\\times, d}$, a...\n",
       "5045    [how, can, i, train, yolo, with, the, coco, da...\n",
       "Name: Content, Length: 5046, dtype: object"
      ]
     },
     "execution_count": 182,
     "metadata": {
      "tags": []
     },
     "output_type": "execute_result"
    }
   ],
   "source": [
    "tags_added['Content']"
   ]
  },
  {
   "cell_type": "markdown",
   "metadata": {
    "colab_type": "text",
    "id": "0CrzUx_FpeH7"
   },
   "source": [
    "Doc2vec method implemented on Content data"
   ]
  },
  {
   "cell_type": "code",
   "execution_count": 0,
   "metadata": {
    "colab": {},
    "colab_type": "code",
    "id": "K0FHpzC8erkL"
   },
   "outputs": [],
   "source": [
    "# Set file names for train and test data\n",
    "\n",
    "def read_corpus(fname, tokens_only=False):\n",
    "        for i, line in enumerate(fname):\n",
    "            tokens = gensim.utils.simple_preprocess(line)\n",
    "            if tokens_only:\n",
    "                yield tokens\n",
    "            else:\n",
    "                # For training data, add tags\n",
    "                yield gensim.models.doc2vec.TaggedDocument(tokens, [i])\n",
    "\n"
   ]
  },
  {
   "cell_type": "code",
   "execution_count": 0,
   "metadata": {
    "colab": {},
    "colab_type": "code",
    "id": "9UjdX8ltLuOo"
   },
   "outputs": [],
   "source": [
    "tags_added = tags_added[tags_added['Content'].notna()]"
   ]
  },
  {
   "cell_type": "code",
   "execution_count": 0,
   "metadata": {
    "colab": {},
    "colab_type": "code",
    "id": "Y7sVNN85w1oe"
   },
   "outputs": [],
   "source": [
    "tags_added_fix = tags_added.reset_index()"
   ]
  },
  {
   "cell_type": "code",
   "execution_count": 0,
   "metadata": {
    "colab": {},
    "colab_type": "code",
    "id": "OzuWQUNAw9GS"
   },
   "outputs": [],
   "source": [
    "del tags_added_fix['index']"
   ]
  },
  {
   "cell_type": "code",
   "execution_count": 0,
   "metadata": {
    "colab": {},
    "colab_type": "code",
    "id": "oMemlxGzeud1"
   },
   "outputs": [],
   "source": [
    "from sklearn.model_selection import train_test_split\n",
    "vecList = []\n",
    "for index, row in tags_added_fix.iterrows():\n",
    "  train_corpus = list(read_corpus(row['Content']))\n",
    " \n",
    "  model = gensim.models.doc2vec.Doc2Vec(vector_size=100, min_count=1, epochs=30)\n",
    "  model.build_vocab(train_corpus)\n",
    "  model.train(train_corpus, total_examples=model.corpus_count, epochs=model.epochs)\n",
    "  vector = model.infer_vector(row['Content'])\n",
    "  #print(vector)\n",
    "  vecList.append(vector)"
   ]
  },
  {
   "cell_type": "markdown",
   "metadata": {
    "colab_type": "text",
    "id": "sApaS70pp7eA"
   },
   "source": [
    "Vector size is defined as 100. Each vector has been added to the data frame for corresponding questions"
   ]
  },
  {
   "cell_type": "code",
   "execution_count": 0,
   "metadata": {
    "colab": {},
    "colab_type": "code",
    "id": "V6PcrFXgkZF_"
   },
   "outputs": [],
   "source": [
    "col_list_content = ['content' + str(x) for x in range(0,100)]\n"
   ]
  },
  {
   "cell_type": "code",
   "execution_count": 0,
   "metadata": {
    "colab": {},
    "colab_type": "code",
    "id": "qKeh92ylSL-X"
   },
   "outputs": [],
   "source": [
    "doc2vecdf = pd.DataFrame(vecList,columns=col_list_content)\n"
   ]
  },
  {
   "cell_type": "code",
   "execution_count": 0,
   "metadata": {
    "colab": {},
    "colab_type": "code",
    "id": "A8exu6VxlXGC"
   },
   "outputs": [],
   "source": [
    "final_train=pd.concat([tags_added_fix, doc2vecdf], axis=1)"
   ]
  },
  {
   "cell_type": "code",
   "execution_count": 0,
   "metadata": {
    "colab": {},
    "colab_type": "code",
    "id": "w6sOdPSgCrzm"
   },
   "outputs": [],
   "source": [
    "final_train.sort_index(axis=1, inplace=True)"
   ]
  },
  {
   "cell_type": "markdown",
   "metadata": {
    "colab_type": "text",
    "id": "duOc7CR-rCMz"
   },
   "source": [
    "To make a better prediction data is shuffled \n"
   ]
  },
  {
   "cell_type": "code",
   "execution_count": 0,
   "metadata": {
    "colab": {},
    "colab_type": "code",
    "id": "wUrpwsKnT2_0"
   },
   "outputs": [],
   "source": [
    "shuffled_final=final_train.sample(frac=1)\n"
   ]
  },
  {
   "cell_type": "code",
   "execution_count": 0,
   "metadata": {
    "colab": {},
    "colab_type": "code",
    "id": "-Dt2KFI_Usfn"
   },
   "outputs": [],
   "source": [
    "shuffled_final = shuffled_final.reset_index()"
   ]
  },
  {
   "cell_type": "code",
   "execution_count": 0,
   "metadata": {
    "colab": {},
    "colab_type": "code",
    "id": "8x9xh8PHNr-F"
   },
   "outputs": [],
   "source": [
    "shuffled_final=shuffled_final.drop(axis=1, columns=[\"index\",\"ID\",\"Content\",\"Bodynew\",\"Title\"])"
   ]
  },
  {
   "cell_type": "code",
   "execution_count": 0,
   "metadata": {
    "colab": {},
    "colab_type": "code",
    "id": "euBYLBwTQ8gX"
   },
   "outputs": [],
   "source": [
    "shuffled_final=shuffled_final.fillna(0.0) "
   ]
  },
  {
   "cell_type": "code",
   "execution_count": 0,
   "metadata": {
    "colab": {},
    "colab_type": "code",
    "id": "fX-7yAtj5wTc"
   },
   "outputs": [],
   "source": [
    "shuffled_final.sort_index(axis=1, inplace=True)"
   ]
  },
  {
   "cell_type": "code",
   "execution_count": 0,
   "metadata": {
    "colab": {
     "base_uri": "https://localhost:8080/",
     "height": 456
    },
    "colab_type": "code",
    "id": "TZZouPFAXodN",
    "outputId": "ff27dc09-aab5-4467-bbfa-fc78f9e61dc0"
   },
   "outputs": [
    {
     "data": {
      "text/html": [
       "<div>\n",
       "<style scoped>\n",
       "    .dataframe tbody tr th:only-of-type {\n",
       "        vertical-align: middle;\n",
       "    }\n",
       "\n",
       "    .dataframe tbody tr th {\n",
       "        vertical-align: top;\n",
       "    }\n",
       "\n",
       "    .dataframe thead th {\n",
       "        text-align: right;\n",
       "    }\n",
       "</style>\n",
       "<table border=\"1\" class=\"dataframe\">\n",
       "  <thead>\n",
       "    <tr style=\"text-align: right;\">\n",
       "      <th></th>\n",
       "      <th>CreationDate_1</th>\n",
       "      <th>CreationDate_2</th>\n",
       "      <th>CreationDate_3</th>\n",
       "      <th>IsAnswered</th>\n",
       "      <th>Tag Count</th>\n",
       "      <th>User DownVotes</th>\n",
       "      <th>User Reputation</th>\n",
       "      <th>User UpVotes</th>\n",
       "      <th>User Views</th>\n",
       "      <th>UserCreationDate_1</th>\n",
       "      <th>UserCreationDate_2</th>\n",
       "      <th>UserCreationDate_3</th>\n",
       "      <th>UserLastAccessDate_1</th>\n",
       "      <th>UserLastAccessDate_2</th>\n",
       "      <th>UserLastAccessDate_3</th>\n",
       "      <th>academia</th>\n",
       "      <th>accessibility</th>\n",
       "      <th>accuracy</th>\n",
       "      <th>acquisition</th>\n",
       "      <th>action</th>\n",
       "      <th>activation</th>\n",
       "      <th>active</th>\n",
       "      <th>actor</th>\n",
       "      <th>admissible</th>\n",
       "      <th>advantage</th>\n",
       "      <th>adversarial</th>\n",
       "      <th>aesthetics</th>\n",
       "      <th>affective</th>\n",
       "      <th>agent</th>\n",
       "      <th>agents</th>\n",
       "      <th>agi</th>\n",
       "      <th>ai</th>\n",
       "      <th>aixi</th>\n",
       "      <th>algebra</th>\n",
       "      <th>algorithm</th>\n",
       "      <th>algorithmic</th>\n",
       "      <th>algorithms</th>\n",
       "      <th>alignment</th>\n",
       "      <th>alpha</th>\n",
       "      <th>alphago</th>\n",
       "      <th>...</th>\n",
       "      <th>time</th>\n",
       "      <th>topology</th>\n",
       "      <th>traces</th>\n",
       "      <th>tradeoff</th>\n",
       "      <th>trading</th>\n",
       "      <th>training</th>\n",
       "      <th>transfer</th>\n",
       "      <th>transformer</th>\n",
       "      <th>translation</th>\n",
       "      <th>tree</th>\n",
       "      <th>trpo</th>\n",
       "      <th>turing</th>\n",
       "      <th>uct</th>\n",
       "      <th>underfitting</th>\n",
       "      <th>uniform</th>\n",
       "      <th>unit</th>\n",
       "      <th>universal</th>\n",
       "      <th>unsupervised</th>\n",
       "      <th>utility</th>\n",
       "      <th>validation</th>\n",
       "      <th>value</th>\n",
       "      <th>variable</th>\n",
       "      <th>variance</th>\n",
       "      <th>variational</th>\n",
       "      <th>vc</th>\n",
       "      <th>vectors</th>\n",
       "      <th>vehicles</th>\n",
       "      <th>vision</th>\n",
       "      <th>visualization</th>\n",
       "      <th>voice</th>\n",
       "      <th>wake</th>\n",
       "      <th>watson</th>\n",
       "      <th>weak</th>\n",
       "      <th>weights</th>\n",
       "      <th>wetware</th>\n",
       "      <th>winter</th>\n",
       "      <th>word</th>\n",
       "      <th>word2vec</th>\n",
       "      <th>world</th>\n",
       "      <th>zero</th>\n",
       "    </tr>\n",
       "  </thead>\n",
       "  <tbody>\n",
       "    <tr>\n",
       "      <th>0</th>\n",
       "      <td>0.0</td>\n",
       "      <td>0.0</td>\n",
       "      <td>0.0</td>\n",
       "      <td>0</td>\n",
       "      <td>2</td>\n",
       "      <td>117</td>\n",
       "      <td>2457</td>\n",
       "      <td>177</td>\n",
       "      <td>691</td>\n",
       "      <td>1.0</td>\n",
       "      <td>0.0</td>\n",
       "      <td>0.0</td>\n",
       "      <td>0.0</td>\n",
       "      <td>1.0</td>\n",
       "      <td>0.0</td>\n",
       "      <td>0</td>\n",
       "      <td>0</td>\n",
       "      <td>0</td>\n",
       "      <td>0</td>\n",
       "      <td>0</td>\n",
       "      <td>0</td>\n",
       "      <td>0</td>\n",
       "      <td>0</td>\n",
       "      <td>0</td>\n",
       "      <td>0</td>\n",
       "      <td>0</td>\n",
       "      <td>0</td>\n",
       "      <td>0</td>\n",
       "      <td>0</td>\n",
       "      <td>0</td>\n",
       "      <td>0</td>\n",
       "      <td>1</td>\n",
       "      <td>0</td>\n",
       "      <td>0</td>\n",
       "      <td>1</td>\n",
       "      <td>0</td>\n",
       "      <td>0</td>\n",
       "      <td>0</td>\n",
       "      <td>0</td>\n",
       "      <td>0</td>\n",
       "      <td>...</td>\n",
       "      <td>0</td>\n",
       "      <td>0</td>\n",
       "      <td>0</td>\n",
       "      <td>0</td>\n",
       "      <td>0</td>\n",
       "      <td>0</td>\n",
       "      <td>0</td>\n",
       "      <td>0</td>\n",
       "      <td>0</td>\n",
       "      <td>0</td>\n",
       "      <td>0</td>\n",
       "      <td>0</td>\n",
       "      <td>0</td>\n",
       "      <td>0</td>\n",
       "      <td>0</td>\n",
       "      <td>0</td>\n",
       "      <td>0</td>\n",
       "      <td>0</td>\n",
       "      <td>0</td>\n",
       "      <td>0</td>\n",
       "      <td>0</td>\n",
       "      <td>0</td>\n",
       "      <td>0</td>\n",
       "      <td>0</td>\n",
       "      <td>0</td>\n",
       "      <td>0</td>\n",
       "      <td>0</td>\n",
       "      <td>0</td>\n",
       "      <td>0</td>\n",
       "      <td>0</td>\n",
       "      <td>0</td>\n",
       "      <td>0</td>\n",
       "      <td>0</td>\n",
       "      <td>0</td>\n",
       "      <td>0</td>\n",
       "      <td>0</td>\n",
       "      <td>0</td>\n",
       "      <td>0</td>\n",
       "      <td>0</td>\n",
       "      <td>0</td>\n",
       "    </tr>\n",
       "    <tr>\n",
       "      <th>1</th>\n",
       "      <td>0.0</td>\n",
       "      <td>1.0</td>\n",
       "      <td>0.0</td>\n",
       "      <td>1</td>\n",
       "      <td>1</td>\n",
       "      <td>0</td>\n",
       "      <td>351</td>\n",
       "      <td>60</td>\n",
       "      <td>5</td>\n",
       "      <td>0.0</td>\n",
       "      <td>0.0</td>\n",
       "      <td>1.0</td>\n",
       "      <td>1.0</td>\n",
       "      <td>0.0</td>\n",
       "      <td>0.0</td>\n",
       "      <td>0</td>\n",
       "      <td>0</td>\n",
       "      <td>0</td>\n",
       "      <td>0</td>\n",
       "      <td>0</td>\n",
       "      <td>0</td>\n",
       "      <td>0</td>\n",
       "      <td>0</td>\n",
       "      <td>0</td>\n",
       "      <td>0</td>\n",
       "      <td>0</td>\n",
       "      <td>0</td>\n",
       "      <td>0</td>\n",
       "      <td>0</td>\n",
       "      <td>0</td>\n",
       "      <td>0</td>\n",
       "      <td>0</td>\n",
       "      <td>0</td>\n",
       "      <td>0</td>\n",
       "      <td>0</td>\n",
       "      <td>0</td>\n",
       "      <td>0</td>\n",
       "      <td>0</td>\n",
       "      <td>0</td>\n",
       "      <td>0</td>\n",
       "      <td>...</td>\n",
       "      <td>0</td>\n",
       "      <td>0</td>\n",
       "      <td>0</td>\n",
       "      <td>0</td>\n",
       "      <td>0</td>\n",
       "      <td>0</td>\n",
       "      <td>0</td>\n",
       "      <td>0</td>\n",
       "      <td>0</td>\n",
       "      <td>0</td>\n",
       "      <td>0</td>\n",
       "      <td>0</td>\n",
       "      <td>0</td>\n",
       "      <td>0</td>\n",
       "      <td>0</td>\n",
       "      <td>0</td>\n",
       "      <td>0</td>\n",
       "      <td>0</td>\n",
       "      <td>0</td>\n",
       "      <td>0</td>\n",
       "      <td>0</td>\n",
       "      <td>0</td>\n",
       "      <td>0</td>\n",
       "      <td>0</td>\n",
       "      <td>0</td>\n",
       "      <td>0</td>\n",
       "      <td>0</td>\n",
       "      <td>0</td>\n",
       "      <td>0</td>\n",
       "      <td>0</td>\n",
       "      <td>0</td>\n",
       "      <td>0</td>\n",
       "      <td>0</td>\n",
       "      <td>0</td>\n",
       "      <td>0</td>\n",
       "      <td>0</td>\n",
       "      <td>0</td>\n",
       "      <td>0</td>\n",
       "      <td>0</td>\n",
       "      <td>0</td>\n",
       "    </tr>\n",
       "    <tr>\n",
       "      <th>2</th>\n",
       "      <td>1.0</td>\n",
       "      <td>0.0</td>\n",
       "      <td>0.0</td>\n",
       "      <td>1</td>\n",
       "      <td>5</td>\n",
       "      <td>3</td>\n",
       "      <td>8343</td>\n",
       "      <td>580</td>\n",
       "      <td>392</td>\n",
       "      <td>1.0</td>\n",
       "      <td>0.0</td>\n",
       "      <td>0.0</td>\n",
       "      <td>0.0</td>\n",
       "      <td>1.0</td>\n",
       "      <td>0.0</td>\n",
       "      <td>0</td>\n",
       "      <td>0</td>\n",
       "      <td>0</td>\n",
       "      <td>0</td>\n",
       "      <td>0</td>\n",
       "      <td>0</td>\n",
       "      <td>0</td>\n",
       "      <td>0</td>\n",
       "      <td>0</td>\n",
       "      <td>0</td>\n",
       "      <td>0</td>\n",
       "      <td>0</td>\n",
       "      <td>0</td>\n",
       "      <td>0</td>\n",
       "      <td>0</td>\n",
       "      <td>0</td>\n",
       "      <td>0</td>\n",
       "      <td>0</td>\n",
       "      <td>0</td>\n",
       "      <td>0</td>\n",
       "      <td>0</td>\n",
       "      <td>0</td>\n",
       "      <td>0</td>\n",
       "      <td>0</td>\n",
       "      <td>0</td>\n",
       "      <td>...</td>\n",
       "      <td>0</td>\n",
       "      <td>0</td>\n",
       "      <td>0</td>\n",
       "      <td>0</td>\n",
       "      <td>0</td>\n",
       "      <td>0</td>\n",
       "      <td>0</td>\n",
       "      <td>0</td>\n",
       "      <td>0</td>\n",
       "      <td>0</td>\n",
       "      <td>0</td>\n",
       "      <td>0</td>\n",
       "      <td>0</td>\n",
       "      <td>0</td>\n",
       "      <td>0</td>\n",
       "      <td>0</td>\n",
       "      <td>0</td>\n",
       "      <td>0</td>\n",
       "      <td>0</td>\n",
       "      <td>0</td>\n",
       "      <td>0</td>\n",
       "      <td>0</td>\n",
       "      <td>0</td>\n",
       "      <td>0</td>\n",
       "      <td>0</td>\n",
       "      <td>0</td>\n",
       "      <td>0</td>\n",
       "      <td>0</td>\n",
       "      <td>0</td>\n",
       "      <td>0</td>\n",
       "      <td>0</td>\n",
       "      <td>0</td>\n",
       "      <td>0</td>\n",
       "      <td>0</td>\n",
       "      <td>0</td>\n",
       "      <td>0</td>\n",
       "      <td>0</td>\n",
       "      <td>0</td>\n",
       "      <td>0</td>\n",
       "      <td>0</td>\n",
       "    </tr>\n",
       "    <tr>\n",
       "      <th>3</th>\n",
       "      <td>0.0</td>\n",
       "      <td>0.0</td>\n",
       "      <td>1.0</td>\n",
       "      <td>1</td>\n",
       "      <td>3</td>\n",
       "      <td>0</td>\n",
       "      <td>141</td>\n",
       "      <td>1</td>\n",
       "      <td>25</td>\n",
       "      <td>0.0</td>\n",
       "      <td>0.0</td>\n",
       "      <td>1.0</td>\n",
       "      <td>1.0</td>\n",
       "      <td>0.0</td>\n",
       "      <td>0.0</td>\n",
       "      <td>0</td>\n",
       "      <td>0</td>\n",
       "      <td>0</td>\n",
       "      <td>0</td>\n",
       "      <td>0</td>\n",
       "      <td>0</td>\n",
       "      <td>0</td>\n",
       "      <td>0</td>\n",
       "      <td>0</td>\n",
       "      <td>0</td>\n",
       "      <td>0</td>\n",
       "      <td>0</td>\n",
       "      <td>0</td>\n",
       "      <td>0</td>\n",
       "      <td>0</td>\n",
       "      <td>0</td>\n",
       "      <td>1</td>\n",
       "      <td>0</td>\n",
       "      <td>0</td>\n",
       "      <td>0</td>\n",
       "      <td>0</td>\n",
       "      <td>0</td>\n",
       "      <td>0</td>\n",
       "      <td>0</td>\n",
       "      <td>0</td>\n",
       "      <td>...</td>\n",
       "      <td>0</td>\n",
       "      <td>0</td>\n",
       "      <td>0</td>\n",
       "      <td>0</td>\n",
       "      <td>0</td>\n",
       "      <td>0</td>\n",
       "      <td>0</td>\n",
       "      <td>0</td>\n",
       "      <td>0</td>\n",
       "      <td>0</td>\n",
       "      <td>0</td>\n",
       "      <td>1</td>\n",
       "      <td>0</td>\n",
       "      <td>0</td>\n",
       "      <td>0</td>\n",
       "      <td>0</td>\n",
       "      <td>0</td>\n",
       "      <td>0</td>\n",
       "      <td>0</td>\n",
       "      <td>0</td>\n",
       "      <td>0</td>\n",
       "      <td>0</td>\n",
       "      <td>0</td>\n",
       "      <td>0</td>\n",
       "      <td>0</td>\n",
       "      <td>0</td>\n",
       "      <td>0</td>\n",
       "      <td>0</td>\n",
       "      <td>0</td>\n",
       "      <td>0</td>\n",
       "      <td>0</td>\n",
       "      <td>0</td>\n",
       "      <td>0</td>\n",
       "      <td>0</td>\n",
       "      <td>0</td>\n",
       "      <td>0</td>\n",
       "      <td>0</td>\n",
       "      <td>0</td>\n",
       "      <td>0</td>\n",
       "      <td>0</td>\n",
       "    </tr>\n",
       "    <tr>\n",
       "      <th>4</th>\n",
       "      <td>0.0</td>\n",
       "      <td>0.0</td>\n",
       "      <td>0.0</td>\n",
       "      <td>1</td>\n",
       "      <td>3</td>\n",
       "      <td>0</td>\n",
       "      <td>131</td>\n",
       "      <td>0</td>\n",
       "      <td>4</td>\n",
       "      <td>0.0</td>\n",
       "      <td>0.0</td>\n",
       "      <td>0.0</td>\n",
       "      <td>0.0</td>\n",
       "      <td>0.0</td>\n",
       "      <td>0.0</td>\n",
       "      <td>0</td>\n",
       "      <td>0</td>\n",
       "      <td>0</td>\n",
       "      <td>0</td>\n",
       "      <td>0</td>\n",
       "      <td>0</td>\n",
       "      <td>0</td>\n",
       "      <td>0</td>\n",
       "      <td>0</td>\n",
       "      <td>0</td>\n",
       "      <td>0</td>\n",
       "      <td>0</td>\n",
       "      <td>0</td>\n",
       "      <td>0</td>\n",
       "      <td>0</td>\n",
       "      <td>0</td>\n",
       "      <td>1</td>\n",
       "      <td>0</td>\n",
       "      <td>0</td>\n",
       "      <td>0</td>\n",
       "      <td>0</td>\n",
       "      <td>0</td>\n",
       "      <td>0</td>\n",
       "      <td>0</td>\n",
       "      <td>0</td>\n",
       "      <td>...</td>\n",
       "      <td>0</td>\n",
       "      <td>0</td>\n",
       "      <td>0</td>\n",
       "      <td>0</td>\n",
       "      <td>0</td>\n",
       "      <td>1</td>\n",
       "      <td>0</td>\n",
       "      <td>0</td>\n",
       "      <td>0</td>\n",
       "      <td>0</td>\n",
       "      <td>0</td>\n",
       "      <td>0</td>\n",
       "      <td>0</td>\n",
       "      <td>0</td>\n",
       "      <td>0</td>\n",
       "      <td>0</td>\n",
       "      <td>0</td>\n",
       "      <td>0</td>\n",
       "      <td>0</td>\n",
       "      <td>0</td>\n",
       "      <td>0</td>\n",
       "      <td>0</td>\n",
       "      <td>0</td>\n",
       "      <td>0</td>\n",
       "      <td>0</td>\n",
       "      <td>0</td>\n",
       "      <td>0</td>\n",
       "      <td>0</td>\n",
       "      <td>0</td>\n",
       "      <td>0</td>\n",
       "      <td>0</td>\n",
       "      <td>0</td>\n",
       "      <td>0</td>\n",
       "      <td>0</td>\n",
       "      <td>0</td>\n",
       "      <td>0</td>\n",
       "      <td>0</td>\n",
       "      <td>0</td>\n",
       "      <td>0</td>\n",
       "      <td>0</td>\n",
       "    </tr>\n",
       "    <tr>\n",
       "      <th>...</th>\n",
       "      <td>...</td>\n",
       "      <td>...</td>\n",
       "      <td>...</td>\n",
       "      <td>...</td>\n",
       "      <td>...</td>\n",
       "      <td>...</td>\n",
       "      <td>...</td>\n",
       "      <td>...</td>\n",
       "      <td>...</td>\n",
       "      <td>...</td>\n",
       "      <td>...</td>\n",
       "      <td>...</td>\n",
       "      <td>...</td>\n",
       "      <td>...</td>\n",
       "      <td>...</td>\n",
       "      <td>...</td>\n",
       "      <td>...</td>\n",
       "      <td>...</td>\n",
       "      <td>...</td>\n",
       "      <td>...</td>\n",
       "      <td>...</td>\n",
       "      <td>...</td>\n",
       "      <td>...</td>\n",
       "      <td>...</td>\n",
       "      <td>...</td>\n",
       "      <td>...</td>\n",
       "      <td>...</td>\n",
       "      <td>...</td>\n",
       "      <td>...</td>\n",
       "      <td>...</td>\n",
       "      <td>...</td>\n",
       "      <td>...</td>\n",
       "      <td>...</td>\n",
       "      <td>...</td>\n",
       "      <td>...</td>\n",
       "      <td>...</td>\n",
       "      <td>...</td>\n",
       "      <td>...</td>\n",
       "      <td>...</td>\n",
       "      <td>...</td>\n",
       "      <td>...</td>\n",
       "      <td>...</td>\n",
       "      <td>...</td>\n",
       "      <td>...</td>\n",
       "      <td>...</td>\n",
       "      <td>...</td>\n",
       "      <td>...</td>\n",
       "      <td>...</td>\n",
       "      <td>...</td>\n",
       "      <td>...</td>\n",
       "      <td>...</td>\n",
       "      <td>...</td>\n",
       "      <td>...</td>\n",
       "      <td>...</td>\n",
       "      <td>...</td>\n",
       "      <td>...</td>\n",
       "      <td>...</td>\n",
       "      <td>...</td>\n",
       "      <td>...</td>\n",
       "      <td>...</td>\n",
       "      <td>...</td>\n",
       "      <td>...</td>\n",
       "      <td>...</td>\n",
       "      <td>...</td>\n",
       "      <td>...</td>\n",
       "      <td>...</td>\n",
       "      <td>...</td>\n",
       "      <td>...</td>\n",
       "      <td>...</td>\n",
       "      <td>...</td>\n",
       "      <td>...</td>\n",
       "      <td>...</td>\n",
       "      <td>...</td>\n",
       "      <td>...</td>\n",
       "      <td>...</td>\n",
       "      <td>...</td>\n",
       "      <td>...</td>\n",
       "      <td>...</td>\n",
       "      <td>...</td>\n",
       "      <td>...</td>\n",
       "      <td>...</td>\n",
       "    </tr>\n",
       "    <tr>\n",
       "      <th>5041</th>\n",
       "      <td>0.0</td>\n",
       "      <td>0.0</td>\n",
       "      <td>1.0</td>\n",
       "      <td>1</td>\n",
       "      <td>3</td>\n",
       "      <td>1</td>\n",
       "      <td>1514</td>\n",
       "      <td>23</td>\n",
       "      <td>35</td>\n",
       "      <td>0.0</td>\n",
       "      <td>0.0</td>\n",
       "      <td>1.0</td>\n",
       "      <td>0.0</td>\n",
       "      <td>1.0</td>\n",
       "      <td>0.0</td>\n",
       "      <td>0</td>\n",
       "      <td>0</td>\n",
       "      <td>0</td>\n",
       "      <td>0</td>\n",
       "      <td>0</td>\n",
       "      <td>0</td>\n",
       "      <td>0</td>\n",
       "      <td>0</td>\n",
       "      <td>0</td>\n",
       "      <td>0</td>\n",
       "      <td>0</td>\n",
       "      <td>0</td>\n",
       "      <td>0</td>\n",
       "      <td>0</td>\n",
       "      <td>0</td>\n",
       "      <td>0</td>\n",
       "      <td>0</td>\n",
       "      <td>0</td>\n",
       "      <td>0</td>\n",
       "      <td>0</td>\n",
       "      <td>0</td>\n",
       "      <td>0</td>\n",
       "      <td>0</td>\n",
       "      <td>0</td>\n",
       "      <td>0</td>\n",
       "      <td>...</td>\n",
       "      <td>0</td>\n",
       "      <td>0</td>\n",
       "      <td>0</td>\n",
       "      <td>0</td>\n",
       "      <td>0</td>\n",
       "      <td>0</td>\n",
       "      <td>0</td>\n",
       "      <td>0</td>\n",
       "      <td>0</td>\n",
       "      <td>0</td>\n",
       "      <td>0</td>\n",
       "      <td>0</td>\n",
       "      <td>0</td>\n",
       "      <td>0</td>\n",
       "      <td>0</td>\n",
       "      <td>0</td>\n",
       "      <td>0</td>\n",
       "      <td>0</td>\n",
       "      <td>0</td>\n",
       "      <td>0</td>\n",
       "      <td>0</td>\n",
       "      <td>0</td>\n",
       "      <td>0</td>\n",
       "      <td>0</td>\n",
       "      <td>0</td>\n",
       "      <td>0</td>\n",
       "      <td>0</td>\n",
       "      <td>0</td>\n",
       "      <td>0</td>\n",
       "      <td>0</td>\n",
       "      <td>0</td>\n",
       "      <td>0</td>\n",
       "      <td>0</td>\n",
       "      <td>0</td>\n",
       "      <td>0</td>\n",
       "      <td>0</td>\n",
       "      <td>0</td>\n",
       "      <td>0</td>\n",
       "      <td>0</td>\n",
       "      <td>0</td>\n",
       "    </tr>\n",
       "    <tr>\n",
       "      <th>5042</th>\n",
       "      <td>0.0</td>\n",
       "      <td>1.0</td>\n",
       "      <td>0.0</td>\n",
       "      <td>1</td>\n",
       "      <td>3</td>\n",
       "      <td>0</td>\n",
       "      <td>143</td>\n",
       "      <td>6</td>\n",
       "      <td>3</td>\n",
       "      <td>0.0</td>\n",
       "      <td>1.0</td>\n",
       "      <td>0.0</td>\n",
       "      <td>1.0</td>\n",
       "      <td>0.0</td>\n",
       "      <td>0.0</td>\n",
       "      <td>0</td>\n",
       "      <td>0</td>\n",
       "      <td>0</td>\n",
       "      <td>0</td>\n",
       "      <td>0</td>\n",
       "      <td>0</td>\n",
       "      <td>0</td>\n",
       "      <td>0</td>\n",
       "      <td>0</td>\n",
       "      <td>0</td>\n",
       "      <td>0</td>\n",
       "      <td>0</td>\n",
       "      <td>0</td>\n",
       "      <td>0</td>\n",
       "      <td>0</td>\n",
       "      <td>0</td>\n",
       "      <td>1</td>\n",
       "      <td>0</td>\n",
       "      <td>0</td>\n",
       "      <td>0</td>\n",
       "      <td>0</td>\n",
       "      <td>0</td>\n",
       "      <td>0</td>\n",
       "      <td>0</td>\n",
       "      <td>0</td>\n",
       "      <td>...</td>\n",
       "      <td>0</td>\n",
       "      <td>0</td>\n",
       "      <td>0</td>\n",
       "      <td>0</td>\n",
       "      <td>0</td>\n",
       "      <td>0</td>\n",
       "      <td>0</td>\n",
       "      <td>0</td>\n",
       "      <td>0</td>\n",
       "      <td>0</td>\n",
       "      <td>0</td>\n",
       "      <td>0</td>\n",
       "      <td>0</td>\n",
       "      <td>0</td>\n",
       "      <td>0</td>\n",
       "      <td>0</td>\n",
       "      <td>0</td>\n",
       "      <td>0</td>\n",
       "      <td>0</td>\n",
       "      <td>0</td>\n",
       "      <td>0</td>\n",
       "      <td>0</td>\n",
       "      <td>0</td>\n",
       "      <td>0</td>\n",
       "      <td>0</td>\n",
       "      <td>0</td>\n",
       "      <td>0</td>\n",
       "      <td>0</td>\n",
       "      <td>0</td>\n",
       "      <td>0</td>\n",
       "      <td>0</td>\n",
       "      <td>0</td>\n",
       "      <td>0</td>\n",
       "      <td>0</td>\n",
       "      <td>0</td>\n",
       "      <td>0</td>\n",
       "      <td>0</td>\n",
       "      <td>0</td>\n",
       "      <td>0</td>\n",
       "      <td>0</td>\n",
       "    </tr>\n",
       "    <tr>\n",
       "      <th>5043</th>\n",
       "      <td>0.0</td>\n",
       "      <td>0.0</td>\n",
       "      <td>0.0</td>\n",
       "      <td>1</td>\n",
       "      <td>1</td>\n",
       "      <td>0</td>\n",
       "      <td>101</td>\n",
       "      <td>0</td>\n",
       "      <td>1</td>\n",
       "      <td>0.0</td>\n",
       "      <td>0.0</td>\n",
       "      <td>0.0</td>\n",
       "      <td>0.0</td>\n",
       "      <td>0.0</td>\n",
       "      <td>0.0</td>\n",
       "      <td>0</td>\n",
       "      <td>0</td>\n",
       "      <td>0</td>\n",
       "      <td>0</td>\n",
       "      <td>0</td>\n",
       "      <td>0</td>\n",
       "      <td>0</td>\n",
       "      <td>0</td>\n",
       "      <td>0</td>\n",
       "      <td>0</td>\n",
       "      <td>0</td>\n",
       "      <td>0</td>\n",
       "      <td>0</td>\n",
       "      <td>0</td>\n",
       "      <td>0</td>\n",
       "      <td>0</td>\n",
       "      <td>0</td>\n",
       "      <td>0</td>\n",
       "      <td>0</td>\n",
       "      <td>0</td>\n",
       "      <td>0</td>\n",
       "      <td>0</td>\n",
       "      <td>0</td>\n",
       "      <td>0</td>\n",
       "      <td>0</td>\n",
       "      <td>...</td>\n",
       "      <td>0</td>\n",
       "      <td>0</td>\n",
       "      <td>0</td>\n",
       "      <td>0</td>\n",
       "      <td>0</td>\n",
       "      <td>0</td>\n",
       "      <td>0</td>\n",
       "      <td>0</td>\n",
       "      <td>0</td>\n",
       "      <td>0</td>\n",
       "      <td>0</td>\n",
       "      <td>0</td>\n",
       "      <td>0</td>\n",
       "      <td>0</td>\n",
       "      <td>0</td>\n",
       "      <td>0</td>\n",
       "      <td>0</td>\n",
       "      <td>0</td>\n",
       "      <td>0</td>\n",
       "      <td>0</td>\n",
       "      <td>0</td>\n",
       "      <td>0</td>\n",
       "      <td>0</td>\n",
       "      <td>0</td>\n",
       "      <td>0</td>\n",
       "      <td>0</td>\n",
       "      <td>0</td>\n",
       "      <td>0</td>\n",
       "      <td>0</td>\n",
       "      <td>0</td>\n",
       "      <td>0</td>\n",
       "      <td>0</td>\n",
       "      <td>0</td>\n",
       "      <td>0</td>\n",
       "      <td>0</td>\n",
       "      <td>0</td>\n",
       "      <td>0</td>\n",
       "      <td>0</td>\n",
       "      <td>0</td>\n",
       "      <td>0</td>\n",
       "    </tr>\n",
       "    <tr>\n",
       "      <th>5044</th>\n",
       "      <td>0.0</td>\n",
       "      <td>1.0</td>\n",
       "      <td>0.0</td>\n",
       "      <td>1</td>\n",
       "      <td>4</td>\n",
       "      <td>0</td>\n",
       "      <td>345</td>\n",
       "      <td>7</td>\n",
       "      <td>17</td>\n",
       "      <td>0.0</td>\n",
       "      <td>0.0</td>\n",
       "      <td>0.0</td>\n",
       "      <td>0.0</td>\n",
       "      <td>0.0</td>\n",
       "      <td>0.0</td>\n",
       "      <td>0</td>\n",
       "      <td>0</td>\n",
       "      <td>0</td>\n",
       "      <td>0</td>\n",
       "      <td>0</td>\n",
       "      <td>0</td>\n",
       "      <td>0</td>\n",
       "      <td>0</td>\n",
       "      <td>0</td>\n",
       "      <td>0</td>\n",
       "      <td>0</td>\n",
       "      <td>0</td>\n",
       "      <td>0</td>\n",
       "      <td>0</td>\n",
       "      <td>0</td>\n",
       "      <td>0</td>\n",
       "      <td>0</td>\n",
       "      <td>0</td>\n",
       "      <td>0</td>\n",
       "      <td>0</td>\n",
       "      <td>0</td>\n",
       "      <td>0</td>\n",
       "      <td>0</td>\n",
       "      <td>0</td>\n",
       "      <td>0</td>\n",
       "      <td>...</td>\n",
       "      <td>0</td>\n",
       "      <td>0</td>\n",
       "      <td>0</td>\n",
       "      <td>0</td>\n",
       "      <td>0</td>\n",
       "      <td>0</td>\n",
       "      <td>0</td>\n",
       "      <td>0</td>\n",
       "      <td>0</td>\n",
       "      <td>0</td>\n",
       "      <td>0</td>\n",
       "      <td>0</td>\n",
       "      <td>0</td>\n",
       "      <td>0</td>\n",
       "      <td>0</td>\n",
       "      <td>0</td>\n",
       "      <td>0</td>\n",
       "      <td>0</td>\n",
       "      <td>0</td>\n",
       "      <td>0</td>\n",
       "      <td>0</td>\n",
       "      <td>0</td>\n",
       "      <td>0</td>\n",
       "      <td>0</td>\n",
       "      <td>0</td>\n",
       "      <td>0</td>\n",
       "      <td>0</td>\n",
       "      <td>0</td>\n",
       "      <td>0</td>\n",
       "      <td>0</td>\n",
       "      <td>0</td>\n",
       "      <td>0</td>\n",
       "      <td>0</td>\n",
       "      <td>0</td>\n",
       "      <td>0</td>\n",
       "      <td>0</td>\n",
       "      <td>0</td>\n",
       "      <td>0</td>\n",
       "      <td>0</td>\n",
       "      <td>0</td>\n",
       "    </tr>\n",
       "    <tr>\n",
       "      <th>5045</th>\n",
       "      <td>0.0</td>\n",
       "      <td>0.0</td>\n",
       "      <td>1.0</td>\n",
       "      <td>0</td>\n",
       "      <td>3</td>\n",
       "      <td>229</td>\n",
       "      <td>7115</td>\n",
       "      <td>346</td>\n",
       "      <td>1048</td>\n",
       "      <td>0.0</td>\n",
       "      <td>1.0</td>\n",
       "      <td>0.0</td>\n",
       "      <td>0.0</td>\n",
       "      <td>0.0</td>\n",
       "      <td>1.0</td>\n",
       "      <td>0</td>\n",
       "      <td>0</td>\n",
       "      <td>0</td>\n",
       "      <td>0</td>\n",
       "      <td>0</td>\n",
       "      <td>0</td>\n",
       "      <td>0</td>\n",
       "      <td>0</td>\n",
       "      <td>0</td>\n",
       "      <td>0</td>\n",
       "      <td>0</td>\n",
       "      <td>0</td>\n",
       "      <td>0</td>\n",
       "      <td>0</td>\n",
       "      <td>0</td>\n",
       "      <td>0</td>\n",
       "      <td>0</td>\n",
       "      <td>0</td>\n",
       "      <td>0</td>\n",
       "      <td>0</td>\n",
       "      <td>0</td>\n",
       "      <td>0</td>\n",
       "      <td>0</td>\n",
       "      <td>0</td>\n",
       "      <td>0</td>\n",
       "      <td>...</td>\n",
       "      <td>0</td>\n",
       "      <td>0</td>\n",
       "      <td>0</td>\n",
       "      <td>0</td>\n",
       "      <td>0</td>\n",
       "      <td>0</td>\n",
       "      <td>0</td>\n",
       "      <td>0</td>\n",
       "      <td>0</td>\n",
       "      <td>0</td>\n",
       "      <td>0</td>\n",
       "      <td>0</td>\n",
       "      <td>0</td>\n",
       "      <td>0</td>\n",
       "      <td>0</td>\n",
       "      <td>0</td>\n",
       "      <td>0</td>\n",
       "      <td>0</td>\n",
       "      <td>0</td>\n",
       "      <td>0</td>\n",
       "      <td>0</td>\n",
       "      <td>0</td>\n",
       "      <td>0</td>\n",
       "      <td>0</td>\n",
       "      <td>0</td>\n",
       "      <td>0</td>\n",
       "      <td>0</td>\n",
       "      <td>0</td>\n",
       "      <td>0</td>\n",
       "      <td>0</td>\n",
       "      <td>0</td>\n",
       "      <td>0</td>\n",
       "      <td>0</td>\n",
       "      <td>0</td>\n",
       "      <td>0</td>\n",
       "      <td>0</td>\n",
       "      <td>0</td>\n",
       "      <td>0</td>\n",
       "      <td>0</td>\n",
       "      <td>0</td>\n",
       "    </tr>\n",
       "  </tbody>\n",
       "</table>\n",
       "<p>5046 rows × 699 columns</p>\n",
       "</div>"
      ],
      "text/plain": [
       "      CreationDate_1  CreationDate_2  CreationDate_3  ...  word2vec  world  zero\n",
       "0                0.0             0.0             0.0  ...         0      0     0\n",
       "1                0.0             1.0             0.0  ...         0      0     0\n",
       "2                1.0             0.0             0.0  ...         0      0     0\n",
       "3                0.0             0.0             1.0  ...         0      0     0\n",
       "4                0.0             0.0             0.0  ...         0      0     0\n",
       "...              ...             ...             ...  ...       ...    ...   ...\n",
       "5041             0.0             0.0             1.0  ...         0      0     0\n",
       "5042             0.0             1.0             0.0  ...         0      0     0\n",
       "5043             0.0             0.0             0.0  ...         0      0     0\n",
       "5044             0.0             1.0             0.0  ...         0      0     0\n",
       "5045             0.0             0.0             1.0  ...         0      0     0\n",
       "\n",
       "[5046 rows x 699 columns]"
      ]
     },
     "execution_count": 197,
     "metadata": {
      "tags": []
     },
     "output_type": "execute_result"
    }
   ],
   "source": [
    "shuffled_final.replace(-9223372036854775808,0)"
   ]
  },
  {
   "cell_type": "markdown",
   "metadata": {
    "colab_type": "text",
    "id": "byFUeePIt7si"
   },
   "source": [
    "  This is where we define the test set, for the user interface it will be dynamic parameter and updated for each question will be asked , however at this stage we have define the question manually."
   ]
  },
  {
   "cell_type": "code",
   "execution_count": 0,
   "metadata": {
    "colab": {
     "base_uri": "https://localhost:8080/",
     "height": 114
    },
    "colab_type": "code",
    "id": "XeSGRqnJSLYj",
    "outputId": "7fc2dc78-ebe3-4e51-948b-074e4d80c07e"
   },
   "outputs": [
    {
     "data": {
      "text/html": [
       "<div>\n",
       "<style scoped>\n",
       "    .dataframe tbody tr th:only-of-type {\n",
       "        vertical-align: middle;\n",
       "    }\n",
       "\n",
       "    .dataframe tbody tr th {\n",
       "        vertical-align: top;\n",
       "    }\n",
       "\n",
       "    .dataframe thead th {\n",
       "        text-align: right;\n",
       "    }\n",
       "</style>\n",
       "<table border=\"1\" class=\"dataframe\">\n",
       "  <thead>\n",
       "    <tr style=\"text-align: right;\">\n",
       "      <th></th>\n",
       "      <th>Question</th>\n",
       "      <th>Title</th>\n",
       "      <th>Creation Date</th>\n",
       "      <th>Tags</th>\n",
       "      <th>User Reputation</th>\n",
       "      <th>User Creation Date</th>\n",
       "      <th>User Last Access Date</th>\n",
       "      <th>User Views</th>\n",
       "      <th>User UpVotes</th>\n",
       "      <th>User DownVotes</th>\n",
       "    </tr>\n",
       "  </thead>\n",
       "  <tbody>\n",
       "    <tr>\n",
       "      <th>0</th>\n",
       "      <td>As far I know, the RNN accepts a sequence as i...</td>\n",
       "      <td>Are there neural networks that accept graphs o...</td>\n",
       "      <td>2016-08-02T15:41:22.020</td>\n",
       "      <td>&lt;neural-networks&gt;&lt;graphs&gt;</td>\n",
       "      <td>344</td>\n",
       "      <td>2016-08-02T15:38:36.723</td>\n",
       "      <td>2019-11-30T19:21:45.687</td>\n",
       "      <td>30</td>\n",
       "      <td>0</td>\n",
       "      <td>0</td>\n",
       "    </tr>\n",
       "  </tbody>\n",
       "</table>\n",
       "</div>"
      ],
      "text/plain": [
       "                                            Question  ... User DownVotes\n",
       "0  As far I know, the RNN accepts a sequence as i...  ...              0\n",
       "\n",
       "[1 rows x 10 columns]"
      ]
     },
     "execution_count": 198,
     "metadata": {
      "tags": []
     },
     "output_type": "execute_result"
    }
   ],
   "source": [
    "derived_question_body =\"As far I know, the RNN accepts a sequence as input and can produce as a sequence as output.Are there neural networks that accept graphs or trees as inputs, so that to represent the relationships between the nodes of the graph or tree?\"\n",
    "derived_title=\"Are there neural networks that accept graphs or trees as inputs?\"\n",
    "derived_creation_date=\"2016-08-02T15:41:22.020\"\n",
    "derived_tags=\"<neural-networks><graphs>\"\n",
    "derived_userReputation=\"344\"\n",
    "derived_userCreationDate=\"2016-08-02T15:38:36.723\"\n",
    "derived_userLastAccessDate=\"2019-11-30T19:21:45.687\"\n",
    "derived_userViews=\"30\" \n",
    "derived_userUpVotes=\"0\" \n",
    "derived_userDownVotes=\"0\"\n",
    "# create a new data frame \n",
    "\n",
    "df = pd.DataFrame({'Question': [derived_question_body],'Title' :[derived_title],'Creation Date':[derived_creation_date],'Tags':[derived_tags],'User Reputation': [derived_userReputation],\"User Creation Date\" : [derived_userCreationDate],\"User Last Access Date\" : [derived_userLastAccessDate],\"User Views\": [derived_userViews],\"User UpVotes\": [derived_userUpVotes],\"User DownVotes\": [derived_userDownVotes]}) \n",
    "   \n",
    "df"
   ]
  },
  {
   "cell_type": "markdown",
   "metadata": {
    "colab_type": "text",
    "id": "ZlVsA_VBuSo8"
   },
   "source": [
    "Same preprocessing applied on Date format data \n",
    "\n",
    "*   Label encoding\n",
    "*   One hot encoding\n",
    "\n",
    "Since there is only 1 question on test set that means there will be only 1 part of the day to encode . So one-hot-encoding would not be able to create columns for each part of the day . We have written a function to convert label encoded parameter to one hot encoded parameters.\n",
    "\n"
   ]
  },
  {
   "cell_type": "code",
   "execution_count": 0,
   "metadata": {
    "colab": {},
    "colab_type": "code",
    "id": "efXXCyOGeeXE"
   },
   "outputs": [],
   "source": [
    "df['Creation Date'] = pd.to_datetime(df['Creation Date'])\n",
    "df['User Creation Date'] = pd.to_datetime(df['User Creation Date'])\n",
    "df['User Last Access Date'] = pd.to_datetime(df['User Last Access Date'])\n",
    "df['User DownVotes'] = df['User DownVotes'].astype(int)\n",
    "df['User UpVotes'] = df['User UpVotes'].astype(int)\n",
    "df['User Reputation'] = df['User Reputation'].astype(int)\n",
    "df['User Views'] = df['User Views'].astype(int)\n",
    "\n"
   ]
  },
  {
   "cell_type": "code",
   "execution_count": 0,
   "metadata": {
    "colab": {},
    "colab_type": "code",
    "id": "U7yUB-q7eefM"
   },
   "outputs": [],
   "source": [
    "df= df.fillna(0)"
   ]
  },
  {
   "cell_type": "markdown",
   "metadata": {
    "colab_type": "text",
    "id": "xH7GNiN8vAI1"
   },
   "source": [
    "Label encoding"
   ]
  },
  {
   "cell_type": "code",
   "execution_count": 0,
   "metadata": {
    "colab": {},
    "colab_type": "code",
    "id": "d7ga_OYHeeip"
   },
   "outputs": [],
   "source": [
    "def get_part_of_day(x):\n",
    "    return (\n",
    "        \"1\" if 5 <= int(x.strftime('%H')) <= 10\n",
    "        else\n",
    "        \"2\" if 11<=  int(x.strftime('%H'))<= 16\n",
    "        else\n",
    "        \"3\" if 17 <= int(x.strftime('%H'))  <= 22\n",
    "        else\n",
    "        \"4\"\n",
    "    )\n",
    "    \n",
    "df[\"Creation Date\"] = df[\"Creation Date\"].apply(get_part_of_day)\n",
    "df[\"User Creation Date\"] = df[\"User Creation Date\"].apply(get_part_of_day)\n",
    "df[\"User Last Access Date\"] = df[\"User Last Access Date\"].apply(get_part_of_day)\n"
   ]
  },
  {
   "cell_type": "markdown",
   "metadata": {
    "colab_type": "text",
    "id": "upw_co8vvCtR"
   },
   "source": [
    "One hot encoding function for the date format data"
   ]
  },
  {
   "cell_type": "code",
   "execution_count": 0,
   "metadata": {
    "colab": {},
    "colab_type": "code",
    "id": "JZ1phHD56ulc"
   },
   "outputs": [],
   "source": [
    "def encoder(x):\n",
    "  a = 0.0\n",
    "  b = 0.0\n",
    "  c = 0.0\n",
    "\n",
    "  if(x == \"1\"):\n",
    "    return a,b,c\n",
    "  elif (x == \"2\"):\n",
    "    a = 1.0\n",
    "    return a,b,c\n",
    "  elif (x == \"3\"):\n",
    "    b = 1.0\n",
    "    return a,b,c\n",
    "  else:\n",
    "    c = 1.0\n",
    "    return a,b,c\n",
    "\n",
    "df[\"CreationDate_1\"], df[\"CreationDate_2\"], df[\"CreationDate_3\"] = zip(*df['Creation Date'].map(encoder))\n",
    "df[\"UserCreationDate_1\"], df[\"UserCreationDate_2\"], df[\"UserCreationDate_3\"] = zip(*df['User Creation Date'].map(encoder))\n",
    "df[\"UserLastAccessDate_1\"], df[\"UserLastAccessDate_2\"], df[\"UserLastAccessDate_3\"] = zip(*df['User Last Access Date'].map(encoder))"
   ]
  },
  {
   "cell_type": "markdown",
   "metadata": {
    "colab_type": "text",
    "id": "ijVwhSKPvHX7"
   },
   "source": [
    "Tag count calculated "
   ]
  },
  {
   "cell_type": "code",
   "execution_count": 0,
   "metadata": {
    "colab": {},
    "colab_type": "code",
    "id": "WY4R4ZC25kdS"
   },
   "outputs": [],
   "source": [
    "df['Tag Count'] = df['Tags'].str.count('<')"
   ]
  },
  {
   "cell_type": "markdown",
   "metadata": {
    "colab_type": "text",
    "id": "1Rrx0p7HvK-f"
   },
   "source": [
    "Tags data is cleaned from xml format"
   ]
  },
  {
   "cell_type": "code",
   "execution_count": 0,
   "metadata": {
    "colab": {},
    "colab_type": "code",
    "id": "YmVxo0BlNfo-"
   },
   "outputs": [],
   "source": [
    "df['Tags'] = df['Tags'].str.replace('<', '')\n",
    "df['Tags'] = df['Tags'].str.replace('>', ' ')\n",
    "df['Tags'] = df['Tags'].str.replace('-', ' ')\n",
    "df['Tags'] = df['Tags'].str.split(' ')"
   ]
  },
  {
   "cell_type": "markdown",
   "metadata": {
    "colab_type": "text",
    "id": "2CLHhbecvVmG"
   },
   "source": [
    "To create same data frame for the test data , we have used the tokens that we created from train set's tags data. Updated dataframe according to the existence of tag"
   ]
  },
  {
   "cell_type": "code",
   "execution_count": 0,
   "metadata": {
    "colab": {},
    "colab_type": "code",
    "id": "kZEuoCBt7AC5"
   },
   "outputs": [],
   "source": [
    "alltags = pd.DataFrame(0, index=np.arange(1), columns=tokens)\n",
    "for tag in df.iloc[0]['Tags']:\n",
    "  alltags[tag] = 1\n",
    "\n"
   ]
  },
  {
   "cell_type": "code",
   "execution_count": 0,
   "metadata": {
    "colab": {},
    "colab_type": "code",
    "id": "3-aXaoYh7FjK"
   },
   "outputs": [],
   "source": [
    "alltags\n",
    "q_tags_added=pd.concat([df, alltags], axis=1)"
   ]
  },
  {
   "cell_type": "code",
   "execution_count": 0,
   "metadata": {
    "colab": {},
    "colab_type": "code",
    "id": "hvNePRsm7Juw"
   },
   "outputs": [],
   "source": [
    "q_tags_added = q_tags_added.iloc[:, :-1]"
   ]
  },
  {
   "cell_type": "markdown",
   "metadata": {
    "colab_type": "text",
    "id": "KMt0O5u3v7_N"
   },
   "source": [
    "Data frame after tags are added "
   ]
  },
  {
   "cell_type": "code",
   "execution_count": 0,
   "metadata": {
    "colab": {
     "base_uri": "https://localhost:8080/",
     "height": 299
    },
    "colab_type": "code",
    "id": "THOLolgd7Kgk",
    "outputId": "d505b040-3094-4ce3-9a95-9560fb14394b"
   },
   "outputs": [
    {
     "data": {
      "text/html": [
       "<div>\n",
       "<style scoped>\n",
       "    .dataframe tbody tr th:only-of-type {\n",
       "        vertical-align: middle;\n",
       "    }\n",
       "\n",
       "    .dataframe tbody tr th {\n",
       "        vertical-align: top;\n",
       "    }\n",
       "\n",
       "    .dataframe thead th {\n",
       "        text-align: right;\n",
       "    }\n",
       "</style>\n",
       "<table border=\"1\" class=\"dataframe\">\n",
       "  <thead>\n",
       "    <tr style=\"text-align: right;\">\n",
       "      <th></th>\n",
       "      <th>Question</th>\n",
       "      <th>Title</th>\n",
       "      <th>Creation Date</th>\n",
       "      <th>Tags</th>\n",
       "      <th>User Reputation</th>\n",
       "      <th>User Creation Date</th>\n",
       "      <th>User Last Access Date</th>\n",
       "      <th>User Views</th>\n",
       "      <th>User UpVotes</th>\n",
       "      <th>User DownVotes</th>\n",
       "      <th>CreationDate_1</th>\n",
       "      <th>CreationDate_2</th>\n",
       "      <th>CreationDate_3</th>\n",
       "      <th>UserCreationDate_1</th>\n",
       "      <th>UserCreationDate_2</th>\n",
       "      <th>UserCreationDate_3</th>\n",
       "      <th>UserLastAccessDate_1</th>\n",
       "      <th>UserLastAccessDate_2</th>\n",
       "      <th>UserLastAccessDate_3</th>\n",
       "      <th>Tag Count</th>\n",
       "      <th>academia</th>\n",
       "      <th>accessibility</th>\n",
       "      <th>accuracy</th>\n",
       "      <th>acquisition</th>\n",
       "      <th>action</th>\n",
       "      <th>activation</th>\n",
       "      <th>active</th>\n",
       "      <th>actor</th>\n",
       "      <th>admissible</th>\n",
       "      <th>advantage</th>\n",
       "      <th>adversarial</th>\n",
       "      <th>aesthetics</th>\n",
       "      <th>affective</th>\n",
       "      <th>agent</th>\n",
       "      <th>agents</th>\n",
       "      <th>agi</th>\n",
       "      <th>ai</th>\n",
       "      <th>aixi</th>\n",
       "      <th>algebra</th>\n",
       "      <th>algorithm</th>\n",
       "      <th>...</th>\n",
       "      <th>time</th>\n",
       "      <th>topology</th>\n",
       "      <th>traces</th>\n",
       "      <th>tradeoff</th>\n",
       "      <th>trading</th>\n",
       "      <th>training</th>\n",
       "      <th>transfer</th>\n",
       "      <th>transformer</th>\n",
       "      <th>translation</th>\n",
       "      <th>tree</th>\n",
       "      <th>trpo</th>\n",
       "      <th>turing</th>\n",
       "      <th>uct</th>\n",
       "      <th>underfitting</th>\n",
       "      <th>uniform</th>\n",
       "      <th>unit</th>\n",
       "      <th>universal</th>\n",
       "      <th>unsupervised</th>\n",
       "      <th>utility</th>\n",
       "      <th>validation</th>\n",
       "      <th>value</th>\n",
       "      <th>variable</th>\n",
       "      <th>variance</th>\n",
       "      <th>variational</th>\n",
       "      <th>vc</th>\n",
       "      <th>vectors</th>\n",
       "      <th>vehicles</th>\n",
       "      <th>vision</th>\n",
       "      <th>visualization</th>\n",
       "      <th>voice</th>\n",
       "      <th>wake</th>\n",
       "      <th>watson</th>\n",
       "      <th>weak</th>\n",
       "      <th>weights</th>\n",
       "      <th>wetware</th>\n",
       "      <th>winter</th>\n",
       "      <th>word</th>\n",
       "      <th>word2vec</th>\n",
       "      <th>world</th>\n",
       "      <th>zero</th>\n",
       "    </tr>\n",
       "  </thead>\n",
       "  <tbody>\n",
       "    <tr>\n",
       "      <th>0</th>\n",
       "      <td>As far I know, the RNN accepts a sequence as i...</td>\n",
       "      <td>Are there neural networks that accept graphs o...</td>\n",
       "      <td>2</td>\n",
       "      <td>[neural, networks, graphs, ]</td>\n",
       "      <td>344</td>\n",
       "      <td>2</td>\n",
       "      <td>3</td>\n",
       "      <td>30</td>\n",
       "      <td>0</td>\n",
       "      <td>0</td>\n",
       "      <td>1.0</td>\n",
       "      <td>0.0</td>\n",
       "      <td>0.0</td>\n",
       "      <td>1.0</td>\n",
       "      <td>0.0</td>\n",
       "      <td>0.0</td>\n",
       "      <td>0.0</td>\n",
       "      <td>1.0</td>\n",
       "      <td>0.0</td>\n",
       "      <td>2</td>\n",
       "      <td>0</td>\n",
       "      <td>0</td>\n",
       "      <td>0</td>\n",
       "      <td>0</td>\n",
       "      <td>0</td>\n",
       "      <td>0</td>\n",
       "      <td>0</td>\n",
       "      <td>0</td>\n",
       "      <td>0</td>\n",
       "      <td>0</td>\n",
       "      <td>0</td>\n",
       "      <td>0</td>\n",
       "      <td>0</td>\n",
       "      <td>0</td>\n",
       "      <td>0</td>\n",
       "      <td>0</td>\n",
       "      <td>0</td>\n",
       "      <td>0</td>\n",
       "      <td>0</td>\n",
       "      <td>0</td>\n",
       "      <td>...</td>\n",
       "      <td>0</td>\n",
       "      <td>0</td>\n",
       "      <td>0</td>\n",
       "      <td>0</td>\n",
       "      <td>0</td>\n",
       "      <td>0</td>\n",
       "      <td>0</td>\n",
       "      <td>0</td>\n",
       "      <td>0</td>\n",
       "      <td>0</td>\n",
       "      <td>0</td>\n",
       "      <td>0</td>\n",
       "      <td>0</td>\n",
       "      <td>0</td>\n",
       "      <td>0</td>\n",
       "      <td>0</td>\n",
       "      <td>0</td>\n",
       "      <td>0</td>\n",
       "      <td>0</td>\n",
       "      <td>0</td>\n",
       "      <td>0</td>\n",
       "      <td>0</td>\n",
       "      <td>0</td>\n",
       "      <td>0</td>\n",
       "      <td>0</td>\n",
       "      <td>0</td>\n",
       "      <td>0</td>\n",
       "      <td>0</td>\n",
       "      <td>0</td>\n",
       "      <td>0</td>\n",
       "      <td>0</td>\n",
       "      <td>0</td>\n",
       "      <td>0</td>\n",
       "      <td>0</td>\n",
       "      <td>0</td>\n",
       "      <td>0</td>\n",
       "      <td>0</td>\n",
       "      <td>0</td>\n",
       "      <td>0</td>\n",
       "      <td>0</td>\n",
       "    </tr>\n",
       "  </tbody>\n",
       "</table>\n",
       "<p>1 rows × 604 columns</p>\n",
       "</div>"
      ],
      "text/plain": [
       "                                            Question  ... zero\n",
       "0  As far I know, the RNN accepts a sequence as i...  ...    0\n",
       "\n",
       "[1 rows x 604 columns]"
      ]
     },
     "execution_count": 208,
     "metadata": {
      "tags": []
     },
     "output_type": "execute_result"
    }
   ],
   "source": [
    "q_tags_added"
   ]
  },
  {
   "cell_type": "markdown",
   "metadata": {
    "colab_type": "text",
    "id": "BGxKa-Y4wEfp"
   },
   "source": [
    "Doc2vec method implemented in same manner as train set\n",
    "body and title of the question used together to create vectoral representation of question."
   ]
  },
  {
   "cell_type": "code",
   "execution_count": 0,
   "metadata": {
    "colab": {},
    "colab_type": "code",
    "id": "RJFSFtel7UXH"
   },
   "outputs": [],
   "source": [
    "#words kolonu title ile bodynin birleşmiş hali, \n",
    "q_tags_added['Content'] = q_tags_added[['Title', 'Question']].apply(lambda x: ' '.join(x), axis=1)"
   ]
  },
  {
   "cell_type": "code",
   "execution_count": 0,
   "metadata": {
    "colab": {},
    "colab_type": "code",
    "id": "LBnlxZyKdlMm"
   },
   "outputs": [],
   "source": [
    "q_tags_added['Content'] = q_tags_added['Content'].str.lower().str.split()"
   ]
  },
  {
   "cell_type": "code",
   "execution_count": 0,
   "metadata": {
    "colab": {},
    "colab_type": "code",
    "id": "uT48iRXIddAY"
   },
   "outputs": [],
   "source": [
    "# Set file names for train and test data\n",
    "\n",
    "def read_corpus(fname, tokens_only=False):\n",
    "        for i, line in enumerate(fname):\n",
    "            tokens = gensim.utils.simple_preprocess(line)\n",
    "            if tokens_only:\n",
    "                yield tokens\n",
    "            else:\n",
    "                # For training data, add tags\n",
    "                yield gensim.models.doc2vec.TaggedDocument(tokens, [i])\n",
    "                import numpy as np"
   ]
  },
  {
   "cell_type": "code",
   "execution_count": 0,
   "metadata": {
    "colab": {},
    "colab_type": "code",
    "id": "nDD5VqFxeKC7"
   },
   "outputs": [],
   "source": [
    "from sklearn.model_selection import train_test_split\n",
    "# choose question posts and take body and convert list and with the help of corpus function each question will be presented as documents.\n",
    "\n",
    "#test_corpus = list(read_corpus(b[b[\"PostTypeId\"]==1][\"Body\"], tokens_only=True))\n",
    "q_vecList = []\n",
    "for index, row in q_tags_added.iterrows():\n",
    "\n",
    "  train_corpus = list(read_corpus(row['Content']))\n",
    "  model = gensim.models.doc2vec.Doc2Vec(vector_size=100, min_count=1, epochs=30)\n",
    "  model.build_vocab(train_corpus)\n",
    "  model.train(train_corpus, total_examples=model.corpus_count, epochs=model.epochs)\n",
    "  vector = model.infer_vector(row['Content'])\n",
    "  #print(vector)\n",
    "  q_vecList.append(vector)"
   ]
  },
  {
   "cell_type": "code",
   "execution_count": 0,
   "metadata": {
    "colab": {},
    "colab_type": "code",
    "id": "PpWvuo0peM9i"
   },
   "outputs": [],
   "source": [
    "q_col_list = ['content' + str(x) for x in range(0,100)]"
   ]
  },
  {
   "cell_type": "code",
   "execution_count": 0,
   "metadata": {
    "colab": {},
    "colab_type": "code",
    "id": "M39IwLVK7ihJ"
   },
   "outputs": [],
   "source": [
    "q_doc2vecdf = pd.DataFrame(q_vecList,columns=q_col_list)"
   ]
  },
  {
   "cell_type": "code",
   "execution_count": 0,
   "metadata": {
    "colab": {},
    "colab_type": "code",
    "id": "cPv7AEIf7kG8"
   },
   "outputs": [],
   "source": [
    "final_test=pd.concat([q_tags_added, q_doc2vecdf], axis=1)"
   ]
  },
  {
   "cell_type": "code",
   "execution_count": 0,
   "metadata": {
    "colab": {},
    "colab_type": "code",
    "id": "S64kfWWq7mVy"
   },
   "outputs": [],
   "source": [
    "final_test=final_test.drop(axis=1,columns=[\"Content\",\"Question\",\"Title\",\"Creation Date\",\"Tags\",\"User Creation Date\",\"User Last Access Date\"])"
   ]
  },
  {
   "cell_type": "code",
   "execution_count": 0,
   "metadata": {
    "colab": {},
    "colab_type": "code",
    "id": "VyfoDqcFe2IQ"
   },
   "outputs": [],
   "source": [
    "final_test=final_test.reset_index()"
   ]
  },
  {
   "cell_type": "code",
   "execution_count": 0,
   "metadata": {
    "colab": {},
    "colab_type": "code",
    "id": "RZVPY0C6e5eC"
   },
   "outputs": [],
   "source": [
    "del final_test['index']"
   ]
  },
  {
   "cell_type": "code",
   "execution_count": 0,
   "metadata": {
    "colab": {},
    "colab_type": "code",
    "id": "aCbDbtA07y6j"
   },
   "outputs": [],
   "source": [
    "final_test=final_test.replace(-9223372036854775808,0)"
   ]
  },
  {
   "cell_type": "code",
   "execution_count": 0,
   "metadata": {
    "colab": {},
    "colab_type": "code",
    "id": "s3cm-XE470sj"
   },
   "outputs": [],
   "source": [
    "final_test.sort_index(axis=1, inplace=True)"
   ]
  },
  {
   "cell_type": "markdown",
   "metadata": {
    "colab_type": "text",
    "id": "tImS8mUawV0g"
   },
   "source": [
    "For each question their corresponding 100 columns vector representation added to dataframe . This is final version of test data"
   ]
  },
  {
   "cell_type": "code",
   "execution_count": 0,
   "metadata": {
    "colab": {
     "base_uri": "https://localhost:8080/",
     "height": 146
    },
    "colab_type": "code",
    "id": "Y3rw7m_o72ry",
    "outputId": "0005d46b-dcb5-4ff5-e204-e92322a1ae3a"
   },
   "outputs": [
    {
     "data": {
      "text/html": [
       "<div>\n",
       "<style scoped>\n",
       "    .dataframe tbody tr th:only-of-type {\n",
       "        vertical-align: middle;\n",
       "    }\n",
       "\n",
       "    .dataframe tbody tr th {\n",
       "        vertical-align: top;\n",
       "    }\n",
       "\n",
       "    .dataframe thead th {\n",
       "        text-align: right;\n",
       "    }\n",
       "</style>\n",
       "<table border=\"1\" class=\"dataframe\">\n",
       "  <thead>\n",
       "    <tr style=\"text-align: right;\">\n",
       "      <th></th>\n",
       "      <th>CreationDate_1</th>\n",
       "      <th>CreationDate_2</th>\n",
       "      <th>CreationDate_3</th>\n",
       "      <th>Tag Count</th>\n",
       "      <th>User DownVotes</th>\n",
       "      <th>User Reputation</th>\n",
       "      <th>User UpVotes</th>\n",
       "      <th>User Views</th>\n",
       "      <th>UserCreationDate_1</th>\n",
       "      <th>UserCreationDate_2</th>\n",
       "      <th>UserCreationDate_3</th>\n",
       "      <th>UserLastAccessDate_1</th>\n",
       "      <th>UserLastAccessDate_2</th>\n",
       "      <th>UserLastAccessDate_3</th>\n",
       "      <th>academia</th>\n",
       "      <th>accessibility</th>\n",
       "      <th>accuracy</th>\n",
       "      <th>acquisition</th>\n",
       "      <th>action</th>\n",
       "      <th>activation</th>\n",
       "      <th>active</th>\n",
       "      <th>actor</th>\n",
       "      <th>admissible</th>\n",
       "      <th>advantage</th>\n",
       "      <th>adversarial</th>\n",
       "      <th>aesthetics</th>\n",
       "      <th>affective</th>\n",
       "      <th>agent</th>\n",
       "      <th>agents</th>\n",
       "      <th>agi</th>\n",
       "      <th>ai</th>\n",
       "      <th>aixi</th>\n",
       "      <th>algebra</th>\n",
       "      <th>algorithm</th>\n",
       "      <th>algorithmic</th>\n",
       "      <th>algorithms</th>\n",
       "      <th>alignment</th>\n",
       "      <th>alpha</th>\n",
       "      <th>alphago</th>\n",
       "      <th>alphazero</th>\n",
       "      <th>...</th>\n",
       "      <th>time</th>\n",
       "      <th>topology</th>\n",
       "      <th>traces</th>\n",
       "      <th>tradeoff</th>\n",
       "      <th>trading</th>\n",
       "      <th>training</th>\n",
       "      <th>transfer</th>\n",
       "      <th>transformer</th>\n",
       "      <th>translation</th>\n",
       "      <th>tree</th>\n",
       "      <th>trpo</th>\n",
       "      <th>turing</th>\n",
       "      <th>uct</th>\n",
       "      <th>underfitting</th>\n",
       "      <th>uniform</th>\n",
       "      <th>unit</th>\n",
       "      <th>universal</th>\n",
       "      <th>unsupervised</th>\n",
       "      <th>utility</th>\n",
       "      <th>validation</th>\n",
       "      <th>value</th>\n",
       "      <th>variable</th>\n",
       "      <th>variance</th>\n",
       "      <th>variational</th>\n",
       "      <th>vc</th>\n",
       "      <th>vectors</th>\n",
       "      <th>vehicles</th>\n",
       "      <th>vision</th>\n",
       "      <th>visualization</th>\n",
       "      <th>voice</th>\n",
       "      <th>wake</th>\n",
       "      <th>watson</th>\n",
       "      <th>weak</th>\n",
       "      <th>weights</th>\n",
       "      <th>wetware</th>\n",
       "      <th>winter</th>\n",
       "      <th>word</th>\n",
       "      <th>word2vec</th>\n",
       "      <th>world</th>\n",
       "      <th>zero</th>\n",
       "    </tr>\n",
       "  </thead>\n",
       "  <tbody>\n",
       "    <tr>\n",
       "      <th>0</th>\n",
       "      <td>1.0</td>\n",
       "      <td>0.0</td>\n",
       "      <td>0.0</td>\n",
       "      <td>2</td>\n",
       "      <td>0</td>\n",
       "      <td>344</td>\n",
       "      <td>0</td>\n",
       "      <td>30</td>\n",
       "      <td>1.0</td>\n",
       "      <td>0.0</td>\n",
       "      <td>0.0</td>\n",
       "      <td>0.0</td>\n",
       "      <td>1.0</td>\n",
       "      <td>0.0</td>\n",
       "      <td>0</td>\n",
       "      <td>0</td>\n",
       "      <td>0</td>\n",
       "      <td>0</td>\n",
       "      <td>0</td>\n",
       "      <td>0</td>\n",
       "      <td>0</td>\n",
       "      <td>0</td>\n",
       "      <td>0</td>\n",
       "      <td>0</td>\n",
       "      <td>0</td>\n",
       "      <td>0</td>\n",
       "      <td>0</td>\n",
       "      <td>0</td>\n",
       "      <td>0</td>\n",
       "      <td>0</td>\n",
       "      <td>0</td>\n",
       "      <td>0</td>\n",
       "      <td>0</td>\n",
       "      <td>0</td>\n",
       "      <td>0</td>\n",
       "      <td>0</td>\n",
       "      <td>0</td>\n",
       "      <td>0</td>\n",
       "      <td>0</td>\n",
       "      <td>0</td>\n",
       "      <td>...</td>\n",
       "      <td>0</td>\n",
       "      <td>0</td>\n",
       "      <td>0</td>\n",
       "      <td>0</td>\n",
       "      <td>0</td>\n",
       "      <td>0</td>\n",
       "      <td>0</td>\n",
       "      <td>0</td>\n",
       "      <td>0</td>\n",
       "      <td>0</td>\n",
       "      <td>0</td>\n",
       "      <td>0</td>\n",
       "      <td>0</td>\n",
       "      <td>0</td>\n",
       "      <td>0</td>\n",
       "      <td>0</td>\n",
       "      <td>0</td>\n",
       "      <td>0</td>\n",
       "      <td>0</td>\n",
       "      <td>0</td>\n",
       "      <td>0</td>\n",
       "      <td>0</td>\n",
       "      <td>0</td>\n",
       "      <td>0</td>\n",
       "      <td>0</td>\n",
       "      <td>0</td>\n",
       "      <td>0</td>\n",
       "      <td>0</td>\n",
       "      <td>0</td>\n",
       "      <td>0</td>\n",
       "      <td>0</td>\n",
       "      <td>0</td>\n",
       "      <td>0</td>\n",
       "      <td>0</td>\n",
       "      <td>0</td>\n",
       "      <td>0</td>\n",
       "      <td>0</td>\n",
       "      <td>0</td>\n",
       "      <td>0</td>\n",
       "      <td>0</td>\n",
       "    </tr>\n",
       "  </tbody>\n",
       "</table>\n",
       "<p>1 rows × 698 columns</p>\n",
       "</div>"
      ],
      "text/plain": [
       "   CreationDate_1  CreationDate_2  CreationDate_3  ...  word2vec  world  zero\n",
       "0             1.0             0.0             0.0  ...         0      0     0\n",
       "\n",
       "[1 rows x 698 columns]"
      ]
     },
     "execution_count": 221,
     "metadata": {
      "tags": []
     },
     "output_type": "execute_result"
    }
   ],
   "source": [
    "final_test"
   ]
  },
  {
   "cell_type": "code",
   "execution_count": 0,
   "metadata": {
    "colab": {
     "base_uri": "https://localhost:8080/",
     "height": 146
    },
    "colab_type": "code",
    "id": "v5FOvTIG85sR",
    "outputId": "2beef800-f2a7-469f-8596-8d0b0a95e8f2"
   },
   "outputs": [
    {
     "data": {
      "text/html": [
       "<div>\n",
       "<style scoped>\n",
       "    .dataframe tbody tr th:only-of-type {\n",
       "        vertical-align: middle;\n",
       "    }\n",
       "\n",
       "    .dataframe tbody tr th {\n",
       "        vertical-align: top;\n",
       "    }\n",
       "\n",
       "    .dataframe thead th {\n",
       "        text-align: right;\n",
       "    }\n",
       "</style>\n",
       "<table border=\"1\" class=\"dataframe\">\n",
       "  <thead>\n",
       "    <tr style=\"text-align: right;\">\n",
       "      <th></th>\n",
       "      <th>CreationDate_1</th>\n",
       "      <th>CreationDate_2</th>\n",
       "      <th>CreationDate_3</th>\n",
       "      <th>IsAnswered</th>\n",
       "      <th>Tag Count</th>\n",
       "      <th>User DownVotes</th>\n",
       "      <th>User Reputation</th>\n",
       "      <th>User UpVotes</th>\n",
       "      <th>User Views</th>\n",
       "      <th>UserCreationDate_1</th>\n",
       "      <th>UserCreationDate_2</th>\n",
       "      <th>UserCreationDate_3</th>\n",
       "      <th>UserLastAccessDate_1</th>\n",
       "      <th>UserLastAccessDate_2</th>\n",
       "      <th>UserLastAccessDate_3</th>\n",
       "      <th>academia</th>\n",
       "      <th>accessibility</th>\n",
       "      <th>accuracy</th>\n",
       "      <th>acquisition</th>\n",
       "      <th>action</th>\n",
       "      <th>activation</th>\n",
       "      <th>active</th>\n",
       "      <th>actor</th>\n",
       "      <th>admissible</th>\n",
       "      <th>advantage</th>\n",
       "      <th>adversarial</th>\n",
       "      <th>aesthetics</th>\n",
       "      <th>affective</th>\n",
       "      <th>agent</th>\n",
       "      <th>agents</th>\n",
       "      <th>agi</th>\n",
       "      <th>ai</th>\n",
       "      <th>aixi</th>\n",
       "      <th>algebra</th>\n",
       "      <th>algorithm</th>\n",
       "      <th>algorithmic</th>\n",
       "      <th>algorithms</th>\n",
       "      <th>alignment</th>\n",
       "      <th>alpha</th>\n",
       "      <th>alphago</th>\n",
       "      <th>...</th>\n",
       "      <th>time</th>\n",
       "      <th>topology</th>\n",
       "      <th>traces</th>\n",
       "      <th>tradeoff</th>\n",
       "      <th>trading</th>\n",
       "      <th>training</th>\n",
       "      <th>transfer</th>\n",
       "      <th>transformer</th>\n",
       "      <th>translation</th>\n",
       "      <th>tree</th>\n",
       "      <th>trpo</th>\n",
       "      <th>turing</th>\n",
       "      <th>uct</th>\n",
       "      <th>underfitting</th>\n",
       "      <th>uniform</th>\n",
       "      <th>unit</th>\n",
       "      <th>universal</th>\n",
       "      <th>unsupervised</th>\n",
       "      <th>utility</th>\n",
       "      <th>validation</th>\n",
       "      <th>value</th>\n",
       "      <th>variable</th>\n",
       "      <th>variance</th>\n",
       "      <th>variational</th>\n",
       "      <th>vc</th>\n",
       "      <th>vectors</th>\n",
       "      <th>vehicles</th>\n",
       "      <th>vision</th>\n",
       "      <th>visualization</th>\n",
       "      <th>voice</th>\n",
       "      <th>wake</th>\n",
       "      <th>watson</th>\n",
       "      <th>weak</th>\n",
       "      <th>weights</th>\n",
       "      <th>wetware</th>\n",
       "      <th>winter</th>\n",
       "      <th>word</th>\n",
       "      <th>word2vec</th>\n",
       "      <th>world</th>\n",
       "      <th>zero</th>\n",
       "    </tr>\n",
       "  </thead>\n",
       "  <tbody>\n",
       "    <tr>\n",
       "      <th>0</th>\n",
       "      <td>0.0</td>\n",
       "      <td>0.0</td>\n",
       "      <td>0.0</td>\n",
       "      <td>0</td>\n",
       "      <td>2</td>\n",
       "      <td>117</td>\n",
       "      <td>2457</td>\n",
       "      <td>177</td>\n",
       "      <td>691</td>\n",
       "      <td>1.0</td>\n",
       "      <td>0.0</td>\n",
       "      <td>0.0</td>\n",
       "      <td>0.0</td>\n",
       "      <td>1.0</td>\n",
       "      <td>0.0</td>\n",
       "      <td>0</td>\n",
       "      <td>0</td>\n",
       "      <td>0</td>\n",
       "      <td>0</td>\n",
       "      <td>0</td>\n",
       "      <td>0</td>\n",
       "      <td>0</td>\n",
       "      <td>0</td>\n",
       "      <td>0</td>\n",
       "      <td>0</td>\n",
       "      <td>0</td>\n",
       "      <td>0</td>\n",
       "      <td>0</td>\n",
       "      <td>0</td>\n",
       "      <td>0</td>\n",
       "      <td>0</td>\n",
       "      <td>1</td>\n",
       "      <td>0</td>\n",
       "      <td>0</td>\n",
       "      <td>1</td>\n",
       "      <td>0</td>\n",
       "      <td>0</td>\n",
       "      <td>0</td>\n",
       "      <td>0</td>\n",
       "      <td>0</td>\n",
       "      <td>...</td>\n",
       "      <td>0</td>\n",
       "      <td>0</td>\n",
       "      <td>0</td>\n",
       "      <td>0</td>\n",
       "      <td>0</td>\n",
       "      <td>0</td>\n",
       "      <td>0</td>\n",
       "      <td>0</td>\n",
       "      <td>0</td>\n",
       "      <td>0</td>\n",
       "      <td>0</td>\n",
       "      <td>0</td>\n",
       "      <td>0</td>\n",
       "      <td>0</td>\n",
       "      <td>0</td>\n",
       "      <td>0</td>\n",
       "      <td>0</td>\n",
       "      <td>0</td>\n",
       "      <td>0</td>\n",
       "      <td>0</td>\n",
       "      <td>0</td>\n",
       "      <td>0</td>\n",
       "      <td>0</td>\n",
       "      <td>0</td>\n",
       "      <td>0</td>\n",
       "      <td>0</td>\n",
       "      <td>0</td>\n",
       "      <td>0</td>\n",
       "      <td>0</td>\n",
       "      <td>0</td>\n",
       "      <td>0</td>\n",
       "      <td>0</td>\n",
       "      <td>0</td>\n",
       "      <td>0</td>\n",
       "      <td>0</td>\n",
       "      <td>0</td>\n",
       "      <td>0</td>\n",
       "      <td>0</td>\n",
       "      <td>0</td>\n",
       "      <td>0</td>\n",
       "    </tr>\n",
       "  </tbody>\n",
       "</table>\n",
       "<p>1 rows × 699 columns</p>\n",
       "</div>"
      ],
      "text/plain": [
       "   CreationDate_1  CreationDate_2  CreationDate_3  ...  word2vec  world  zero\n",
       "0             0.0             0.0             0.0  ...         0      0     0\n",
       "\n",
       "[1 rows x 699 columns]"
      ]
     },
     "execution_count": 222,
     "metadata": {
      "tags": []
     },
     "output_type": "execute_result"
    }
   ],
   "source": [
    "shuffled_final.head(1)"
   ]
  },
  {
   "cell_type": "markdown",
   "metadata": {
    "colab_type": "text",
    "id": "_7rALoEWw6Yu"
   },
   "source": [
    "There are total 5046 questions when we merged user.xml data and posts.xml data . 3811 of them is answered ,1235 of them is not answered"
   ]
  },
  {
   "cell_type": "code",
   "execution_count": 0,
   "metadata": {
    "colab": {
     "base_uri": "https://localhost:8080/",
     "height": 208
    },
    "colab_type": "code",
    "id": "sGUsFrJqkzDK",
    "outputId": "f9fcf394-cdc5-40b5-a05d-57ec18a41ba5"
   },
   "outputs": [
    {
     "data": {
      "text/html": [
       "<div>\n",
       "<style scoped>\n",
       "    .dataframe tbody tr th:only-of-type {\n",
       "        vertical-align: middle;\n",
       "    }\n",
       "\n",
       "    .dataframe tbody tr th {\n",
       "        vertical-align: top;\n",
       "    }\n",
       "\n",
       "    .dataframe thead th {\n",
       "        text-align: right;\n",
       "    }\n",
       "</style>\n",
       "<table border=\"1\" class=\"dataframe\">\n",
       "  <thead>\n",
       "    <tr style=\"text-align: right;\">\n",
       "      <th></th>\n",
       "      <th>CreationDate_1</th>\n",
       "      <th>CreationDate_2</th>\n",
       "      <th>CreationDate_3</th>\n",
       "      <th>Tag Count</th>\n",
       "      <th>User DownVotes</th>\n",
       "      <th>User Reputation</th>\n",
       "      <th>User UpVotes</th>\n",
       "      <th>User Views</th>\n",
       "      <th>UserCreationDate_1</th>\n",
       "      <th>UserCreationDate_2</th>\n",
       "      <th>UserCreationDate_3</th>\n",
       "      <th>UserLastAccessDate_1</th>\n",
       "      <th>UserLastAccessDate_2</th>\n",
       "      <th>UserLastAccessDate_3</th>\n",
       "      <th>academia</th>\n",
       "      <th>accessibility</th>\n",
       "      <th>accuracy</th>\n",
       "      <th>acquisition</th>\n",
       "      <th>action</th>\n",
       "      <th>activation</th>\n",
       "      <th>active</th>\n",
       "      <th>actor</th>\n",
       "      <th>admissible</th>\n",
       "      <th>advantage</th>\n",
       "      <th>adversarial</th>\n",
       "      <th>aesthetics</th>\n",
       "      <th>affective</th>\n",
       "      <th>agent</th>\n",
       "      <th>agents</th>\n",
       "      <th>agi</th>\n",
       "      <th>ai</th>\n",
       "      <th>aixi</th>\n",
       "      <th>algebra</th>\n",
       "      <th>algorithm</th>\n",
       "      <th>algorithmic</th>\n",
       "      <th>algorithms</th>\n",
       "      <th>alignment</th>\n",
       "      <th>alpha</th>\n",
       "      <th>alphago</th>\n",
       "      <th>alphazero</th>\n",
       "      <th>...</th>\n",
       "      <th>time</th>\n",
       "      <th>topology</th>\n",
       "      <th>traces</th>\n",
       "      <th>tradeoff</th>\n",
       "      <th>trading</th>\n",
       "      <th>training</th>\n",
       "      <th>transfer</th>\n",
       "      <th>transformer</th>\n",
       "      <th>translation</th>\n",
       "      <th>tree</th>\n",
       "      <th>trpo</th>\n",
       "      <th>turing</th>\n",
       "      <th>uct</th>\n",
       "      <th>underfitting</th>\n",
       "      <th>uniform</th>\n",
       "      <th>unit</th>\n",
       "      <th>universal</th>\n",
       "      <th>unsupervised</th>\n",
       "      <th>utility</th>\n",
       "      <th>validation</th>\n",
       "      <th>value</th>\n",
       "      <th>variable</th>\n",
       "      <th>variance</th>\n",
       "      <th>variational</th>\n",
       "      <th>vc</th>\n",
       "      <th>vectors</th>\n",
       "      <th>vehicles</th>\n",
       "      <th>vision</th>\n",
       "      <th>visualization</th>\n",
       "      <th>voice</th>\n",
       "      <th>wake</th>\n",
       "      <th>watson</th>\n",
       "      <th>weak</th>\n",
       "      <th>weights</th>\n",
       "      <th>wetware</th>\n",
       "      <th>winter</th>\n",
       "      <th>word</th>\n",
       "      <th>word2vec</th>\n",
       "      <th>world</th>\n",
       "      <th>zero</th>\n",
       "    </tr>\n",
       "    <tr>\n",
       "      <th>IsAnswered</th>\n",
       "      <th></th>\n",
       "      <th></th>\n",
       "      <th></th>\n",
       "      <th></th>\n",
       "      <th></th>\n",
       "      <th></th>\n",
       "      <th></th>\n",
       "      <th></th>\n",
       "      <th></th>\n",
       "      <th></th>\n",
       "      <th></th>\n",
       "      <th></th>\n",
       "      <th></th>\n",
       "      <th></th>\n",
       "      <th></th>\n",
       "      <th></th>\n",
       "      <th></th>\n",
       "      <th></th>\n",
       "      <th></th>\n",
       "      <th></th>\n",
       "      <th></th>\n",
       "      <th></th>\n",
       "      <th></th>\n",
       "      <th></th>\n",
       "      <th></th>\n",
       "      <th></th>\n",
       "      <th></th>\n",
       "      <th></th>\n",
       "      <th></th>\n",
       "      <th></th>\n",
       "      <th></th>\n",
       "      <th></th>\n",
       "      <th></th>\n",
       "      <th></th>\n",
       "      <th></th>\n",
       "      <th></th>\n",
       "      <th></th>\n",
       "      <th></th>\n",
       "      <th></th>\n",
       "      <th></th>\n",
       "      <th></th>\n",
       "      <th></th>\n",
       "      <th></th>\n",
       "      <th></th>\n",
       "      <th></th>\n",
       "      <th></th>\n",
       "      <th></th>\n",
       "      <th></th>\n",
       "      <th></th>\n",
       "      <th></th>\n",
       "      <th></th>\n",
       "      <th></th>\n",
       "      <th></th>\n",
       "      <th></th>\n",
       "      <th></th>\n",
       "      <th></th>\n",
       "      <th></th>\n",
       "      <th></th>\n",
       "      <th></th>\n",
       "      <th></th>\n",
       "      <th></th>\n",
       "      <th></th>\n",
       "      <th></th>\n",
       "      <th></th>\n",
       "      <th></th>\n",
       "      <th></th>\n",
       "      <th></th>\n",
       "      <th></th>\n",
       "      <th></th>\n",
       "      <th></th>\n",
       "      <th></th>\n",
       "      <th></th>\n",
       "      <th></th>\n",
       "      <th></th>\n",
       "      <th></th>\n",
       "      <th></th>\n",
       "      <th></th>\n",
       "      <th></th>\n",
       "      <th></th>\n",
       "      <th></th>\n",
       "      <th></th>\n",
       "    </tr>\n",
       "  </thead>\n",
       "  <tbody>\n",
       "    <tr>\n",
       "      <th>0</th>\n",
       "      <td>1235</td>\n",
       "      <td>1235</td>\n",
       "      <td>1235</td>\n",
       "      <td>1235</td>\n",
       "      <td>1235</td>\n",
       "      <td>1235</td>\n",
       "      <td>1235</td>\n",
       "      <td>1235</td>\n",
       "      <td>1235</td>\n",
       "      <td>1235</td>\n",
       "      <td>1235</td>\n",
       "      <td>1235</td>\n",
       "      <td>1235</td>\n",
       "      <td>1235</td>\n",
       "      <td>1235</td>\n",
       "      <td>1235</td>\n",
       "      <td>1235</td>\n",
       "      <td>1235</td>\n",
       "      <td>1235</td>\n",
       "      <td>1235</td>\n",
       "      <td>1235</td>\n",
       "      <td>1235</td>\n",
       "      <td>1235</td>\n",
       "      <td>1235</td>\n",
       "      <td>1235</td>\n",
       "      <td>1235</td>\n",
       "      <td>1235</td>\n",
       "      <td>1235</td>\n",
       "      <td>1235</td>\n",
       "      <td>1235</td>\n",
       "      <td>1235</td>\n",
       "      <td>1235</td>\n",
       "      <td>1235</td>\n",
       "      <td>1235</td>\n",
       "      <td>1235</td>\n",
       "      <td>1235</td>\n",
       "      <td>1235</td>\n",
       "      <td>1235</td>\n",
       "      <td>1235</td>\n",
       "      <td>1235</td>\n",
       "      <td>...</td>\n",
       "      <td>1235</td>\n",
       "      <td>1235</td>\n",
       "      <td>1235</td>\n",
       "      <td>1235</td>\n",
       "      <td>1235</td>\n",
       "      <td>1235</td>\n",
       "      <td>1235</td>\n",
       "      <td>1235</td>\n",
       "      <td>1235</td>\n",
       "      <td>1235</td>\n",
       "      <td>1235</td>\n",
       "      <td>1235</td>\n",
       "      <td>1235</td>\n",
       "      <td>1235</td>\n",
       "      <td>1235</td>\n",
       "      <td>1235</td>\n",
       "      <td>1235</td>\n",
       "      <td>1235</td>\n",
       "      <td>1235</td>\n",
       "      <td>1235</td>\n",
       "      <td>1235</td>\n",
       "      <td>1235</td>\n",
       "      <td>1235</td>\n",
       "      <td>1235</td>\n",
       "      <td>1235</td>\n",
       "      <td>1235</td>\n",
       "      <td>1235</td>\n",
       "      <td>1235</td>\n",
       "      <td>1235</td>\n",
       "      <td>1235</td>\n",
       "      <td>1235</td>\n",
       "      <td>1235</td>\n",
       "      <td>1235</td>\n",
       "      <td>1235</td>\n",
       "      <td>1235</td>\n",
       "      <td>1235</td>\n",
       "      <td>1235</td>\n",
       "      <td>1235</td>\n",
       "      <td>1235</td>\n",
       "      <td>1235</td>\n",
       "    </tr>\n",
       "    <tr>\n",
       "      <th>1</th>\n",
       "      <td>3811</td>\n",
       "      <td>3811</td>\n",
       "      <td>3811</td>\n",
       "      <td>3811</td>\n",
       "      <td>3811</td>\n",
       "      <td>3811</td>\n",
       "      <td>3811</td>\n",
       "      <td>3811</td>\n",
       "      <td>3811</td>\n",
       "      <td>3811</td>\n",
       "      <td>3811</td>\n",
       "      <td>3811</td>\n",
       "      <td>3811</td>\n",
       "      <td>3811</td>\n",
       "      <td>3811</td>\n",
       "      <td>3811</td>\n",
       "      <td>3811</td>\n",
       "      <td>3811</td>\n",
       "      <td>3811</td>\n",
       "      <td>3811</td>\n",
       "      <td>3811</td>\n",
       "      <td>3811</td>\n",
       "      <td>3811</td>\n",
       "      <td>3811</td>\n",
       "      <td>3811</td>\n",
       "      <td>3811</td>\n",
       "      <td>3811</td>\n",
       "      <td>3811</td>\n",
       "      <td>3811</td>\n",
       "      <td>3811</td>\n",
       "      <td>3811</td>\n",
       "      <td>3811</td>\n",
       "      <td>3811</td>\n",
       "      <td>3811</td>\n",
       "      <td>3811</td>\n",
       "      <td>3811</td>\n",
       "      <td>3811</td>\n",
       "      <td>3811</td>\n",
       "      <td>3811</td>\n",
       "      <td>3811</td>\n",
       "      <td>...</td>\n",
       "      <td>3811</td>\n",
       "      <td>3811</td>\n",
       "      <td>3811</td>\n",
       "      <td>3811</td>\n",
       "      <td>3811</td>\n",
       "      <td>3811</td>\n",
       "      <td>3811</td>\n",
       "      <td>3811</td>\n",
       "      <td>3811</td>\n",
       "      <td>3811</td>\n",
       "      <td>3811</td>\n",
       "      <td>3811</td>\n",
       "      <td>3811</td>\n",
       "      <td>3811</td>\n",
       "      <td>3811</td>\n",
       "      <td>3811</td>\n",
       "      <td>3811</td>\n",
       "      <td>3811</td>\n",
       "      <td>3811</td>\n",
       "      <td>3811</td>\n",
       "      <td>3811</td>\n",
       "      <td>3811</td>\n",
       "      <td>3811</td>\n",
       "      <td>3811</td>\n",
       "      <td>3811</td>\n",
       "      <td>3811</td>\n",
       "      <td>3811</td>\n",
       "      <td>3811</td>\n",
       "      <td>3811</td>\n",
       "      <td>3811</td>\n",
       "      <td>3811</td>\n",
       "      <td>3811</td>\n",
       "      <td>3811</td>\n",
       "      <td>3811</td>\n",
       "      <td>3811</td>\n",
       "      <td>3811</td>\n",
       "      <td>3811</td>\n",
       "      <td>3811</td>\n",
       "      <td>3811</td>\n",
       "      <td>3811</td>\n",
       "    </tr>\n",
       "  </tbody>\n",
       "</table>\n",
       "<p>2 rows × 698 columns</p>\n",
       "</div>"
      ],
      "text/plain": [
       "            CreationDate_1  CreationDate_2  ...  world  zero\n",
       "IsAnswered                                  ...             \n",
       "0                     1235            1235  ...   1235  1235\n",
       "1                     3811            3811  ...   3811  3811\n",
       "\n",
       "[2 rows x 698 columns]"
      ]
     },
     "execution_count": 223,
     "metadata": {
      "tags": []
     },
     "output_type": "execute_result"
    }
   ],
   "source": [
    "shuffled_final.groupby(\"IsAnswered\").count()"
   ]
  },
  {
   "cell_type": "code",
   "execution_count": 0,
   "metadata": {
    "colab": {},
    "colab_type": "code",
    "id": "ouLqRCDehu19"
   },
   "outputs": [],
   "source": [
    "xtrain = shuffled_final.drop(axis = 1, columns=['IsAnswered'])\n",
    "labels = shuffled_final['IsAnswered']"
   ]
  },
  {
   "cell_type": "markdown",
   "metadata": {
    "colab_type": "text",
    "id": "3CJzcUvlxuXr"
   },
   "source": [
    "For the question that has been used as test question: The model predicted that, the question will be answered with 83% probability. This is the final model result for the user interface implementation. Different models have been tried and results of them has shown in the report. This model worked with ≈ 80% accuracy when the data is divided into train and test set."
   ]
  },
  {
   "cell_type": "code",
   "execution_count": 0,
   "metadata": {
    "colab": {
     "base_uri": "https://localhost:8080/",
     "height": 34
    },
    "colab_type": "code",
    "id": "NYLn5Zhil8cE",
    "outputId": "a8b60a25-933e-40a9-b304-ef6d6232d610"
   },
   "outputs": [
    {
     "name": "stdout",
     "output_type": "stream",
     "text": [
      " Predicted=[0.19048994 0.80951006]\n"
     ]
    }
   ],
   "source": [
    "# fit final model\n",
    "rfm=RandomForestClassifier(bootstrap = True,n_estimators=100,min_samples_leaf=1,\n",
    "                           random_state=50, max_depth= 50,min_samples_split= 20)\n",
    "\n",
    "rfm.fit(xtrain,labels)\n",
    "\n",
    "ynew = rfm.predict_proba(final_test)\n",
    "# show the inputs and predicted outputs\n",
    "for i in range(len(final_test)):\n",
    "\tprint(\" Predicted=%s\" % (ynew[i]))"
   ]
  },
  {
   "cell_type": "markdown",
   "metadata": {
    "colab_type": "text",
    "id": "rg9DJK2kIjuk"
   },
   "source": [
    "The printed results show that\n",
    "\n",
    "* The question is predicted to be answered with ≈ 81% probability\n",
    "* The question is predicted to be not answered with ≈ 19% probability"
   ]
  }
 ],
 "metadata": {
  "colab": {
   "collapsed_sections": [],
   "name": "Task1_will_my_question_get_answered.ipynb",
   "provenance": []
  },
  "kernelspec": {
   "display_name": "Python 3",
   "language": "python",
   "name": "python3"
  },
  "language_info": {
   "codemirror_mode": {
    "name": "ipython",
    "version": 3
   },
   "file_extension": ".py",
   "mimetype": "text/x-python",
   "name": "python",
   "nbconvert_exporter": "python",
   "pygments_lexer": "ipython3",
   "version": "3.7.3"
  }
 },
 "nbformat": 4,
 "nbformat_minor": 1
}
